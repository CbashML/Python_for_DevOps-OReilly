{
 "cells": [
  {
   "cell_type": "code",
   "execution_count": null,
   "metadata": {},
   "outputs": [],
   "source": [
    "## Reading and Writing Files ##"
   ]
  },
  {
   "cell_type": "code",
   "execution_count": null,
   "metadata": {},
   "outputs": [],
   "source": [
    "file_path = 'resources/Backtrackingv1.4.txt'\n",
    "file = open(file_path, 'r')\n",
    "text = file.read()\n",
    "len(text)"
   ]
  },
  {
   "cell_type": "code",
   "execution_count": null,
   "metadata": {},
   "outputs": [],
   "source": [
    "text[76]"
   ]
  },
  {
   "cell_type": "code",
   "execution_count": null,
   "metadata": {},
   "outputs": [],
   "source": [
    "file"
   ]
  },
  {
   "cell_type": "code",
   "execution_count": null,
   "metadata": {},
   "outputs": [],
   "source": [
    "for cth in range(70, 140):\n",
    "    print(text[cth])"
   ]
  },
  {
   "cell_type": "code",
   "execution_count": null,
   "metadata": {},
   "outputs": [],
   "source": [
    "file.close()"
   ]
  },
  {
   "cell_type": "code",
   "execution_count": null,
   "metadata": {},
   "outputs": [],
   "source": [
    "path = \"resources/Backtrackingv1.4.txt\"\n",
    "file = open(path, \"r\")\n",
    "text = file.readlines()\n",
    "len(text)"
   ]
  },
  {
   "cell_type": "code",
   "execution_count": null,
   "metadata": {},
   "outputs": [],
   "source": [
    "text[100]"
   ]
  },
  {
   "cell_type": "code",
   "execution_count": null,
   "metadata": {},
   "outputs": [],
   "source": [
    "for lth in range(102, 128):\n",
    "    print(f\"Line {lth} >> {text[lth]}\")"
   ]
  },
  {
   "cell_type": "code",
   "execution_count": null,
   "metadata": {},
   "outputs": [],
   "source": [
    "file.close()"
   ]
  },
  {
   "cell_type": "code",
   "execution_count": null,
   "metadata": {},
   "outputs": [],
   "source": [
    "with open(\"resources/Backtrackingv1.4.txt\", 'r') as file:\n",
    "    text = file.readlines()\n",
    "    \n",
    "text[126]"
   ]
  },
  {
   "cell_type": "code",
   "execution_count": null,
   "metadata": {},
   "outputs": [],
   "source": [
    "file.closed"
   ]
  },
  {
   "cell_type": "code",
   "execution_count": null,
   "metadata": {},
   "outputs": [],
   "source": [
    "path = \"resources/backtrack.png\"\n",
    "with open(path, 'rb') as file:\n",
    "    btext = file.read()\n",
    "    \n",
    "btext[0]"
   ]
  },
  {
   "cell_type": "code",
   "execution_count": null,
   "metadata": {},
   "outputs": [],
   "source": [
    "btext[:124]"
   ]
  },
  {
   "cell_type": "code",
   "execution_count": null,
   "metadata": {},
   "outputs": [],
   "source": [
    "text = '''\n",
    "export STAGE=PROD\n",
    "export TABLE_ID=token-storage-1234\n",
    "'''\n",
    "\n",
    "with open('.envrc', 'w') as file:\n",
    "    file.write(text)\n",
    "    \n",
    "!cat .envrc"
   ]
  },
  {
   "cell_type": "code",
   "execution_count": null,
   "metadata": {},
   "outputs": [],
   "source": [
    "import pathlib\n",
    "\n",
    "file = pathlib.Path(\"./resources/Backtrackingv1.4.txt\")\n",
    "file.read_text()"
   ]
  },
  {
   "cell_type": "code",
   "execution_count": null,
   "metadata": {},
   "outputs": [],
   "source": [
    "bin_file = pathlib.Path(\"./resources/backtrack.png\")\n",
    "bin_file.read_bytes()"
   ]
  },
  {
   "cell_type": "code",
   "execution_count": null,
   "metadata": {},
   "outputs": [],
   "source": [
    "file = pathlib.Path(\"./resources/sp.config\")\n",
    "file.write_text(\"LOG:DEBUG\")"
   ]
  },
  {
   "cell_type": "code",
   "execution_count": null,
   "metadata": {},
   "outputs": [],
   "source": [
    "file = pathlib.Path(\"./resources/sp\")\n",
    "file"
   ]
  },
  {
   "cell_type": "code",
   "execution_count": null,
   "metadata": {},
   "outputs": [],
   "source": [
    "text = '''{\n",
    "    \"Version\": \"2012-10-17\",\n",
    "    \"Statement\": {\n",
    "        \"Effect\": \"Allow\",\n",
    "        \"Action\": \"service-prefix:action-name\",\n",
    "        \"Resources\": \"*\",\n",
    "        \"Condition\": {\n",
    "            \"DateGreaterThan\": {\"aws:CurrentTime\": \"2017-07-01T00:00:000Z\"},\n",
    "            \"DateLessThan\": {\"aws:CurrentTime\": \"2017-12-31T23:59:59Z\"}\n",
    "        }\n",
    "    }\n",
    "}'''\n",
    "\n",
    "with open('resources/service-policy.json', 'w') as file:\n",
    "    file.write(text)\n",
    "    \n",
    "!cat resources/service-policy.json\n",
    "\n",
    "print(f\"\\n\\nIs the file closed? {file.closed}\\n\")"
   ]
  },
  {
   "cell_type": "code",
   "execution_count": null,
   "metadata": {},
   "outputs": [],
   "source": [
    "with open('./resources/service-policy.json', 'r') as service_policy:\n",
    "    text = service_policy.readlines()\n",
    "    \n",
    "text[4] "
   ]
  },
  {
   "cell_type": "code",
   "execution_count": null,
   "metadata": {},
   "outputs": [],
   "source": [
    "file = pathlib.Path(\"resources/service-policy.json\")\n",
    "file.read_text()"
   ]
  },
  {
   "cell_type": "code",
   "execution_count": null,
   "metadata": {},
   "outputs": [],
   "source": [
    "from pprint import pprint\n",
    "import json\n",
    "\n",
    "with open(\"resources/service-policy.json\", 'r') as file:\n",
    "    service_policy = json.load(file)\n",
    "    \n",
    "pprint(service_policy)"
   ]
  },
  {
   "cell_type": "code",
   "execution_count": null,
   "metadata": {},
   "outputs": [],
   "source": [
    "service_policy['Statement']['Resources'] = 'S4'\n",
    "\n",
    "pprint(service_policy)"
   ]
  },
  {
   "cell_type": "code",
   "execution_count": null,
   "metadata": {},
   "outputs": [],
   "source": [
    "'''Write python dictionary has a JSON file'''\n",
    "with open('resources/services-policy.json', 'w') as file:\n",
    "    policy = json.dump(service_policy, file)\n",
    "\n",
    "pprint(open('resources/service-policy.json', 'r').read())\n",
    "# Wrote with json.dump from services-policy.json file\n",
    "pprint(open('resources/services-policy.json', 'r').read())"
   ]
  },
  {
   "cell_type": "code",
   "execution_count": null,
   "metadata": {},
   "outputs": [],
   "source": [
    "'''Another language commonly used in configuration file is YAML\n",
    "which require PyYAML for parse YAML file in Python'''\n",
    "\n",
    "#!pip3 install PyYAML"
   ]
  },
  {
   "cell_type": "code",
   "execution_count": null,
   "metadata": {},
   "outputs": [],
   "source": [
    "from pprint import pprint\n",
    "import yaml\n",
    "\n",
    "# verify_apache = '''- hosts: webservers\n",
    "#   vars:\n",
    "#     http_port: 80\n",
    "#     max_clients: 200\n",
    "#   remote_user: root\n",
    "#   tasks:\n",
    "#     - name: ensure apache is at the latest version\n",
    "#       yum:\n",
    "#        name: httpd\n",
    "#        state: latest\n",
    "#     - name: write the apache config file\n",
    "#       notify: [restart apache],\n",
    "#       template:\n",
    "#         dest: /etc/httpd.conf\n",
    "#         src: /srv/httpd.j2\n",
    "# '''\n",
    "\n",
    "with open('resources/verify-apache.yml', 'r') as output_file:\n",
    "#     verify_apache = output_file.readlines() \n",
    "    # Normally this would be read by \n",
    "    verify_apache = yaml.safe_load(stream=output_file)\n",
    "\n",
    "pprint(verify_apache)"
   ]
  },
  {
   "cell_type": "code",
   "execution_count": null,
   "metadata": {},
   "outputs": [],
   "source": [
    "'''Save yaml data with yaml.safe_dump(stream)'''\n",
    "with open('resources/verify-apache-2.yml', 'w') as input_file:\n",
    "    yaml.safe_dump(data=verify_apache, stream=input_file)\n",
    "    \n",
    "!cat resources/verify-apache-2.yml"
   ]
  },
  {
   "cell_type": "code",
   "execution_count": null,
   "metadata": {},
   "outputs": [],
   "source": [
    "help(yaml)"
   ]
  },
  {
   "cell_type": "code",
   "execution_count": null,
   "metadata": {},
   "outputs": [],
   "source": [
    "import xml.etree.ElementTree as ET\n",
    "import urllib\n",
    "\n",
    "'''Another language usually used for structural data is Extensible Markup Language (XML)'''\n",
    "\n",
    "url = 'http://feeds.feedburner.com/oreilly/radar/atom'\n",
    "xml = urllib.request.urlopen(url).read()\n",
    "\n",
    "with open('resources/http_feeds.feedburner.com_oreilly_radar_atom.xml', 'wb') as file:\n",
    "    file.write(xml)\n",
    "\n",
    "tree = ET.parse('resources/http_feeds.feedburner.com_oreilly_radar_atom.xml')\n",
    "\n",
    "root = tree.getroot()\n",
    "\n",
    "root"
   ]
  },
  {
   "cell_type": "code",
   "execution_count": null,
   "metadata": {},
   "outputs": [],
   "source": [
    "help(urllib)"
   ]
  },
  {
   "cell_type": "code",
   "execution_count": null,
   "metadata": {},
   "outputs": [],
   "source": [
    "import re\n",
    "'''We can iterate over the tree for walk down it'''\n",
    "for child in tree.find('channel'):\n",
    "    if re.match(\"[\\w|\\d]+\", str(child.text)):\n",
    "        print(f\"[Node-tag: {child.tag} | Node-text: {child.text}]\")"
   ]
  },
  {
   "cell_type": "code",
   "execution_count": null,
   "metadata": {},
   "outputs": [],
   "source": [
    "'''[Deprecated example] This example can't be reproduce for learning effects, because the XML structure has changed'''\n",
    "ns = {'default': 'http://www.w3.org/2005/Atom'}\n",
    "authors = root.find('channel').findall(\"default:entry/default:author/default:name\", ns)\n",
    "\n",
    "for author in authors:\n",
    "    print(author.text)"
   ]
  },
  {
   "cell_type": "code",
   "execution_count": null,
   "metadata": {},
   "outputs": [],
   "source": [
    "'''Working with comma-separated values (csv)'''\n",
    "import csv\n",
    "\n",
    "file_path = 'resources/health_insurances_cross_sell_prediction_test.csv'\n",
    "\n",
    "with open(file_path) as csv_file:\n",
    "    off_reader = csv.reader(csv_file, delimiter=',')\n",
    "    for _ in range(10):\n",
    "        print(next(off_reader))\n"
   ]
  },
  {
   "cell_type": "code",
   "execution_count": null,
   "metadata": {},
   "outputs": [],
   "source": [
    "!pip3 install pandas"
   ]
  },
  {
   "cell_type": "code",
   "execution_count": null,
   "metadata": {},
   "outputs": [],
   "source": [
    "import pandas as pd\n",
    "\n",
    "df = pd.read_csv('resources/Bigtech-Tweet_Sentiment-120720till190920.csv')\n",
    "type(df)"
   ]
  },
  {
   "cell_type": "code",
   "execution_count": null,
   "metadata": {},
   "outputs": [],
   "source": [
    "df.head(10)"
   ]
  },
  {
   "cell_type": "code",
   "execution_count": null,
   "metadata": {},
   "outputs": [],
   "source": [
    "df.describe()"
   ]
  },
  {
   "cell_type": "code",
   "execution_count": null,
   "metadata": {},
   "outputs": [],
   "source": [
    "df.head(20)['username']"
   ]
  },
  {
   "cell_type": "code",
   "execution_count": null,
   "metadata": {},
   "outputs": [],
   "source": [
    "## Using Regular Expressins to Search Text ##"
   ]
  },
  {
   "cell_type": "code",
   "execution_count": null,
   "metadata": {},
   "outputs": [],
   "source": [
    "import re\n",
    "\n",
    "'''In this case we work with Coomon Log Format (CLF)'''\n",
    "\n",
    "line = '127.0.0.1 - rj [13/Nov/2019:14:43:30] \"GET HTTP/1.0\" 200'\n",
    "\n",
    "# Get the IP with regex\n",
    "matched = re.search(r'(?P<IP>\\d+.\\d+.\\d+.\\d+)', line)\n",
    "\n",
    "matched.group('IP')\n"
   ]
  },
  {
   "cell_type": "code",
   "execution_count": null,
   "metadata": {},
   "outputs": [],
   "source": [
    "# Get the time with regex from CLF\n",
    "matched = re.search(r'\\[(?P<time>\\d{2}/\\w{3}/\\d{4}(:\\d{2}){3})\\]', line) \n",
    "matched\n",
    "\n",
    "matched.group('time')"
   ]
  },
  {
   "cell_type": "code",
   "execution_count": null,
   "metadata": {},
   "outputs": [],
   "source": [
    "import re\n",
    "# Get multiple elements IP, user, time and request.\n",
    "line = '127.0.0.1 - rj [13/Nov/2019:14:43:30] \"GET HTTP/1.0\" 200'\n",
    "regex_IP = r'(?P<IP>(\\d{1,3}.){3}\\d{1,3})'\n",
    "regex_User = r' - (?P<User>\\w+)'\n",
    "regex_Time = r' (?P<Time>\\[\\d{2}/\\w{3}/\\d{4}(:\\d{2}){3}\\])'\n",
    "regex_Request = r' (?P<Request>\"(GET|POST|PUT|DELETE) HTTP/[1|2].[0|1]\")'\n",
    "regex = regex_IP + regex_User + regex_Time + regex_Request\n",
    "# regex = regex_Request\n",
    "matched = re.search(regex, line)\n",
    "print(f\"IP: {matched.group('IP')}\")\n",
    "print(f\"User: {matched.group('User')}\")\n",
    "print(f\"Time: {matched.group('Time')}\")\n",
    "print(f\"Request: {matched.group('Request')}\")"
   ]
  },
  {
   "cell_type": "code",
   "execution_count": null,
   "metadata": {},
   "outputs": [],
   "source": [
    "## Dealing with Large Files ##"
   ]
  },
  {
   "cell_type": "code",
   "execution_count": null,
   "metadata": {},
   "outputs": [],
   "source": [
    "with open('resources/aapl.us.txt', 'r') as source_file:\n",
    "    with open('resources/aapl_us-corrected.txt', 'w') as target_file:\n",
    "        for line in source_file:\n",
    "            target_file.write(line)\n",
    "    \n",
    "!more -n 10 'resources/aapl_us-corrected.txt'"
   ]
  },
  {
   "cell_type": "code",
   "execution_count": null,
   "metadata": {},
   "outputs": [],
   "source": [
    "def line_reader(file_path):\n",
    "    with open(file_path, 'r') as source_file:\n",
    "        for line in source_file:\n",
    "            yield line\n",
    "        if not source_file.closed:\n",
    "            source_file.close\n",
    "\n",
    "def line_writer(target, reader_fn, source):\n",
    "    reader = reader_fn(source)\n",
    "    with open(target, 'w') as target_file:\n",
    "        for line in reader:\n",
    "            target_file.write(line)\n",
    "        if not target_file.closed:\n",
    "            target_file.close\n",
    "\n",
    "source_file_path = \"resources/aapl.us.txt\"\n",
    "target_file_path = \"resources/aapl_us.txt\"\n",
    "\n",
    "line_writer(target_file_path, line_reader, source_file_path)"
   ]
  },
  {
   "cell_type": "code",
   "execution_count": null,
   "metadata": {},
   "outputs": [],
   "source": [
    "import pandas as pd\n",
    "\n",
    "df = pd.read_csv(\"resources/aapl.us.csv\")\n",
    "type(df)"
   ]
  },
  {
   "cell_type": "code",
   "execution_count": null,
   "metadata": {},
   "outputs": [],
   "source": [
    "result = 0\n",
    "\n",
    "for open_value, high_value, low_value in zip(df['Open'], df['High'], df['Low']):\n",
    "    if high_value > open_value:\n",
    "        print(f\"Open: {open_value} High: {high_value} Theoretical profits: {high_value - open_value}\")\n",
    "        result += high_value - open_value\n",
    "    else:\n",
    "        print(f\"Open: {open_value} High: {high_value} Theoretical Loses: {open_value - low_value} \")\n",
    "        result -= high_value - open_value\n",
    "        \n",
    "string_result = (lambda result: 'Positive' if result > 0 else 'Negative' if result < 0 else '')(result)\n",
    "print(f\"Final result is {string_result}: {result}\")"
   ]
  },
  {
   "cell_type": "code",
   "execution_count": null,
   "metadata": {},
   "outputs": [],
   "source": [
    "## Encrypting Text ##"
   ]
  },
  {
   "cell_type": "code",
   "execution_count": null,
   "metadata": {},
   "outputs": [],
   "source": [
    "## Hashsing with Hashlib"
   ]
  },
  {
   "cell_type": "code",
   "execution_count": null,
   "metadata": {},
   "outputs": [],
   "source": [
    "import hashlib\n",
    "\n",
    "secret = \"This is the password or document text\"\n",
    "bsecret = secret.encode()\n",
    "\n",
    "m = hashlib.md5()\n",
    "m.update(bsecret)\n",
    "\n",
    "m.digest()"
   ]
  },
  {
   "cell_type": "code",
   "execution_count": null,
   "metadata": {},
   "outputs": [],
   "source": [
    "## Encryption with Cryptography\n",
    "!pip3 install cryptography"
   ]
  },
  {
   "cell_type": "code",
   "execution_count": null,
   "metadata": {},
   "outputs": [],
   "source": [
    "from cryptography.fernet import Fernet\n",
    "\n",
    "key = Fernet.generate_key()\n",
    "\n",
    "key"
   ]
  },
  {
   "cell_type": "code",
   "execution_count": null,
   "metadata": {},
   "outputs": [],
   "source": [
    "'''You need to store this key securely, as you need it to decrypt'''\n",
    "f = Fernet(key)\n",
    "\n",
    "message = b'Secrets go here'\n",
    "\n",
    "encrypted = f.encrypt(message)\n",
    "encrypted"
   ]
  },
  {
   "cell_type": "code",
   "execution_count": null,
   "metadata": {},
   "outputs": [],
   "source": [
    "'''You can decrypt the data with the same key, using a Fernet object'''\n",
    "f = Fernet(key)\n",
    "f.decrypt(encrypted)"
   ]
  },
  {
   "cell_type": "code",
   "execution_count": null,
   "metadata": {},
   "outputs": [],
   "source": [
    "'''Asymmetric key encryption uses a pair of keys, one public and one private.\n",
    "One famous and very popular assymetric key algorithm is Rivest-Shamir-Adleman (RSA),\n",
    "which is widely used for communication across networks.'''\n",
    "from cryptography.hazmat.backends import default_backend\n",
    "from cryptography.hazmat.primitives.asymmetric import rsa\n",
    "\n",
    "private_key = rsa.generate_private_key(public_exponent=65537,\n",
    "                                      key_size=4096,\n",
    "                                      backend=default_backend())\n",
    "\n",
    "private_key"
   ]
  },
  {
   "cell_type": "code",
   "execution_count": null,
   "metadata": {},
   "outputs": [],
   "source": [
    "# Alice\n",
    "pub_key = private_key.public_key()\n",
    "pub_key"
   ]
  },
  {
   "cell_type": "code",
   "execution_count": null,
   "metadata": {},
   "outputs": [],
   "source": [
    "'''Encrypt with the public key'''\n",
    "from cryptography.hazmat.primitives.asymmetric import padding\n",
    "from cryptography.hazmat.primitives import hashes\n",
    "\n",
    "#Bob\n",
    "\n",
    "raw_message = b\"More Bob's secrets go here\"\n",
    "\n",
    "encrypted_msg = pub_key.encrypt(raw_message,\n",
    "                           padding.OAEP(mgf=padding.MGF1(algorithm=hashes.SHA256()),\n",
    "                                        algorithm=hashes.SHA256(),\n",
    "                                        label=None))\n",
    "\n",
    "encrypted_msg"
   ]
  },
  {
   "cell_type": "code",
   "execution_count": null,
   "metadata": {},
   "outputs": [],
   "source": [
    "'''Using private key to decrypt the message'''\n",
    "\n",
    "decrypted_msg = private_key.decrypt(encrypted_msg,\n",
    "                               padding.OAEP(mgf=padding.MGF1(algorithm=hashes.SHA256()),\n",
    "                                          algorithm=hashes.SHA256(),\n",
    "                                          label=None))\n",
    "\n",
    "decrypted_msg"
   ]
  },
  {
   "cell_type": "code",
   "execution_count": null,
   "metadata": {},
   "outputs": [],
   "source": [
    "## The OS Module ##"
   ]
  },
  {
   "cell_type": "code",
   "execution_count": null,
   "metadata": {},
   "outputs": [],
   "source": [
    "import os\n",
    "\n",
    "print(\"cmd-scp: os.list('.')\")\n",
    "os.listdir('.')"
   ]
  },
  {
   "cell_type": "code",
   "execution_count": null,
   "metadata": {},
   "outputs": [],
   "source": [
    "script = '''\n",
    "import os\n",
    "os.listdir('.')\n",
    "os.mkdir('/tmp/holding')\n",
    "os.rmdir('/tmp/holding')\n",
    "'''\n",
    "\n",
    "file_path = 'os_module.py'\n",
    "\n",
    "if not os.path.isfile('os_module.py'):\n",
    "    with open('os_module.py', 'w') as file:\n",
    "        file.write(script)\n",
    "\n",
    "def get_stats():\n",
    "    print(f\"\\ncmd: os.stat\")\n",
    "    for s in os.stat('os_module.py'):\n",
    "        print(s)\n",
    "    \n",
    "print(f\"\\ncmd: os.chmod('os_module.py', 0o400)\")\n",
    "os.chmod('os_module.py', 0o400)\n",
    "get_stats()\n",
    "\n",
    "print(f\"\\ncmd: os.chmod('os_module.py', 0o777)\")\n",
    "os.chmod('os_module.py', 0o777)\n",
    "get_stats()\n",
    "\n",
    "print(f\"\\ncmd: !cat os_module.py\")\n",
    "!cat os_module.py\n",
    "print(f\"\\n cmd: os.rename('os_module.py', 'to_erase.py')\")\n",
    "os.rename('os_module.py', 'to_erase.py')\n",
    "print(f\"\\n cmd: os.listdir('.')\")\n",
    "os.listdir('.')"
   ]
  },
  {
   "cell_type": "code",
   "execution_count": null,
   "metadata": {},
   "outputs": [],
   "source": [
    "print(f\"\\ncmd: os.mkdir\")\n",
    "\n",
    "BOLD = '\\033[1m'\n",
    "END = '\\033[0m'\n",
    "    \n",
    "def print_listdir():    \n",
    "    print(f\"\\ncmd: os.listdir\")\n",
    "    for l in os.listdir('.'):\n",
    "        if l != 'tmp':\n",
    "            print(l)\n",
    "        else:\n",
    "            print(BOLD + l + END)    \n",
    "\n",
    "try:\n",
    "    os.mkdir('./tmp')\n",
    "except FileExistsError:\n",
    "    print(f\"Exception: file already exists.\")\n",
    "\n",
    "print_listdir()\n",
    "        \n",
    "print(f\"\\ncmd: os.rmdir\")\n",
    "os.rmdir('./tmp')\n",
    "\n",
    "print_listdir()"
   ]
  },
  {
   "cell_type": "code",
   "execution_count": null,
   "metadata": {},
   "outputs": [],
   "source": [
    "\n",
    "print(f\"\\ncmd: os.makedirs\")\n",
    "try:\n",
    "    os.makedirs('./tmp/scripts/devpos')\n",
    "except FileExistsError:\n",
    "    print(f\"File already exists\")\n",
    "\n",
    "print(f\"\\ncmd: os.listdir\")\n",
    "print(os.listdir('./tmp'))\n",
    "\n",
    "print(f\"\\ncmd: os.removedirs\")\n",
    "os.removedirs('./tmp/scripts/devpos')"
   ]
  },
  {
   "cell_type": "code",
   "execution_count": null,
   "metadata": {},
   "outputs": [],
   "source": [
    "## Managing Files and Directories Using os.path ##"
   ]
  },
  {
   "cell_type": "code",
   "execution_count": null,
   "metadata": {},
   "outputs": [],
   "source": [
    "import os\n",
    "\n",
    "current_path = os.getcwd()\n",
    "current_path"
   ]
  },
  {
   "cell_type": "code",
   "execution_count": null,
   "metadata": {},
   "outputs": [],
   "source": [
    "current_directory = os.path.split(current_path)[1]\n",
    "current_directory"
   ]
  },
  {
   "cell_type": "code",
   "execution_count": null,
   "metadata": {},
   "outputs": [],
   "source": [
    "os.path.dirname(current_path)"
   ]
  },
  {
   "cell_type": "code",
   "execution_count": null,
   "metadata": {},
   "outputs": [],
   "source": [
    "os.path.basename(current_path)"
   ]
  },
  {
   "cell_type": "code",
   "execution_count": null,
   "metadata": {},
   "outputs": [],
   "source": []
  }
 ],
 "metadata": {
  "kernelspec": {
   "display_name": "Python 3",
   "language": "python",
   "name": "python3"
  },
  "language_info": {
   "codemirror_mode": {
    "name": "ipython",
    "version": 3
   },
   "file_extension": ".py",
   "mimetype": "text/x-python",
   "name": "python",
   "nbconvert_exporter": "python",
   "pygments_lexer": "ipython3",
   "version": "3.8.2"
  }
 },
 "nbformat": 4,
 "nbformat_minor": 4
}
