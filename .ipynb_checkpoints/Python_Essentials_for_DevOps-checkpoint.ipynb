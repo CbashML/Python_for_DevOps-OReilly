{
 "cells": [
  {
   "cell_type": "code",
   "execution_count": null,
   "metadata": {},
   "outputs": [],
   "source": [
    "## Built-in Objects (10) ##\n",
    "## Sequences ##\n",
    "## Dicts "
   ]
  },
  {
   "cell_type": "code",
   "execution_count": null,
   "metadata": {},
   "outputs": [],
   "source": [
    "kv_ls = [[1, 'One'], [2, 'Two'], [3, 'Three'], [4, 'Four']]\n",
    "kv_ls"
   ]
  },
  {
   "cell_type": "code",
   "execution_count": null,
   "metadata": {},
   "outputs": [],
   "source": [
    "map = dict(kv_ls)\n",
    "map"
   ]
  },
  {
   "cell_type": "code",
   "execution_count": null,
   "metadata": {},
   "outputs": [],
   "source": [
    "del(map[1])\n",
    "map"
   ]
  },
  {
   "cell_type": "code",
   "execution_count": null,
   "metadata": {},
   "outputs": [],
   "source": [
    "map.keys()"
   ]
  },
  {
   "cell_type": "code",
   "execution_count": null,
   "metadata": {},
   "outputs": [],
   "source": [
    "map.values()"
   ]
  },
  {
   "cell_type": "code",
   "execution_count": null,
   "metadata": {},
   "outputs": [],
   "source": [
    "for k, v in map.items():\n",
    "    print(f\"{k}:{v}\")"
   ]
  },
  {
   "cell_type": "code",
   "execution_count": null,
   "metadata": {},
   "outputs": [],
   "source": [
    "letters = 'abcde'\n",
    "cap_map = {x: x.upper() for x in letters}\n",
    "cap_map"
   ]
  },
  {
   "cell_type": "code",
   "execution_count": null,
   "metadata": {},
   "outputs": [],
   "source": [
    "## Functions ##\n",
    "## Functions as objects"
   ]
  },
  {
   "cell_type": "code",
   "execution_count": null,
   "metadata": {},
   "outputs": [],
   "source": [
    "def double(input=0):\n",
    "    '''double input'''\n",
    "    return input*2\n",
    "\n",
    "def triple(input=0):\n",
    "    '''triple input'''\n",
    "    return input*3\n",
    "\n",
    "functions = [double, triple]\n",
    "\n",
    "for function in functions:\n",
    "    print(function(3))"
   ]
  },
  {
   "cell_type": "code",
   "execution_count": null,
   "metadata": {},
   "outputs": [],
   "source": [
    "## Anonymous functions"
   ]
  },
  {
   "cell_type": "code",
   "execution_count": null,
   "metadata": {},
   "outputs": [],
   "source": [
    "# Example without lambda function"
   ]
  },
  {
   "cell_type": "code",
   "execution_count": null,
   "metadata": {},
   "outputs": [],
   "source": [
    "items = [[0, 'a', 2], [5, 'b', 0], [2, 'c', 1]]\n",
    "sorted(items)"
   ]
  },
  {
   "cell_type": "code",
   "execution_count": null,
   "metadata": {},
   "outputs": [],
   "source": [
    "def second(items):\n",
    "    '''return second entry'''\n",
    "    return items[1]"
   ]
  },
  {
   "cell_type": "code",
   "execution_count": null,
   "metadata": {},
   "outputs": [],
   "source": [
    "sorted(items, key=second)"
   ]
  },
  {
   "cell_type": "code",
   "execution_count": null,
   "metadata": {},
   "outputs": [],
   "source": [
    "# Lambda"
   ]
  },
  {
   "cell_type": "code",
   "execution_count": null,
   "metadata": {},
   "outputs": [],
   "source": [
    "sorted(items, key=lambda list: list[1])"
   ]
  },
  {
   "cell_type": "code",
   "execution_count": null,
   "metadata": {},
   "outputs": [],
   "source": [
    "sorted(items, key=lambda list: list[2])"
   ]
  },
  {
   "cell_type": "code",
   "execution_count": null,
   "metadata": {},
   "outputs": [],
   "source": [
    "## Using regular expressions (regex) (26) ##"
   ]
  },
  {
   "cell_type": "code",
   "execution_count": null,
   "metadata": {},
   "outputs": [],
   "source": [
    "## Searching"
   ]
  },
  {
   "cell_type": "code",
   "execution_count": null,
   "metadata": {},
   "outputs": [],
   "source": [
    "cc_list ='''Ezra Koenig <ekoenig@vpwk.com>\n",
    "    Rostam Batmanglij <rbatman@vpwk.com>\n",
    "    Chris Tomson <ctomson@vpwk.com>\n",
    "    Bobbi Baio <bbaio@vpwk.com>'''\n",
    "\n",
    "cc_dict = {\n",
    "    'Ezra Koenig': 'ekoenig@vpwk.com',\n",
    "    'Rostam Batmanglij': 'rbatman@vpwk.com',\n",
    "    'Chris Tomson': 'ctomson@vpwk.com',\n",
    "    'Bobbi Baio': 'bbaio@vpwk.com'\n",
    "}"
   ]
  },
  {
   "cell_type": "code",
   "execution_count": null,
   "metadata": {},
   "outputs": [],
   "source": [
    "for name, email in cc_dict.items():\n",
    "    print(f\"The email from {name} is {email}\")"
   ]
  },
  {
   "cell_type": "code",
   "execution_count": null,
   "metadata": {},
   "outputs": [],
   "source": [
    "'Rostam' in cc_list"
   ]
  },
  {
   "cell_type": "code",
   "execution_count": null,
   "metadata": {},
   "outputs": [],
   "source": [
    "'Ezra Koening' in cc_dict"
   ]
  },
  {
   "cell_type": "code",
   "execution_count": null,
   "metadata": {},
   "outputs": [],
   "source": [
    "for name in cc_dict:\n",
    "    if 'Bobbi' in name:\n",
    "        print(f\"{name.split(' ')[0]} was found\")"
   ]
  },
  {
   "cell_type": "code",
   "execution_count": null,
   "metadata": {},
   "outputs": [],
   "source": [
    "import re\n",
    "\n",
    "re.search(r'Rostam', cc_list)"
   ]
  },
  {
   "cell_type": "code",
   "execution_count": null,
   "metadata": {
    "tags": []
   },
   "outputs": [],
   "source": [
    "cc_dict['Jhon Smith'] = 'jsmith@vpwk.com'\n",
    "for name, _ in cc_dict.items():\n",
    "    if re.search(r'{0}'.format(name), cc_list):\n",
    "        print(f\"{name} was found.\")\n",
    "    else:\n",
    "        print(f\"{name} not was found.\")"
   ]
  },
  {
   "cell_type": "code",
   "execution_count": null,
   "metadata": {
    "tags": []
   },
   "outputs": [],
   "source": [
    "## Matching\n",
    "\n",
    "heading = ['name', 'last_name', 'phone', 'address']\n",
    "pd_dict = [\n",
    "    {'name': 'Alice', 'last_name': 'Grub', 'phone': '115-934-231-97', 'address': '6th Av.'},\n",
    "    {'name': 'Bob', 'last_name': 'Bios', 'phone': '115-234-987-23', 'address': 'Hw Street'},\n",
    "    {'name': 'Joe', 'last_name': 'Smith', 'phone': '101-111-111-01', 'address': 'Trajn'},\n",
    "]\n",
    "\n",
    "for p in pd_dict:\n",
    "    print(f\"name: {p['name']}, \\n last name: {p['last_name']} \\n phone: {p['phone']}, \\n address: {p['address']} \\n\")\n",
    "\n",
    "    phone = re.match(r'^115(-\\d{3}){2}-\\d{2}$', p['phone'])\n",
    "    print(f\"phone: {'OK' if phone else 'Does not match'}\")\n"
   ]
  },
  {
   "cell_type": "code",
   "execution_count": null,
   "metadata": {},
   "outputs": [],
   "source": [
    "## Character Sets "
   ]
  },
  {
   "cell_type": "code",
   "execution_count": null,
   "metadata": {},
   "outputs": [],
   "source": [
    "re.search(r'[cC]hr[a-z]{2}', cc_list)"
   ]
  },
  {
   "cell_type": "code",
   "execution_count": null,
   "metadata": {},
   "outputs": [],
   "source": [
    "re.search(r'[A-Za-z]+', cc_list)"
   ]
  },
  {
   "cell_type": "code",
   "execution_count": null,
   "metadata": {},
   "outputs": [],
   "source": [
    "re.search(r'[A-Za-z]{6}', cc_list)"
   ]
  },
  {
   "cell_type": "code",
   "execution_count": null,
   "metadata": {},
   "outputs": [],
   "source": [
    "re.search(r'\\w+@(vpwk|hotmail|gmail)\\.com', cc_list)"
   ]
  },
  {
   "cell_type": "code",
   "execution_count": null,
   "metadata": {},
   "outputs": [],
   "source": [
    "## Groups"
   ]
  },
  {
   "cell_type": "code",
   "execution_count": null,
   "metadata": {},
   "outputs": [],
   "source": [
    "matched = re.search(r'(\\w+)@(vpwk|hotmail|gmail)\\.com', cc_list)\n",
    "matched.group(0)\n"
   ]
  },
  {
   "cell_type": "code",
   "execution_count": null,
   "metadata": {},
   "outputs": [],
   "source": [
    "matched.group(1)"
   ]
  },
  {
   "cell_type": "code",
   "execution_count": null,
   "metadata": {},
   "outputs": [],
   "source": [
    "matched.group(2)"
   ]
  },
  {
   "cell_type": "code",
   "execution_count": null,
   "metadata": {},
   "outputs": [],
   "source": [
    "## Named Groups"
   ]
  },
  {
   "cell_type": "code",
   "execution_count": null,
   "metadata": {},
   "outputs": [],
   "source": [
    "matched = re.search(r'(?P<name>\\w+)@(?P<SLD>vpwk|hotmail|gmail)\\.(?P<TLD>com)', cc_list)"
   ]
  },
  {
   "cell_type": "code",
   "execution_count": null,
   "metadata": {
    "tags": []
   },
   "outputs": [],
   "source": [
    "print(f'''\n",
    "    name: {matched.group(\"name\")}\n",
    "    Secondary Level Domain: {matched.group(\"SLD\")}\n",
    "    Top Level Domain: {matched.group(\"TLD\")}\n",
    "    ''')"
   ]
  },
  {
   "cell_type": "code",
   "execution_count": null,
   "metadata": {},
   "outputs": [],
   "source": [
    "## Find All\n",
    "'''We can use findall to return all of the marches as a list of string'''"
   ]
  },
  {
   "cell_type": "code",
   "execution_count": null,
   "metadata": {},
   "outputs": [],
   "source": [
    "matched = re.findall(r'\\w+@vpwk\\.com', cc_list)\n",
    "matched"
   ]
  },
  {
   "cell_type": "code",
   "execution_count": null,
   "metadata": {},
   "outputs": [],
   "source": [
    "# With groups\n",
    "matched = re.findall(r'(\\w+)@(vpwk)\\.(com)', cc_list)\n",
    "matched"
   ]
  },
  {
   "cell_type": "code",
   "execution_count": null,
   "metadata": {},
   "outputs": [],
   "source": [
    "names = [x[0] for x in matched]\n",
    "names"
   ]
  },
  {
   "cell_type": "code",
   "execution_count": null,
   "metadata": {},
   "outputs": [],
   "source": [
    "## Find Iterator"
   ]
  },
  {
   "cell_type": "code",
   "execution_count": null,
   "metadata": {},
   "outputs": [],
   "source": [
    "import re\n",
    "\n",
    "'''cc_list is required'''\n",
    "\n",
    "matched = re.finditer(r'\\w+@\\w+\\.\\w+', cc_list)\n",
    "matched"
   ]
  },
  {
   "cell_type": "code",
   "execution_count": null,
   "metadata": {},
   "outputs": [],
   "source": [
    "next(matched)"
   ]
  },
  {
   "cell_type": "code",
   "execution_count": null,
   "metadata": {},
   "outputs": [],
   "source": [
    "next(matched)"
   ]
  },
  {
   "cell_type": "code",
   "execution_count": null,
   "metadata": {},
   "outputs": [],
   "source": [
    "next(matched)"
   ]
  },
  {
   "cell_type": "code",
   "execution_count": null,
   "metadata": {},
   "outputs": [],
   "source": [
    "next(matched)"
   ]
  },
  {
   "cell_type": "code",
   "execution_count": null,
   "metadata": {},
   "outputs": [],
   "source": [
    "matched = re.finditer(\"(?P<name>\\w+)\\@(?P<secondary_level_domain>\\w+)\\.(?P<top_level_domain>\\w+)\",cc_list)\n",
    "for m in matched:\n",
    "    print(m.groupdict())    "
   ]
  },
  {
   "cell_type": "code",
   "execution_count": null,
   "metadata": {},
   "outputs": [],
   "source": [
    "## Substitution"
   ]
  },
  {
   "cell_type": "code",
   "execution_count": null,
   "metadata": {},
   "outputs": [],
   "source": [
    "re.sub(\"\\d\", \"#\", \"The number you entered was 0796\")"
   ]
  },
  {
   "cell_type": "code",
   "execution_count": null,
   "metadata": {
    "scrolled": true
   },
   "outputs": [],
   "source": [
    "users = re.sub(\n",
    "    \"(?P<name>\\w+)\\@(?P<secondary_level_domain>\\w+)\\.(?P<top_level_domain>\\w+)\",\n",
    "    \"(\\g<top_level_domain>.\\g<secondary_level_domain>.\\g<name>\",\n",
    "    cc_list\n",
    ")\n",
    "print(users)"
   ]
  },
  {
   "cell_type": "code",
   "execution_count": null,
   "metadata": {},
   "outputs": [],
   "source": [
    "## Compiling"
   ]
  },
  {
   "cell_type": "code",
   "execution_count": null,
   "metadata": {},
   "outputs": [],
   "source": [
    "import re\n",
    "regex = re.compile(r'\\w+\\@\\w+\\.\\w+')\n",
    "compile_users = regex.search(cc_list)\n",
    "print(compile_users)"
   ]
  },
  {
   "cell_type": "code",
   "execution_count": null,
   "metadata": {},
   "outputs": [],
   "source": [
    "## Lazy Evaluation ##"
   ]
  },
  {
   "cell_type": "code",
   "execution_count": null,
   "metadata": {},
   "outputs": [],
   "source": [
    "## Generators"
   ]
  },
  {
   "cell_type": "code",
   "execution_count": null,
   "metadata": {},
   "outputs": [],
   "source": [
    "def count():\n",
    "    n = 0\n",
    "    while True:\n",
    "        n += 1\n",
    "        yield n\n",
    "        \n",
    "counter = count()\n",
    "counter"
   ]
  },
  {
   "cell_type": "code",
   "execution_count": null,
   "metadata": {},
   "outputs": [],
   "source": [
    "next(counter)"
   ]
  },
  {
   "cell_type": "code",
   "execution_count": null,
   "metadata": {},
   "outputs": [],
   "source": [
    "next(counter)"
   ]
  },
  {
   "cell_type": "code",
   "execution_count": null,
   "metadata": {},
   "outputs": [],
   "source": [
    "next(counter)"
   ]
  },
  {
   "cell_type": "code",
   "execution_count": null,
   "metadata": {},
   "outputs": [],
   "source": [
    "def fibonacci():\n",
    "    first = 0\n",
    "    last = 1\n",
    "    while True:\n",
    "        first, last = last, first + last\n",
    "        yield first"
   ]
  },
  {
   "cell_type": "code",
   "execution_count": null,
   "metadata": {},
   "outputs": [],
   "source": [
    "fib = fibonacci()\n",
    "print(next(fib))\n",
    "print(next(fib))\n",
    "print(next(fib))\n",
    "print(next(fib))\n",
    "print(next(fib)) \n",
    "print(next(fib))\n",
    "print(next(fib))\n",
    "print(next(fib))"
   ]
  },
  {
   "cell_type": "code",
   "execution_count": null,
   "metadata": {},
   "outputs": [],
   "source": [
    "fib = fibonacci()\n",
    "n = 21\n",
    "for x in fib:\n",
    "    print(x)\n",
    "    if x >= n:\n",
    "        break"
   ]
  },
  {
   "cell_type": "code",
   "execution_count": null,
   "metadata": {},
   "outputs": [],
   "source": [
    "fib = fibonacci()\n",
    "n = 8\n",
    "for _ in range(n):\n",
    "    print(next(fib))"
   ]
  },
  {
   "cell_type": "code",
   "execution_count": null,
   "metadata": {},
   "outputs": [],
   "source": [
    "## Generator Comprenhensions"
   ]
  },
  {
   "cell_type": "code",
   "execution_count": null,
   "metadata": {},
   "outputs": [],
   "source": [
    "list_o_nums = [x for x in range(100)]\n",
    "list_o_nums"
   ]
  },
  {
   "cell_type": "code",
   "execution_count": null,
   "metadata": {},
   "outputs": [],
   "source": [
    "gen_o_nums = (x for x in range(100))\n",
    "gen_o_nums"
   ]
  },
  {
   "cell_type": "code",
   "execution_count": null,
   "metadata": {},
   "outputs": [],
   "source": [
    "import sys\n",
    "\n",
    "print(f\"Bytes size of list of nums {sys.getsizeof(list_o_nums)}\")\n",
    "print(f\"Bytes size of generator of nums {sys.getsizeof(gen_o_nums)}\")"
   ]
  },
  {
   "cell_type": "code",
   "execution_count": null,
   "metadata": {},
   "outputs": [],
   "source": [
    "## More IPython to Run Unix Shell Commands ##\n",
    "## Using IPython to Run Unix Shell Commands"
   ]
  },
  {
   "cell_type": "code",
   "execution_count": null,
   "metadata": {},
   "outputs": [],
   "source": [
    "var_ls = !ls -l\n",
    "type(var_ls)"
   ]
  },
  {
   "cell_type": "code",
   "execution_count": null,
   "metadata": {},
   "outputs": [],
   "source": [
    "df = !df -h\n",
    "df.sort(3, nums=True)"
   ]
  },
  {
   "cell_type": "code",
   "execution_count": null,
   "metadata": {},
   "outputs": [],
   "source": [
    "var_ls = !ls -l /\n",
    "var_ls"
   ]
  },
  {
   "cell_type": "code",
   "execution_count": null,
   "metadata": {},
   "outputs": [],
   "source": [
    "ls_bin = !ls -l /usr/bin\n",
    "ls_bin"
   ]
  },
  {
   "cell_type": "code",
   "execution_count": null,
   "metadata": {},
   "outputs": [],
   "source": [
    "ls = !ls -l /usr/bin\n",
    "ls.grep(\"kill\")"
   ]
  },
  {
   "cell_type": "code",
   "execution_count": null,
   "metadata": {},
   "outputs": [],
   "source": [
    "# Using IPython magic commands"
   ]
  },
  {
   "cell_type": "code",
   "execution_count": null,
   "metadata": {},
   "outputs": [],
   "source": [
    "%%bash\n",
    "    uname -a"
   ]
  },
  {
   "cell_type": "code",
   "execution_count": null,
   "metadata": {},
   "outputs": [],
   "source": [
    "%%writefile print_time.py\n",
    "    #!/usr/bin/env python3\n",
    "    import datetime\n",
    "    print(datetime.datetime.now().time())\n",
    "    "
   ]
  },
  {
   "cell_type": "code",
   "execution_count": null,
   "metadata": {},
   "outputs": [],
   "source": [
    "cat print_time.py"
   ]
  },
  {
   "cell_type": "code",
   "execution_count": null,
   "metadata": {},
   "outputs": [],
   "source": [
    "!python print_time.py"
   ]
  },
  {
   "cell_type": "code",
   "execution_count": null,
   "metadata": {},
   "outputs": [],
   "source": [
    "%who"
   ]
  },
  {
   "cell_type": "code",
   "execution_count": null,
   "metadata": {},
   "outputs": [],
   "source": [
    "## Exercises ##"
   ]
  },
  {
   "cell_type": "code",
   "execution_count": null,
   "metadata": {},
   "outputs": [],
   "source": [
    "'''Python function that takes a name as an argument and prints that name.'''\n",
    "def print_name(name : str):\n",
    "    print(name)\n",
    "\n",
    "name : str = 'Pythonisa'\n",
    "print_name(name)"
   ]
  },
  {
   "cell_type": "code",
   "execution_count": null,
   "metadata": {},
   "outputs": [],
   "source": [
    "'''Python function that takes a string as an argument and prints wheter it is upper- or lowercase.'''\n",
    " \n",
    "def is_upper_or_lowercase(string: str):\n",
    "    get_case: str = \"lowercase\"\n",
    "    if string.isupper():\n",
    "        get_case = \"uppercase\"\n",
    "    print(f\"\\\"{string}\\\" is {get_case}\")\n",
    "\n",
    "\n",
    "lowercase_string: str = \"this string is lowercase\"\n",
    "uppercase_string: str = \"THIS STRING IS UPPERCASE\"\n",
    "\n",
    "is_upper_or_lowercase(string=lowercase_string)\n",
    "is_upper_or_lowercase(string=uppercase_string)"
   ]
  },
  {
   "cell_type": "code",
   "execution_count": null,
   "metadata": {},
   "outputs": [],
   "source": [
    "'''From a list comprehension 'smog-tether' get a list of every letter in the word capitalize.'''\n",
    "\n",
    "word: str = \"smog-tether\"\n",
    "\n",
    "def get_list_comprehension(word: str) -> list:\n",
    "    list_comprehension: list = [letter.upper() for letter in word]\n",
    "    return list_comprehension\n",
    "\n",
    "list_comprehension = get_list_comprehension(word=word)\n",
    "\n",
    "print(list_comprehension)"
   ]
  },
  {
   "cell_type": "code",
   "execution_count": null,
   "metadata": {},
   "outputs": [],
   "source": [
    "'''Generator that alternates between returning Even and Odd.'''\n",
    "\n",
    "def generator_func_odd_even() -> str:\n",
    "    even: bool = False\n",
    "    while True:\n",
    "        even = not even\n",
    "        yield  [\"Even\" if even else \"Odd\"]\n",
    "\n",
    "func = generator_func_odd_even()\n",
    "\n",
    "func\n",
    "print(next(func))\n",
    "print(next(func))\n",
    "print(next(func))\n",
    "print(next(func))"
   ]
  }
 ],
 "metadata": {
  "kernelspec": {
   "display_name": "Python 3",
   "language": "python",
   "name": "python3"
  },
  "language_info": {
   "codemirror_mode": {
    "name": "ipython",
    "version": 3
   },
   "file_extension": ".py",
   "mimetype": "text/x-python",
   "name": "python",
   "nbconvert_exporter": "python",
   "pygments_lexer": "ipython3",
   "version": "3.8.2"
  }
 },
 "nbformat": 4,
 "nbformat_minor": 4
}
