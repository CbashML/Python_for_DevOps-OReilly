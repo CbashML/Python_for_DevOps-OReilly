{
 "cells": [
  {
   "cell_type": "code",
   "execution_count": 5,
   "metadata": {},
   "outputs": [
    {
     "data": {
      "text/plain": [
       "[[1, 'One'], [2, 'Two'], [3, 'Three'], [4, 'Four']]"
      ]
     },
     "execution_count": 5,
     "metadata": {},
     "output_type": "execute_result"
    }
   ],
   "source": [
    "## Built-in Objects (10) ##\n",
    "## Sequences ##\n",
    "## Dicts "
   ]
  },
  {
   "cell_type": "code",
   "execution_count": null,
   "metadata": {},
   "outputs": [],
   "source": [
    "kv_ls = [[1, 'One'], [2, 'Two'], [3, 'Three'], [4, 'Four']]\n",
    "kv_ls"
   ]
  },
  {
   "cell_type": "code",
   "execution_count": 6,
   "metadata": {},
   "outputs": [
    {
     "data": {
      "text/plain": [
       "{1: 'One', 2: 'Two', 3: 'Three', 4: 'Four'}"
      ]
     },
     "execution_count": 6,
     "metadata": {},
     "output_type": "execute_result"
    }
   ],
   "source": [
    "map = dict(kv_ls)\n",
    "map"
   ]
  },
  {
   "cell_type": "code",
   "execution_count": 7,
   "metadata": {},
   "outputs": [
    {
     "data": {
      "text/plain": [
       "{2: 'Two', 3: 'Three', 4: 'Four'}"
      ]
     },
     "execution_count": 7,
     "metadata": {},
     "output_type": "execute_result"
    }
   ],
   "source": [
    "del(map[1])\n",
    "map"
   ]
  },
  {
   "cell_type": "code",
   "execution_count": 10,
   "metadata": {},
   "outputs": [
    {
     "data": {
      "text/plain": [
       "dict_keys([2, 3, 4])"
      ]
     },
     "execution_count": 10,
     "metadata": {},
     "output_type": "execute_result"
    }
   ],
   "source": [
    "map.keys()"
   ]
  },
  {
   "cell_type": "code",
   "execution_count": 9,
   "metadata": {},
   "outputs": [
    {
     "data": {
      "text/plain": [
       "dict_values(['Two', 'Three', 'Four'])"
      ]
     },
     "execution_count": 9,
     "metadata": {},
     "output_type": "execute_result"
    }
   ],
   "source": [
    "map.values()"
   ]
  },
  {
   "cell_type": "code",
   "execution_count": 11,
   "metadata": {},
   "outputs": [
    {
     "name": "stdout",
     "output_type": "stream",
     "text": [
      "2:Two\n",
      "3:Three\n",
      "4:Four\n"
     ]
    }
   ],
   "source": [
    "for k, v in map.items():\n",
    "    print(f\"{k}:{v}\")"
   ]
  },
  {
   "cell_type": "code",
   "execution_count": 12,
   "metadata": {},
   "outputs": [
    {
     "data": {
      "text/plain": [
       "{'a': 'A', 'b': 'B', 'c': 'C', 'd': 'D', 'e': 'E'}"
      ]
     },
     "execution_count": 12,
     "metadata": {},
     "output_type": "execute_result"
    }
   ],
   "source": [
    "letters = 'abcde'\n",
    "cap_map = {x: x.upper() for x in letters}\n",
    "cap_map"
   ]
  },
  {
   "cell_type": "code",
   "execution_count": null,
   "metadata": {},
   "outputs": [],
   "source": [
    "## Functions ##\n",
    "## Functions as objects"
   ]
  },
  {
   "cell_type": "code",
   "execution_count": 5,
   "metadata": {},
   "outputs": [
    {
     "name": "stdout",
     "output_type": "stream",
     "text": [
      "6\n",
      "9\n"
     ]
    }
   ],
   "source": [
    "def double(input=0):\n",
    "    '''double input'''\n",
    "    return input*2\n",
    "\n",
    "def triple(input=0):\n",
    "    '''triple input'''\n",
    "    return input*3\n",
    "\n",
    "functions = [double, triple]\n",
    "\n",
    "for function in functions:\n",
    "    print(function(3))"
   ]
  },
  {
   "cell_type": "code",
   "execution_count": null,
   "metadata": {},
   "outputs": [],
   "source": [
    "## Anonymous functions"
   ]
  },
  {
   "cell_type": "code",
   "execution_count": null,
   "metadata": {},
   "outputs": [],
   "source": [
    "# Example without lambda function"
   ]
  },
  {
   "cell_type": "code",
   "execution_count": 13,
   "metadata": {},
   "outputs": [
    {
     "data": {
      "text/plain": [
       "[[0, 'a', 2], [2, 'c', 1], [5, 'b', 0]]"
      ]
     },
     "execution_count": 13,
     "metadata": {},
     "output_type": "execute_result"
    }
   ],
   "source": [
    "items = [[0, 'a', 2], [5, 'b', 0], [2, 'c', 1]]\n",
    "sorted(items)"
   ]
  },
  {
   "cell_type": "code",
   "execution_count": 11,
   "metadata": {},
   "outputs": [],
   "source": [
    "def second(items):\n",
    "    '''return second entry'''\n",
    "    return items[1]"
   ]
  },
  {
   "cell_type": "code",
   "execution_count": 10,
   "metadata": {},
   "outputs": [
    {
     "data": {
      "text/plain": [
       "[[0, 'a', 2], [5, 'b', 0], [2, 'c', 1]]"
      ]
     },
     "execution_count": 10,
     "metadata": {},
     "output_type": "execute_result"
    }
   ],
   "source": [
    "sorted(items, key=second)"
   ]
  },
  {
   "cell_type": "code",
   "execution_count": 12,
   "metadata": {},
   "outputs": [],
   "source": [
    "# Lambda"
   ]
  },
  {
   "cell_type": "code",
   "execution_count": 15,
   "metadata": {},
   "outputs": [
    {
     "data": {
      "text/plain": [
       "[[0, 'a', 2], [5, 'b', 0], [2, 'c', 1]]"
      ]
     },
     "execution_count": 15,
     "metadata": {},
     "output_type": "execute_result"
    }
   ],
   "source": [
    "sorted(items, key=lambda list: list[1])"
   ]
  },
  {
   "cell_type": "code",
   "execution_count": 16,
   "metadata": {},
   "outputs": [
    {
     "data": {
      "text/plain": [
       "[[5, 'b', 0], [2, 'c', 1], [0, 'a', 2]]"
      ]
     },
     "execution_count": 16,
     "metadata": {},
     "output_type": "execute_result"
    }
   ],
   "source": [
    "sorted(items, key=lambda list: list[2])"
   ]
  },
  {
   "cell_type": "code",
   "execution_count": null,
   "metadata": {},
   "outputs": [],
   "source": [
    "## Using regular expressions (regex) (26) ##"
   ]
  },
  {
   "cell_type": "code",
   "execution_count": null,
   "metadata": {},
   "outputs": [],
   "source": [
    "## Searching"
   ]
  },
  {
   "cell_type": "code",
   "execution_count": 3,
   "metadata": {},
   "outputs": [],
   "source": [
    "cc_list ='''Ezra Koenig <ekoenig@vpwk.com>\n",
    "    Rostam Batmanglij <rbatman@vpwk.com>\n",
    "    Chris Tomson <ctomson@vpwk.com>\n",
    "    Bobbi Baio <bbaio@vpwk.com>'''\n",
    "\n",
    "cc_dict = {\n",
    "    'Ezra Koenig': 'ekoenig@vpwk.com',\n",
    "    'Rostam Batmanglij': 'rbatman@vpwk.com',\n",
    "    'Chris Tomson': 'ctomson@vpwk.com',\n",
    "    'Bobbi Baio': 'bbaio@vpwk.com'\n",
    "}"
   ]
  },
  {
   "cell_type": "code",
   "execution_count": 3,
   "metadata": {},
   "outputs": [
    {
     "name": "stdout",
     "output_type": "stream",
     "text": [
      "The email from Ezra Koenig is ekoenig@vpwk.com\n",
      "The email from Rostam Batmanglij is rbatman@vpwk.com\n",
      "The email from Chris Tomson is ctomson@vpwk.com\n",
      "The email from Bobbi Baio is bbaio@vpwk.com\n"
     ]
    }
   ],
   "source": [
    "for name, email in cc_dict.items():\n",
    "    print(f\"The email from {name} is {email}\")"
   ]
  },
  {
   "cell_type": "code",
   "execution_count": 38,
   "metadata": {},
   "outputs": [
    {
     "data": {
      "text/plain": [
       "True"
      ]
     },
     "execution_count": 38,
     "metadata": {},
     "output_type": "execute_result"
    }
   ],
   "source": [
    "'Rostam' in cc_list"
   ]
  },
  {
   "cell_type": "code",
   "execution_count": 40,
   "metadata": {},
   "outputs": [
    {
     "data": {
      "text/plain": [
       "True"
      ]
     },
     "execution_count": 40,
     "metadata": {},
     "output_type": "execute_result"
    }
   ],
   "source": [
    "'Ezra Koening' in cc_dict"
   ]
  },
  {
   "cell_type": "code",
   "execution_count": 46,
   "metadata": {},
   "outputs": [
    {
     "name": "stdout",
     "output_type": "stream",
     "text": [
      "Bobbi was found\n"
     ]
    }
   ],
   "source": [
    "for name in cc_dict:\n",
    "    if 'Bobbi' in name:\n",
    "        print(f\"{name.split(' ')[0]} was found\")"
   ]
  },
  {
   "cell_type": "code",
   "execution_count": 25,
   "metadata": {},
   "outputs": [
    {
     "data": {
      "text/plain": [
       "<re.Match object; span=(36, 42), match='Rostam'>"
      ]
     },
     "execution_count": 25,
     "metadata": {},
     "output_type": "execute_result"
    }
   ],
   "source": [
    "import re\n",
    "\n",
    "re.search(r'Rostam', cc_list)"
   ]
  },
  {
   "cell_type": "code",
   "execution_count": 9,
   "metadata": {
    "tags": []
   },
   "outputs": [
    {
     "name": "stdout",
     "output_type": "stream",
     "text": [
      "Ezra Koening was found.\n",
      "Rostam Batmanglij was found.\n",
      "Chris Tomson was found.\n",
      "Bobbi Baio was found.\n",
      "Jhon Smith not was found.\n"
     ]
    }
   ],
   "source": [
    "cc_dict['Jhon Smith'] = 'jsmith@vpwk.com'\n",
    "for name, _ in cc_dict.items():\n",
    "    if re.search(r'{0}'.format(name), cc_list):\n",
    "        print(f\"{name} was found.\")\n",
    "    else:\n",
    "        print(f\"{name} not was found.\")"
   ]
  },
  {
   "cell_type": "code",
   "execution_count": 82,
   "metadata": {
    "tags": []
   },
   "outputs": [
    {
     "name": "stdout",
     "output_type": "stream",
     "text": [
      "name: Alice, \n",
      " last name: Grub \n",
      " phone: 115-934-231-97, \n",
      " address: 6th Av. \n",
      "\n",
      "phone: OK\n",
      "name: Bob, \n",
      " last name: Bios \n",
      " phone: 115-234-987-23, \n",
      " address: Hw Street \n",
      "\n",
      "phone: OK\n",
      "name: Joe, \n",
      " last name: Smith \n",
      " phone: 101-111-111-01, \n",
      " address: Trajn \n",
      "\n",
      "phone: Does not match\n"
     ]
    }
   ],
   "source": [
    "## Matching\n",
    "\n",
    "heading = ['name', 'last_name', 'phone', 'address']\n",
    "pd_dict = [\n",
    "    {'name': 'Alice', 'last_name': 'Grub', 'phone': '115-934-231-97', 'address': '6th Av.'},\n",
    "    {'name': 'Bob', 'last_name': 'Bios', 'phone': '115-234-987-23', 'address': 'Hw Street'},\n",
    "    {'name': 'Joe', 'last_name': 'Smith', 'phone': '101-111-111-01', 'address': 'Trajn'},\n",
    "]\n",
    "\n",
    "for p in pd_dict:\n",
    "    print(f\"name: {p['name']}, \\n last name: {p['last_name']} \\n phone: {p['phone']}, \\n address: {p['address']} \\n\")\n",
    "\n",
    "    phone = re.match(r'^115(-\\d{3}){2}-\\d{2}$', p['phone'])\n",
    "    print(f\"phone: {'OK' if phone else 'Does not match'}\")\n"
   ]
  },
  {
   "cell_type": "code",
   "execution_count": 10,
   "metadata": {},
   "outputs": [],
   "source": [
    "## Character Sets "
   ]
  },
  {
   "cell_type": "code",
   "execution_count": 90,
   "metadata": {},
   "outputs": [
    {
     "data": {
      "text/plain": [
       "<re.Match object; span=(77, 82), match='Chris'>"
      ]
     },
     "execution_count": 90,
     "metadata": {},
     "output_type": "execute_result"
    }
   ],
   "source": [
    "re.search(r'[cC]hr[a-z]{2}', cc_list)"
   ]
  },
  {
   "cell_type": "code",
   "execution_count": 91,
   "metadata": {},
   "outputs": [
    {
     "data": {
      "text/plain": [
       "<re.Match object; span=(0, 4), match='Ezra'>"
      ]
     },
     "execution_count": 91,
     "metadata": {},
     "output_type": "execute_result"
    }
   ],
   "source": [
    "re.search(r'[A-Za-z]+', cc_list)"
   ]
  },
  {
   "cell_type": "code",
   "execution_count": 94,
   "metadata": {},
   "outputs": [
    {
     "data": {
      "text/plain": [
       "<re.Match object; span=(5, 11), match='Koenig'>"
      ]
     },
     "execution_count": 94,
     "metadata": {},
     "output_type": "execute_result"
    }
   ],
   "source": [
    "re.search(r'[A-Za-z]{6}', cc_list)"
   ]
  },
  {
   "cell_type": "code",
   "execution_count": 119,
   "metadata": {},
   "outputs": [
    {
     "data": {
      "text/plain": [
       "<re.Match object; span=(13, 29), match='ekoenig@vpwk.com'>"
      ]
     },
     "execution_count": 119,
     "metadata": {},
     "output_type": "execute_result"
    }
   ],
   "source": [
    "re.search(r'\\w+@(vpwk|hotmail|gmail)\\.com', cc_list)"
   ]
  },
  {
   "cell_type": "code",
   "execution_count": null,
   "metadata": {},
   "outputs": [],
   "source": [
    "## Groups"
   ]
  },
  {
   "cell_type": "code",
   "execution_count": 123,
   "metadata": {},
   "outputs": [
    {
     "data": {
      "text/plain": [
       "'ekoenig@vpwk.com'"
      ]
     },
     "execution_count": 123,
     "metadata": {},
     "output_type": "execute_result"
    }
   ],
   "source": [
    "matched = re.search(r'(\\w+)@(vpwk|hotmail|gmail)\\.com', cc_list)\n",
    "matched.group(0)\n"
   ]
  },
  {
   "cell_type": "code",
   "execution_count": 124,
   "metadata": {},
   "outputs": [
    {
     "data": {
      "text/plain": [
       "'ekoenig'"
      ]
     },
     "execution_count": 124,
     "metadata": {},
     "output_type": "execute_result"
    }
   ],
   "source": [
    "matched.group(1)"
   ]
  },
  {
   "cell_type": "code",
   "execution_count": 125,
   "metadata": {},
   "outputs": [
    {
     "data": {
      "text/plain": [
       "'vpwk'"
      ]
     },
     "execution_count": 125,
     "metadata": {},
     "output_type": "execute_result"
    }
   ],
   "source": [
    "matched.group(2)"
   ]
  },
  {
   "cell_type": "code",
   "execution_count": null,
   "metadata": {},
   "outputs": [],
   "source": [
    "## Named Groups"
   ]
  },
  {
   "cell_type": "code",
   "execution_count": 135,
   "metadata": {},
   "outputs": [],
   "source": [
    "matched = re.search(r'(?P<name>\\w+)@(?P<SLD>vpwk|hotmail|gmail)\\.(?P<TLD>com)', cc_list)"
   ]
  },
  {
   "cell_type": "code",
   "execution_count": 136,
   "metadata": {
    "tags": []
   },
   "outputs": [
    {
     "name": "stdout",
     "output_type": "stream",
     "text": [
      "\n",
      "    name: ekoenig\n",
      "    Secondary Level Domain: vpwk\n",
      "    Top Level Domain: com\n",
      "    \n"
     ]
    }
   ],
   "source": [
    "print(f'''\n",
    "    name: {matched.group(\"name\")}\n",
    "    Secondary Level Domain: {matched.group(\"SLD\")}\n",
    "    Top Level Domain: {matched.group(\"TLD\")}\n",
    "    ''')"
   ]
  },
  {
   "cell_type": "code",
   "execution_count": null,
   "metadata": {},
   "outputs": [],
   "source": [
    "## Find All\n",
    "'''We can use findall to return all of the marches as a list of string'''"
   ]
  },
  {
   "cell_type": "code",
   "execution_count": 147,
   "metadata": {},
   "outputs": [
    {
     "data": {
      "text/plain": [
       "['ekoenig@vpwk.com', 'rbatman@vpwk.com', 'ctomson@vpwk.com', 'bbaio@vpwk.com']"
      ]
     },
     "execution_count": 147,
     "metadata": {},
     "output_type": "execute_result"
    }
   ],
   "source": [
    "matched = re.findall(r'\\w+@vpwk\\.com', cc_list)\n",
    "matched"
   ]
  },
  {
   "cell_type": "code",
   "execution_count": 148,
   "metadata": {},
   "outputs": [
    {
     "data": {
      "text/plain": [
       "[('ekoenig', 'vpwk', 'com'),\n",
       " ('rbatman', 'vpwk', 'com'),\n",
       " ('ctomson', 'vpwk', 'com'),\n",
       " ('bbaio', 'vpwk', 'com')]"
      ]
     },
     "execution_count": 148,
     "metadata": {},
     "output_type": "execute_result"
    }
   ],
   "source": [
    "# With groups\n",
    "matched = re.findall(r'(\\w+)@(vpwk)\\.(com)', cc_list)\n",
    "matched"
   ]
  },
  {
   "cell_type": "code",
   "execution_count": 150,
   "metadata": {},
   "outputs": [
    {
     "data": {
      "text/plain": [
       "['ekoenig', 'rbatman', 'ctomson', 'bbaio']"
      ]
     },
     "execution_count": 150,
     "metadata": {},
     "output_type": "execute_result"
    }
   ],
   "source": [
    "names = [x[0] for x in matched]\n",
    "names"
   ]
  },
  {
   "cell_type": "code",
   "execution_count": null,
   "metadata": {},
   "outputs": [],
   "source": [
    "## Find Iterator"
   ]
  },
  {
   "cell_type": "code",
   "execution_count": 6,
   "metadata": {},
   "outputs": [
    {
     "data": {
      "text/plain": [
       "<callable_iterator at 0x10919ee50>"
      ]
     },
     "execution_count": 6,
     "metadata": {},
     "output_type": "execute_result"
    }
   ],
   "source": [
    "import re\n",
    "\n",
    "'''cc_list is required'''\n",
    "\n",
    "matched = re.finditer(r'\\w+@\\w+\\.\\w+', cc_list)\n",
    "matched"
   ]
  },
  {
   "cell_type": "code",
   "execution_count": 7,
   "metadata": {},
   "outputs": [
    {
     "data": {
      "text/plain": [
       "<re.Match object; span=(13, 29), match='ekoenig@vpwk.com'>"
      ]
     },
     "execution_count": 7,
     "metadata": {},
     "output_type": "execute_result"
    }
   ],
   "source": [
    "next(matched)"
   ]
  },
  {
   "cell_type": "code",
   "execution_count": 8,
   "metadata": {},
   "outputs": [
    {
     "data": {
      "text/plain": [
       "<re.Match object; span=(54, 70), match='rbatman@vpwk.com'>"
      ]
     },
     "execution_count": 8,
     "metadata": {},
     "output_type": "execute_result"
    }
   ],
   "source": [
    "next(matched)"
   ]
  },
  {
   "cell_type": "code",
   "execution_count": 9,
   "metadata": {},
   "outputs": [
    {
     "data": {
      "text/plain": [
       "<re.Match object; span=(90, 106), match='ctomson@vpwk.com'>"
      ]
     },
     "execution_count": 9,
     "metadata": {},
     "output_type": "execute_result"
    }
   ],
   "source": [
    "next(matched)"
   ]
  },
  {
   "cell_type": "code",
   "execution_count": 10,
   "metadata": {},
   "outputs": [
    {
     "data": {
      "text/plain": [
       "<re.Match object; span=(124, 138), match='bbaio@vpwk.com'>"
      ]
     },
     "execution_count": 10,
     "metadata": {},
     "output_type": "execute_result"
    }
   ],
   "source": [
    "next(matched)"
   ]
  },
  {
   "cell_type": "code",
   "execution_count": 15,
   "metadata": {},
   "outputs": [
    {
     "name": "stdout",
     "output_type": "stream",
     "text": [
      "{'name': 'ekoenig', 'secondary_level_domain': 'vpwk', 'top_level_domain': 'com'}\n",
      "{'name': 'rbatman', 'secondary_level_domain': 'vpwk', 'top_level_domain': 'com'}\n",
      "{'name': 'ctomson', 'secondary_level_domain': 'vpwk', 'top_level_domain': 'com'}\n",
      "{'name': 'bbaio', 'secondary_level_domain': 'vpwk', 'top_level_domain': 'com'}\n"
     ]
    }
   ],
   "source": [
    "matched = re.finditer(\"(?P<name>\\w+)\\@(?P<secondary_level_domain>\\w+)\\.(?P<top_level_domain>\\w+)\",cc_list)\n",
    "for m in matched:\n",
    "    print(m.groupdict())    "
   ]
  },
  {
   "cell_type": "code",
   "execution_count": 20,
   "metadata": {},
   "outputs": [],
   "source": [
    "## Substitution"
   ]
  },
  {
   "cell_type": "code",
   "execution_count": 21,
   "metadata": {},
   "outputs": [
    {
     "data": {
      "text/plain": [
       "'The number you enter was ####'"
      ]
     },
     "execution_count": 21,
     "metadata": {},
     "output_type": "execute_result"
    }
   ],
   "source": [
    "re.sub(\"\\d\", \"#\", \"The number you entered was 0796\")"
   ]
  },
  {
   "cell_type": "code",
   "execution_count": 25,
   "metadata": {
    "scrolled": true
   },
   "outputs": [
    {
     "name": "stdout",
     "output_type": "stream",
     "text": [
      "Ezra Koenig <(com.vpwk.ekoenig>\n",
      "    Rostam Batmanglij <(com.vpwk.rbatman>\n",
      "    Chris Tomson <(com.vpwk.ctomson>\n",
      "    Bobbi Baio <(com.vpwk.bbaio>\n"
     ]
    }
   ],
   "source": [
    "users = re.sub(\n",
    "    \"(?P<name>\\w+)\\@(?P<secondary_level_domain>\\w+)\\.(?P<top_level_domain>\\w+)\",\n",
    "    \"(\\g<top_level_domain>.\\g<secondary_level_domain>.\\g<name>\",\n",
    "    cc_list\n",
    ")\n",
    "print(users)"
   ]
  },
  {
   "cell_type": "code",
   "execution_count": null,
   "metadata": {},
   "outputs": [],
   "source": [
    "## Compiling"
   ]
  },
  {
   "cell_type": "code",
   "execution_count": 41,
   "metadata": {},
   "outputs": [
    {
     "name": "stdout",
     "output_type": "stream",
     "text": [
      "<re.Match object; span=(13, 29), match='ekoenig@vpwk.com'>\n"
     ]
    }
   ],
   "source": [
    "import re\n",
    "regex = re.compile(r'\\w+\\@\\w+\\.\\w+')\n",
    "compile_users = regex.search(cc_list)\n",
    "print(compile_users)"
   ]
  },
  {
   "cell_type": "code",
   "execution_count": 45,
   "metadata": {},
   "outputs": [],
   "source": [
    "## Lazy Evaluation ##"
   ]
  },
  {
   "cell_type": "code",
   "execution_count": 46,
   "metadata": {},
   "outputs": [],
   "source": [
    "## Generators"
   ]
  },
  {
   "cell_type": "code",
   "execution_count": 49,
   "metadata": {},
   "outputs": [
    {
     "data": {
      "text/plain": [
       "<generator object count at 0x1093919e0>"
      ]
     },
     "execution_count": 49,
     "metadata": {},
     "output_type": "execute_result"
    }
   ],
   "source": [
    "def count():\n",
    "    n = 0\n",
    "    while True:\n",
    "        n += 1\n",
    "        yield n\n",
    "        \n",
    "counter = count()\n",
    "counter"
   ]
  },
  {
   "cell_type": "code",
   "execution_count": 50,
   "metadata": {},
   "outputs": [
    {
     "data": {
      "text/plain": [
       "1"
      ]
     },
     "execution_count": 50,
     "metadata": {},
     "output_type": "execute_result"
    }
   ],
   "source": [
    "next(counter)"
   ]
  },
  {
   "cell_type": "code",
   "execution_count": 51,
   "metadata": {},
   "outputs": [
    {
     "data": {
      "text/plain": [
       "2"
      ]
     },
     "execution_count": 51,
     "metadata": {},
     "output_type": "execute_result"
    }
   ],
   "source": [
    "next(counter)"
   ]
  },
  {
   "cell_type": "code",
   "execution_count": 52,
   "metadata": {},
   "outputs": [
    {
     "data": {
      "text/plain": [
       "3"
      ]
     },
     "execution_count": 52,
     "metadata": {},
     "output_type": "execute_result"
    }
   ],
   "source": [
    "next(counter)"
   ]
  },
  {
   "cell_type": "code",
   "execution_count": 55,
   "metadata": {},
   "outputs": [],
   "source": [
    "def fibonacci():\n",
    "    first = 0\n",
    "    last = 1\n",
    "    while True:\n",
    "        first, last = last, first + last\n",
    "        yield first"
   ]
  },
  {
   "cell_type": "code",
   "execution_count": 66,
   "metadata": {},
   "outputs": [
    {
     "name": "stdout",
     "output_type": "stream",
     "text": [
      "1\n",
      "1\n",
      "2\n",
      "3\n",
      "5\n",
      "8\n",
      "13\n",
      "21\n"
     ]
    }
   ],
   "source": [
    "fib = fibonacci()\n",
    "print(next(fib))\n",
    "print(next(fib))\n",
    "print(next(fib))\n",
    "print(next(fib))\n",
    "print(next(fib)) \n",
    "print(next(fib))\n",
    "print(next(fib))\n",
    "print(next(fib))"
   ]
  },
  {
   "cell_type": "code",
   "execution_count": 68,
   "metadata": {},
   "outputs": [
    {
     "name": "stdout",
     "output_type": "stream",
     "text": [
      "1\n",
      "1\n",
      "2\n",
      "3\n",
      "5\n",
      "8\n",
      "13\n",
      "21\n"
     ]
    }
   ],
   "source": [
    "fib = fibonacci()\n",
    "n = 21\n",
    "for x in fib:\n",
    "    print(x)\n",
    "    if x >= n:\n",
    "        break"
   ]
  },
  {
   "cell_type": "code",
   "execution_count": 71,
   "metadata": {},
   "outputs": [
    {
     "name": "stdout",
     "output_type": "stream",
     "text": [
      "1\n",
      "1\n",
      "2\n",
      "3\n",
      "5\n",
      "8\n",
      "13\n",
      "21\n"
     ]
    }
   ],
   "source": [
    "fib = fibonacci()\n",
    "n = 8\n",
    "for _ in range(n):\n",
    "    print(next(fib))"
   ]
  },
  {
   "cell_type": "code",
   "execution_count": null,
   "metadata": {},
   "outputs": [],
   "source": [
    "## Generator Comprenhensions"
   ]
  },
  {
   "cell_type": "code",
   "execution_count": 75,
   "metadata": {},
   "outputs": [
    {
     "data": {
      "text/plain": [
       "[0,\n",
       " 1,\n",
       " 2,\n",
       " 3,\n",
       " 4,\n",
       " 5,\n",
       " 6,\n",
       " 7,\n",
       " 8,\n",
       " 9,\n",
       " 10,\n",
       " 11,\n",
       " 12,\n",
       " 13,\n",
       " 14,\n",
       " 15,\n",
       " 16,\n",
       " 17,\n",
       " 18,\n",
       " 19,\n",
       " 20,\n",
       " 21,\n",
       " 22,\n",
       " 23,\n",
       " 24,\n",
       " 25,\n",
       " 26,\n",
       " 27,\n",
       " 28,\n",
       " 29,\n",
       " 30,\n",
       " 31,\n",
       " 32,\n",
       " 33,\n",
       " 34,\n",
       " 35,\n",
       " 36,\n",
       " 37,\n",
       " 38,\n",
       " 39,\n",
       " 40,\n",
       " 41,\n",
       " 42,\n",
       " 43,\n",
       " 44,\n",
       " 45,\n",
       " 46,\n",
       " 47,\n",
       " 48,\n",
       " 49,\n",
       " 50,\n",
       " 51,\n",
       " 52,\n",
       " 53,\n",
       " 54,\n",
       " 55,\n",
       " 56,\n",
       " 57,\n",
       " 58,\n",
       " 59,\n",
       " 60,\n",
       " 61,\n",
       " 62,\n",
       " 63,\n",
       " 64,\n",
       " 65,\n",
       " 66,\n",
       " 67,\n",
       " 68,\n",
       " 69,\n",
       " 70,\n",
       " 71,\n",
       " 72,\n",
       " 73,\n",
       " 74,\n",
       " 75,\n",
       " 76,\n",
       " 77,\n",
       " 78,\n",
       " 79,\n",
       " 80,\n",
       " 81,\n",
       " 82,\n",
       " 83,\n",
       " 84,\n",
       " 85,\n",
       " 86,\n",
       " 87,\n",
       " 88,\n",
       " 89,\n",
       " 90,\n",
       " 91,\n",
       " 92,\n",
       " 93,\n",
       " 94,\n",
       " 95,\n",
       " 96,\n",
       " 97,\n",
       " 98,\n",
       " 99]"
      ]
     },
     "execution_count": 75,
     "metadata": {},
     "output_type": "execute_result"
    }
   ],
   "source": [
    "list_o_nums = [x for x in range(100)]\n",
    "list_o_nums"
   ]
  },
  {
   "cell_type": "code",
   "execution_count": 74,
   "metadata": {},
   "outputs": [
    {
     "data": {
      "text/plain": [
       "<generator object <genexpr> at 0x1093aaac0>"
      ]
     },
     "execution_count": 74,
     "metadata": {},
     "output_type": "execute_result"
    }
   ],
   "source": [
    "gen_o_nums = (x for x in range(100))\n",
    "gen_o_nums"
   ]
  },
  {
   "cell_type": "code",
   "execution_count": 80,
   "metadata": {},
   "outputs": [
    {
     "name": "stdout",
     "output_type": "stream",
     "text": [
      "Bytes size from list of nums 904\n",
      "Bytes size from list of nums 112\n"
     ]
    }
   ],
   "source": [
    "import sys\n",
    "\n",
    "print(f\"Bytes size of list of nums {sys.getsizeof(list_o_nums)}\")\n",
    "print(f\"Bytes size of generator of nums {sys.getsizeof(gen_o_nums)}\")"
   ]
  },
  {
   "cell_type": "code",
   "execution_count": null,
   "metadata": {},
   "outputs": [],
   "source": [
    "## More IPython to Run Unix Shell Commands ##\n",
    "## Using IPython to Run Unix Shell Commands"
   ]
  },
  {
   "cell_type": "code",
   "execution_count": 81,
   "metadata": {},
   "outputs": [
    {
     "data": {
      "text/plain": [
       "IPython.utils.text.SList"
      ]
     },
     "execution_count": 81,
     "metadata": {},
     "output_type": "execute_result"
    }
   ],
   "source": [
    "var_ls = !ls -l\n",
    "type(var_ls)"
   ]
  },
  {
   "cell_type": "code",
   "execution_count": 16,
   "metadata": {},
   "outputs": [
    {
     "data": {
      "text/plain": [
       "['/dev/disk0s3    45Gi   41Gi  4.3Gi    91%  378183    1184075   24%   /Volumes/BOOTCAMP',\n",
       " '/dev/disk1s1   420Gi  175Gi  231Gi    44% 1851410 4402454270    0%   /System/Volumes/Data',\n",
       " '/dev/disk1s4   420Gi  2.0Gi  231Gi     1%       2 4404305678    0%   /private/var/vm',\n",
       " '/dev/disk1s5   420Gi   10Gi  231Gi     5%  488365 4403817315    0%   /',\n",
       " 'Filesystem      Size   Used  Avail Capacity iused      ifree %iused  Mounted on',\n",
       " 'devfs          348Ki  348Ki    0Bi   100%    1205          0  100%   /dev',\n",
       " 'map auto_home    0Bi    0Bi    0Bi   100%       0          0  100%   /System/Volumes/Data/home']"
      ]
     },
     "execution_count": 16,
     "metadata": {},
     "output_type": "execute_result"
    }
   ],
   "source": [
    "df = !df -h\n",
    "df.sort(3, nums=True)"
   ]
  },
  {
   "cell_type": "code",
   "execution_count": 10,
   "metadata": {},
   "outputs": [
    {
     "data": {
      "text/plain": [
       "['total 17',\n",
       " 'drwxrwxr-x+ 70 root  admin  2240 Oct  3 12:02 Applications',\n",
       " 'drwxr-xr-x  72 root  wheel  2304 Aug 27 16:46 Library',\n",
       " 'drwxr-xr-x@  8 root  wheel   256 Sep 29  2019 System',\n",
       " 'drwxr-xr-x   7 root  admin   224 Sep 29  2019 Users',\n",
       " 'drwxr-xr-x   4 root  wheel   128 Oct  7 11:40 Volumes',\n",
       " 'drwxr-xr-x@ 38 root  wheel  1216 Aug 27 16:44 bin',\n",
       " 'drwxr-xr-x   2 root  wheel    64 Aug 25  2019 cores',\n",
       " 'dr-xr-xr-x   3 root  wheel  8272 Oct  7 11:36 dev',\n",
       " 'lrwxr-xr-x@  1 root  admin    11 Oct 11  2019 etc -> private/etc',\n",
       " 'lrwxr-xr-x   1 root  wheel    25 Oct  7 11:37 home -> /System/Volumes/Data/home',\n",
       " 'drwxr-xr-x   4 root  wheel   128 Jan 19  2020 opt',\n",
       " 'drwxr-xr-x   6 root  wheel   192 Aug 27 16:45 private',\n",
       " 'drwxr-xr-x@ 63 root  wheel  2016 Aug 27 16:44 sbin',\n",
       " 'lrwxr-xr-x@  1 root  admin    11 Oct 11  2019 tmp -> private/tmp',\n",
       " 'drwxr-xr-x@ 11 root  wheel   352 Oct 11  2019 usr',\n",
       " 'lrwxr-xr-x@  1 root  admin    11 Oct 11  2019 var -> private/var']"
      ]
     },
     "execution_count": 10,
     "metadata": {},
     "output_type": "execute_result"
    }
   ],
   "source": [
    "var_ls = !ls -l /\n",
    "var_ls"
   ]
  },
  {
   "cell_type": "code",
   "execution_count": 21,
   "metadata": {},
   "outputs": [
    {
     "data": {
      "text/plain": [
       "['total 88944',\n",
       " 'lrwxr-xr-x   1 root   wheel        74 Oct 11  2019 2to3- -> ../../System/Library/Frameworks/Python.framework/Versions/2.7/bin/2to3-2.7',\n",
       " 'lrwxr-xr-x   1 root   wheel        74 Oct 11  2019 2to3-2.7 -> ../../System/Library/Frameworks/Python.framework/Versions/2.7/bin/2to3-2.7',\n",
       " '-rwxr-xr-x   1 root   wheel     72400 Aug 10 22:56 AssetCacheLocatorUtil',\n",
       " '-rwxr-xr-x   1 root   wheel     74304 Aug 10 22:55 AssetCacheManagerUtil',\n",
       " '-rwxr-xr-x   1 root   wheel     58480 Aug 10 22:54 AssetCacheTetheratorUtil',\n",
       " '-rwxr-xr-x   1 root   wheel     31520 Aug 10 22:56 BuildStrings',\n",
       " '-rwxr-xr-x   1 root   wheel     31488 Aug 10 22:55 CpMac',\n",
       " '-rwxr-xr-x   1 root   wheel     31488 Aug 10 22:56 DeRez',\n",
       " '-rwxr-xr-x   1 root   wheel     31504 Aug 10 22:55 GetFileInfo',\n",
       " '-rwxr-xr-x   1 root   wheel     86864 Aug 10 22:54 IOAccelMemory',\n",
       " '-rwxr-xr-x   1 root   wheel     31488 Aug 10 22:54 MergePef',\n",
       " '-rwxr-xr-x   1 root   wheel     31488 Aug 10 22:55 MvMac',\n",
       " '-rwxr-xr-x   1 root   wheel     31488 Aug 10 22:55 ResMerger',\n",
       " '-rwxr-xr-x   1 root   wheel     31488 Aug 10 22:55 Rez',\n",
       " '-rwxr-xr-x   1 root   wheel     31488 Aug 10 22:56 RezDet',\n",
       " '-rwxr-xr-x   1 root   wheel     31488 Aug 10 22:56 RezWack',\n",
       " '-rwxr-xr-x   1 root   wheel     45664 Aug 10 22:56 SafeEjectGPU',\n",
       " '-rwxr-xr-x   1 root   wheel     31488 Aug 10 22:55 SetFile',\n",
       " '-rwxr-xr-x   1 root   wheel     31488 Aug 10 22:56 SplitForks',\n",
       " '-rwxr-xr-x   1 root   wheel     31488 Aug 10 22:55 UnRezWack',\n",
       " '-rwxr-xr-x   1 root   wheel     42864 Aug 10 22:56 a2p',\n",
       " '-rwxr-xr-x   1 root   wheel    124816 Aug 10 22:55 a2p5.18',\n",
       " '-rwxr-xr-x   1 root   wheel     31488 Aug 10 22:54 actool',\n",
       " '-rwxr-xr-x   1 root   wheel     46928 Aug 10 22:55 addftinfo',\n",
       " '-rwxr-xr-x   1 root   wheel     56496 Aug 10 22:55 afclip',\n",
       " '-rwxr-xr-x   1 root   wheel    133968 Aug 10 22:56 afconvert',\n",
       " '-rwxr-xr-x   1 root   wheel     41616 Aug 10 22:54 afhash',\n",
       " '-rwxr-xr-x   1 root   wheel     89136 Aug 10 22:56 afida',\n",
       " '-rwxr-xr-x   1 root   wheel     83856 Aug 10 22:55 afinfo',\n",
       " '-rwxr-xr-x   1 root   wheel    162321 Aug 25  2019 afmtodit',\n",
       " '-rwxr-xr-x   1 root   wheel     57392 Aug 10 22:56 afplay',\n",
       " '-rwxr-xr-x   1 root   wheel     46656 Aug 10 22:54 afscexpand',\n",
       " '-rwxr-xr-x   1 root   wheel     43216 Aug 10 22:56 agentxtrap',\n",
       " '-rwxr-xr-x   1 root   wheel     31488 Aug 10 22:55 agvtool',\n",
       " '-rwxr-xr-x  15 root   wheel       190 Aug 25  2019 alias',\n",
       " '-rwxr-xr-x   1 root   wheel     43712 Aug 10 22:55 app-sso',\n",
       " '-rwxr-xr-x   1 root   wheel     50240 Aug 10 22:54 applesingle',\n",
       " 'lrwxr-xr-x   1 root   wheel        82 Oct 11  2019 appletviewer -> /System/Library/Frameworks/JavaVM.framework/Versions/Current/Commands/appletviewer',\n",
       " '-rwxr-xr-x   1 root   wheel     32096 Aug 10 22:56 apply',\n",
       " '-r-xr-xr-x   1 root   wheel      2095 Oct 16  2019 apropos',\n",
       " 'lrwxr-xr-x   1 root   wheel        73 Oct 11  2019 apt -> /System/Library/Frameworks/JavaVM.framework/Versions/Current/Commands/apt',\n",
       " '-rwxr-xr-x   1 root   wheel     31472 Aug 10 22:55 ar',\n",
       " '-rwxr-xr-x   1 root   wheel     43456 Aug 10 22:55 arch',\n",
       " '-rwxr-xr-x   1 root   wheel     31472 Aug 10 22:55 as',\n",
       " '-rwxr-xr-x   1 root   wheel     31488 Aug 10 22:56 asa',\n",
       " '-rwxr-xr-x   1 root   wheel    136896 Aug 10 22:56 asctl',\n",
       " '-rwxr-xr-x   1 root   wheel    909616 Aug 10 22:54 assetutil',\n",
       " '-r-sr-xr-x   1 root   wheel     51808 Aug 10 22:56 at',\n",
       " '-rwxr-xr-x   1 root   wheel     90528 Aug 10 22:55 atos',\n",
       " '-r-sr-xr-x   1 root   wheel     51808 Aug 10 22:55 atq',\n",
       " '-r-sr-xr-x   1 root   wheel     51808 Aug 10 22:56 atrm',\n",
       " '-rwxr-xr-x   1 root   wheel     42960 Aug 10 22:56 atsutil',\n",
       " '-rwxr-xr-x   1 root   wheel     54320 Aug 10 22:55 automator',\n",
       " '-r-xr-xr-x   1 root   wheel       125 Aug 25  2019 auval',\n",
       " '-rwxr-xr-x   1 root   wheel    146704 Aug 10 22:55 auvaltool',\n",
       " '-rwxr-xr-x   1 root   wheel     70432 Aug 10 22:54 avbdiagnose',\n",
       " '-rwxr-xr-x   1 root   wheel     72960 Aug 10 22:55 avbutil',\n",
       " '-rwxr-xr-x   1 root   wheel     59808 Aug 10 22:54 avconvert',\n",
       " '-rwxr-xr-x   1 root   wheel     42544 Aug 10 22:55 avmetareadwrite',\n",
       " '-rwxr-xr-x   1 root   wheel    121664 Aug 10 22:56 awk',\n",
       " '-rwxr-xr-x   1 root   wheel     44208 Aug 10 22:55 banner',\n",
       " '-rwxr-xr-x   1 root   wheel     36368 Aug 10 22:56 base64',\n",
       " '-rwxr-xr-x   1 root   wheel     31424 Aug 10 22:55 basename',\n",
       " '-r-xr-xr-x   1 root   wheel      6574 Aug 27  2019 bashbug',\n",
       " '-r-sr-xr-x   1 root   wheel     51808 Aug 10 22:55 batch',\n",
       " '-rwxr-xr-x   1 root   wheel     94416 Aug 10 22:56 bc',\n",
       " '-rwxr-xr-x  15 root   wheel       190 Aug 25  2019 bg',\n",
       " '-rwxr-xr-x   1 root   wheel     31360 Aug 10 22:56 biff',\n",
       " '-rwxr-xr-x   1 root   wheel     58912 Aug 10 22:55 binhex',\n",
       " '-rwxr-xr-x  33 root   wheel       811 Aug 25  2019 binhex.pl',\n",
       " '-r-xr-xr-x   1 root   wheel      3941 Aug 25  2019 binhex5.18.pl',\n",
       " '-r-xr-xr-x   1 root   wheel      3941 Aug 25  2019 binhex5.28.pl',\n",
       " '-rwxr-xr-x   1 root   wheel    142256 Aug 10 22:56 bioutil',\n",
       " '-rwxr-xr-x   1 root   wheel     31488 Aug 10 22:55 bison',\n",
       " '-rwxr-xr-x   1 root   wheel      1958 Aug 25  2019 bitesize.d',\n",
       " '-rwxr-xr-x   1 root   wheel    197376 Aug 10 22:56 brctl',\n",
       " '-rwxr-xr-x   1 root   wheel     77056 Aug 10 22:56 bsdtar',\n",
       " '-rwxr-xr-x   1 root   wheel     35968 Aug 10 22:54 bspatch',\n",
       " '-r-xr-xr-x   1 root   wheel       580 Aug 25  2019 bundle',\n",
       " '-r-xr-xr-x   1 root   wheel       582 Aug 25  2019 bundler',\n",
       " '-rwxr-xr-x   1 root   wheel     54480 Aug 10 22:56 bunzip2',\n",
       " '-rwxr-xr-x   1 root   wheel     54480 Aug 10 22:55 bzcat',\n",
       " 'lrwxr-xr-x   1 root   wheel         6 Oct 11  2019 bzcmp -> bzdiff',\n",
       " '-rwxr-xr-x   1 root   wheel      2101 Aug 25  2019 bzdiff',\n",
       " '-rwxr-xr-x   1 root   wheel     47136 Aug 10 22:56 bzegrep',\n",
       " '-rwxr-xr-x   1 root   wheel     47136 Aug 10 22:55 bzfgrep',\n",
       " '-rwxr-xr-x   1 root   wheel     47136 Aug 10 22:55 bzgrep',\n",
       " '-rwxr-xr-x   1 root   wheel     54480 Aug 10 22:55 bzip2',\n",
       " '-rwxr-xr-x   1 root   wheel     35952 Aug 10 22:55 bzip2recover',\n",
       " 'lrwxr-xr-x   1 root   wheel         6 Oct 11  2019 bzless -> bzmore',\n",
       " '-rwxr-xr-x   1 root   wheel      1259 Aug 25  2019 bzmore',\n",
       " 'lrwxr-xr-x   1 root   wheel         7 Oct 11  2019 c++ -> clang++',\n",
       " '-rwxr-xr-x   1 root   wheel    444704 Aug 10 22:55 c++filt',\n",
       " '-rwxr-xr-x  39 root   wheel       811 Aug 25  2019 c2ph',\n",
       " '-rwxr-xr-x   1 root   wheel     36642 Aug 25  2019 c2ph5.18',\n",
       " '-rwxr-xr-x   1 root   wheel     31488 Aug 10 22:55 c89',\n",
       " '-rwxr-xr-x   1 root   wheel     31488 Aug 10 22:54 c99',\n",
       " '-rwxr-xr-x   1 root   wheel     37552 Aug 10 22:56 caffeinate',\n",
       " '-r-xr-xr-x   1 root   wheel     45392 Aug 10 22:55 cal',\n",
       " '-r-xr-xr-x   1 root   wheel     46720 Aug 10 22:55 calendar',\n",
       " '-r-xr-xr-x   1 root   wheel     36992 Aug 10 22:55 cancel',\n",
       " '-rwxr-xr-x   1 root   wheel     31824 Aug 10 22:54 cap_mkdb',\n",
       " 'lrwxr-xr-x   1 root   wheel         3 Oct 11  2019 captoinfo -> tic',\n",
       " 'lrwxr-xr-x   1 root   wheel         5 Oct 11  2019 cc -> clang',\n",
       " '-rwxr-xr-x  15 root   wheel       190 Aug 25  2019 cd',\n",
       " '-rwxr-xr-x   1 root   wheel    105040 Aug 10 22:56 certtool',\n",
       " '-rwxr-xr-x   1 root   wheel     40016 Aug 10 22:55 checknr',\n",
       " '-rwxr-xr-x   1 root   wheel     31872 Aug 10 22:56 chflags',\n",
       " '-rwxr-xr-x   1 root   wheel     46240 Aug 10 22:55 chfn',\n",
       " '-rwxr-xr-x   1 root   wheel     36416 Aug 10 22:56 chgrp',\n",
       " '-rwxr-xr-x   1 root   wheel     46240 Aug 10 22:55 chpass',\n",
       " '-rwxr-xr-x   1 root   wheel     46240 Aug 10 22:55 chsh',\n",
       " '-rwxr-xr-x   1 root   wheel     35888 Aug 10 22:56 cksum',\n",
       " '-rwxr-xr-x   1 root   wheel     31488 Aug 10 22:55 clang',\n",
       " '-rwxr-xr-x   1 root   wheel     31488 Aug 10 22:56 clang++',\n",
       " '-rwxr-xr-x   1 root   wheel     31136 Aug 10 22:55 clear',\n",
       " '-rwxr-xr-x   1 root   wheel     45792 Aug 10 22:56 cmp',\n",
       " '-rwxr-xr-x   1 root   wheel     31488 Aug 10 22:56 cmpdylib',\n",
       " '-rwxr-xr-x   1 root   wheel    152096 Aug 10 22:56 codesign',\n",
       " '-rwxr-xr-x   1 root   wheel     31520 Aug 10 22:56 codesign_allocate',\n",
       " '-rwxr-xr-x   1 root   wheel     36080 Aug 10 22:56 col',\n",
       " '-rwxr-xr-x   1 root   wheel     31696 Aug 10 22:56 colcrt',\n",
       " '-rwxr-xr-x   1 root   wheel     70784 Aug 10 22:56 colldef',\n",
       " '-rwxr-xr-x   1 root   wheel     31616 Aug 10 22:56 colrm',\n",
       " '-rwxr-xr-x   1 root   wheel     36624 Aug 10 22:55 column',\n",
       " '-rwxr-xr-x   1 root   wheel     31776 Aug 10 22:55 comm',\n",
       " '-rwxr-xr-x  15 root   wheel       190 Aug 25  2019 command',\n",
       " '-rwxr-xr-x   1 root   wheel     40944 Aug 10 22:54 compress',\n",
       " '-rwxr-xr-x   1 root   wheel     36160 Aug 10 22:55 compression_tool',\n",
       " '-rwxr-xr-x  39 root   wheel       811 Aug 25  2019 config_data',\n",
       " '-rwxr-xr-x   1 root   wheel      7265 Aug 25  2019 config_data5.18',\n",
       " '-rwxr-xr-x  39 root   wheel       811 Aug 25  2019 corelist',\n",
       " '-rwxr-xr-x   1 root   wheel     12790 Aug 25  2019 corelist5.18',\n",
       " '-rwxr-xr-x   1 root   wheel     15123 Aug 25  2019 corelist5.28',\n",
       " '-rwxr-xr-x  39 root   wheel       811 Aug 25  2019 cpan',\n",
       " '-rwxr-xr-x  39 root   wheel       811 Aug 25  2019 cpan2dist',\n",
       " '-rwxr-xr-x   1 root   wheel     21859 Aug 25  2019 cpan2dist5.18',\n",
       " '-rwxr-xr-x   1 root   wheel      5895 Aug 25  2019 cpan5.18',\n",
       " '-rwxr-xr-x   1 root   wheel      8191 Aug 25  2019 cpan5.28',\n",
       " '-rwxr-xr-x  39 root   wheel       811 Aug 25  2019 cpanp',\n",
       " '-rwxr-xr-x  39 root   wheel       811 Aug 25  2019 cpanp-run-perl',\n",
       " '-rwxr-xr-x   1 root   wheel       580 Aug 25  2019 cpanp-run-perl5.18',\n",
       " '-rwxr-xr-x   1 root   wheel      3433 Aug 25  2019 cpanp5.18',\n",
       " '-rwxr-xr-x   1 root   wheel     57968 Aug 10 22:55 cpio',\n",
       " '-rwxr-xr-x   1 root   wheel     31488 Aug 10 22:55 cpp',\n",
       " '-rwxr-xr-x   1 root   wheel      1402 Aug 25  2019 cpu_profiler.d',\n",
       " '-rwxr-xr-x   1 root   wheel     31744 Aug 10 22:55 cpuctl',\n",
       " '-rwxr-xr-x   1 root   wheel      1540 Aug 25  2019 cpuwalk.d',\n",
       " '-rwxr-xr-x  33 root   wheel       811 Aug 25  2019 crc32',\n",
       " '-r-xr-xr-x   1 root   wheel       871 Aug 25  2019 crc325.18',\n",
       " '-r-xr-xr-x   1 root   wheel       871 Aug 25  2019 crc325.28',\n",
       " '-rwxr-xr-x   1 root   wheel       342 Aug 25  2019 creatbyproc.d',\n",
       " '-rwxr-xr-x   1 root   wheel     48496 Aug 10 22:54 crlrefresh',\n",
       " '-rwsr-xr-x   1 root   wheel     52320 Aug 10 22:55 crontab',\n",
       " '-rwxr-xr-x   1 root   wheel     14990 Aug 25  2019 csdiagnose',\n",
       " '-rwxr-xr-x   1 root   wheel    547232 Aug 10 22:55 csgather',\n",
       " '-rwxr-xr-x   1 root   wheel     37136 Aug 10 22:54 csplit',\n",
       " '-rwxr-xr-x   1 root   wheel     50960 Aug 10 22:55 csreq',\n",
       " '-rwxr-xr-x   1 root   wheel     42912 Aug 10 22:55 csrutil',\n",
       " '-rwxr-xr-x   1 root   wheel     31488 Aug 10 22:56 ctags',\n",
       " '-rwxr-xr-x   1 root   wheel     31488 Aug 10 22:56 ctf_insert',\n",
       " '-r-xr-xr-x   1 _uucp  wheel    142576 Aug 10 22:55 cu',\n",
       " '-r-xr-xr-x   1 root   wheel      2527 May  1 05:36 cups-config',\n",
       " '-r-xr-xr-x   1 root   wheel     76544 Aug 10 22:54 cupstestppd',\n",
       " '-rwxr-xr-x   1 root   wheel    207808 Aug 10 22:55 curl',\n",
       " '-rwxr-xr-x   1 root   wheel      5441 Apr 17 23:46 curl-config',\n",
       " '-rwxr-xr-x   1 root   wheel     36832 Aug 10 22:55 cut',\n",
       " 'lrwxr-xr-x   1 root   wheel        59 Oct 11  2019 cvaffinity -> /System/Library/Filesystems/acfs.fs/Contents/bin/cvaffinity',\n",
       " 'lrwxr-xr-x   1 root   wheel        53 Oct 11  2019 cvcp -> /System/Library/Filesystems/acfs.fs/Contents/bin/cvcp',\n",
       " 'lrwxr-xr-x   1 root   wheel        56 Oct 11  2019 cvmkdir -> /System/Library/Filesystems/acfs.fs/Contents/bin/cvmkdir',\n",
       " 'lrwxr-xr-x   1 root   wheel        57 Oct 11  2019 cvmkfile -> /System/Library/Filesystems/acfs.fs/Contents/bin/cvmkfile',\n",
       " '-rwxr-xr-x   1 root   wheel      7163 Aug 25  2019 dappprof',\n",
       " '-rwxr-xr-x   1 root   wheel      7878 Aug 25  2019 dapptrace',\n",
       " '-rwxr-xr-x   1 root   wheel    152704 Aug 10 22:55 darwinup',\n",
       " '-r-xr-xr-x   1 root   wheel   1032704 Aug 10 22:56 db_archive',\n",
       " '-r-xr-xr-x   1 root   wheel   1032784 Aug 10 22:56 db_checkpoint',\n",
       " '-r-xr-xr-x   1 root   wheel   1045040 Aug 10 22:55 db_codegen',\n",
       " '-r-xr-xr-x   1 root   wheel   1032784 Aug 10 22:56 db_deadlock',\n",
       " '-r-xr-xr-x   1 root   wheel   1032832 Aug 10 22:54 db_dump',\n",
       " '-r-xr-xr-x   1 root   wheel   1037072 Aug 10 22:55 db_hotbackup',\n",
       " '-r-xr-xr-x   1 root   wheel   1041536 Aug 10 22:55 db_load',\n",
       " '-r-xr-xr-x   1 root   wheel   1067312 Aug 10 22:56 db_printlog',\n",
       " '-r-xr-xr-x   1 root   wheel   1032848 Aug 10 22:56 db_recover',\n",
       " '-r-xr-xr-x   1 root   wheel   1032704 Aug 10 22:55 db_stat',\n",
       " '-r-xr-xr-x   1 root   wheel   1032704 Aug 10 22:56 db_upgrade',\n",
       " '-r-xr-xr-x   1 root   wheel   1032720 Aug 10 22:56 db_verify',\n",
       " '-rwxr-xr-x  33 root   wheel       811 Aug 25  2019 dbicadmin',\n",
       " '-r-xr-xr-x   1 root   wheel      7195 Aug 25  2019 dbicadmin5.18',\n",
       " '-r-xr-xr-x   1 root   wheel      7195 Aug 25  2019 dbicadmin5.28',\n",
       " '-rwxr-xr-x  33 root   wheel       811 Aug 25  2019 dbilogstrip',\n",
       " '-r-xr-xr-x   1 root   wheel      1469 Aug 25  2019 dbilogstrip5.18',\n",
       " '-r-xr-xr-x   1 root   wheel      1469 Aug 25  2019 dbilogstrip5.28',\n",
       " '-rwxr-xr-x  33 root   wheel       811 Aug 25  2019 dbiprof',\n",
       " '-r-xr-xr-x   1 root   wheel      6295 Aug 25  2019 dbiprof5.18',\n",
       " '-r-xr-xr-x   1 root   wheel      6295 Aug 25  2019 dbiprof5.28',\n",
       " '-rwxr-xr-x  33 root   wheel       811 Aug 25  2019 dbiproxy',\n",
       " '-r-xr-xr-x   1 root   wheel      5479 Aug 25  2019 dbiproxy5.18',\n",
       " '-r-xr-xr-x   1 root   wheel      5479 Aug 25  2019 dbiproxy5.28',\n",
       " '-rwxr-xr-x   1 root   wheel     59344 Aug 10 22:56 dc',\n",
       " '-rwxr-xr-x  33 root   wheel       811 Aug 25  2019 debinhex.pl',\n",
       " '-r-xr-xr-x   1 root   wheel      5882 Aug 25  2019 debinhex5.18.pl',\n",
       " '-r-xr-xr-x   1 root   wheel      5882 Aug 25  2019 debinhex5.28.pl',\n",
       " '-rwxr-xr-x   1 root   wheel     53200 Aug 10 22:55 defaults',\n",
       " '-rwxr-xr-x   1 root   wheel   1876768 Aug 10 22:55 delv',\n",
       " '-rwxr-xr-x   1 root   wheel     31488 Aug 10 22:55 desdp',\n",
       " '-rwxr-xr-x   1 root   wheel      2391 Sep 14  2019 diagnose-fu',\n",
       " '-rwxr-xr-x   1 root   wheel    118784 Aug 10 22:55 diff',\n",
       " '-rwxr-xr-x   1 root   wheel     50240 Aug 10 22:56 diff3',\n",
       " '-rwxr-xr-x   1 root   wheel     54192 Aug 10 22:55 diffstat',\n",
       " '-rwxr-xr-x   1 root   wheel   1878224 Aug 10 22:55 dig',\n",
       " '-rwxr-xr-x   1 root   wheel     31248 Aug 10 22:56 dirname',\n",
       " '-rwxr-xr-x   1 root   wheel      1290 Aug 25  2019 dispqlen.d',\n",
       " '-rwxr-xr-x   1 root   wheel     47824 Aug 10 22:56 ditto',\n",
       " '-rwxr-xr-x   1 root   wheel     42032 Aug 10 22:55 dmc',\n",
       " '-rwxr-xr-x   1 root   wheel     75968 Aug 10 22:56 dns-sd',\n",
       " '-rwxr-xr-x   1 root   wheel    273200 Aug 10 22:56 drutil',\n",
       " '-rwxr-xr-x   1 root   wheel     47360 Aug 10 22:55 dscacheutil',\n",
       " '-rwxr-xr-x   1 root   wheel    199360 Aug 10 22:56 dscl',\n",
       " '-rwxr-xr-x   1 root   wheel     31152 Aug 10 22:55 dserr',\n",
       " '-rwxr-xr-x   1 root   wheel     46480 Aug 10 22:56 dsexport',\n",
       " '-rwxr-xr-x   1 root   wheel     88912 Aug 10 22:55 dsimport',\n",
       " '-rwxr-xr-x   1 root   wheel     36768 Aug 10 22:54 dsmemberutil',\n",
       " '-rwxr-xr-x   1 root   wheel     31488 Aug 10 22:56 dsymutil',\n",
       " '-rwxr-xr-x   1 root   wheel     30607 Aug 25  2019 dtruss',\n",
       " '-rwxr-xr-x   1 root   wheel     36784 Aug 10 22:56 du',\n",
       " '-rwxr-xr-x   1 root   wheel     31488 Aug 10 22:55 dwarfdump',\n",
       " '-rwxr-xr-x   2 root   wheel       544 Aug 25  2019 easy_install',\n",
       " '-rwxr-xr-x   2 root   wheel       544 Aug 25  2019 easy_install-2.7',\n",
       " '-rwxr-xr-x   1 root   wheel     47136 Aug 10 22:55 egrep',\n",
       " '-rwxr-xr-x  39 root   wheel       811 Aug 25  2019 enc2xs',\n",
       " '-rwxr-xr-x   1 root   wheel     39189 Aug 25  2019 enc2xs5.18',\n",
       " '-rwxr-xr-x   1 root   wheel     42079 Aug 25  2019 enc2xs5.28',\n",
       " '-rwxr-xr-x  39 root   wheel       811 Aug 25  2019 encguess',\n",
       " '-rwxr-xr-x   1 root   wheel      3101 Aug 25  2019 encguess5.28',\n",
       " '-rwxr-xr-x   1 root   wheel     41984 Aug 10 22:54 encode_keychange',\n",
       " '-rwxr-xr-x   1 root   wheel     36640 Aug 10 22:56 env',\n",
       " '-rwxr-xr-x   1 root   wheel    149952 Aug 10 22:56 eqn',\n",
       " '-r-xr-xr-x   1 root   wheel      5136 Aug 25  2019 erb',\n",
       " '-rwxr-xr-x   1 root   wheel      4516 Aug 25  2019 errinfo',\n",
       " 'lrwxr-xr-x   1 root   wheel         3 Oct 11  2019 ex -> vim',\n",
       " '-rwxr-xr-x   1 root   wheel      5115 Aug 25  2019 execsnoop',\n",
       " '-rwxr-xr-x   1 root   wheel     31696 Aug 10 22:55 expand',\n",
       " '-r-xr-xr-x   1 root   wheel     36192 Aug 10 22:54 expect',\n",
       " 'lrwxr-xr-x   1 root   wheel        78 Oct 11  2019 extcheck -> /System/Library/Frameworks/JavaVM.framework/Versions/Current/Commands/extcheck',\n",
       " '-rwxr-xr-x  33 root   wheel       811 Aug 25  2019 eyapp',\n",
       " '-r-xr-xr-x   1 root   wheel     12841 Aug 25  2019 eyapp5.18',\n",
       " '-r-xr-xr-x   1 root   wheel     12841 Aug 25  2019 eyapp5.28',\n",
       " '-rwxr-xr-x   1 root   wheel     30944 Aug 10 22:56 false',\n",
       " '-rwxr-xr-x  15 root   wheel       190 Aug 25  2019 fc',\n",
       " '-rwxr-xr-x   1 root   wheel      2668 Aug 25  2019 fddist',\n",
       " '-rwxr-xr-x   1 root   wheel    324320 Aug 10 22:55 fdesetup',\n",
       " '-rwxr-xr-x  15 root   wheel       190 Aug 25  2019 fg',\n",
       " '-rwxr-xr-x   1 root   wheel     47136 Aug 10 22:55 fgrep',\n",
       " '-rwxr-xr-x   1 root   wheel    141248 Aug 10 22:56 file',\n",
       " '-rwxr-xr-x   1 root   wheel       272 Aug 25  2019 filebyproc.d',\n",
       " '-rwxr-xr-x   1 root   wheel   5665520 Aug 10 22:56 fileproviderctl',\n",
       " '-rwxr-xr-x   1 root   wheel     83856 Aug 10 22:55 filtercalltree',\n",
       " '-rwxr-xr-x   1 root   wheel     65040 Aug 10 22:55 find',\n",
       " '-rwxr-xr-x  39 root   wheel       811 Aug 25  2019 find2perl',\n",
       " '-rwxr-xr-x   1 root   wheel     23634 Aug 25  2019 find2perl5.18',\n",
       " '-rwxr-xr-x  33 root   wheel       811 Aug 25  2019 findrule',\n",
       " '-r-xr-xr-x   1 root   wheel      3418 Aug 25  2019 findrule5.18',\n",
       " '-r-xr-xr-x   1 root   wheel      3418 Aug 25  2019 findrule5.28',\n",
       " '-rwxr-xr-x   1 root   wheel     47104 Aug 10 22:56 finger',\n",
       " '-rwxr-xr-x   1 root   wheel     15523 Aug 25  2019 fixproc',\n",
       " '-rwxr-xr-x   1 root   wheel     31488 Aug 10 22:56 flex',\n",
       " '-rwxr-xr-x   1 root   wheel     31488 Aug 10 22:55 flex++',\n",
       " '-rwxr-xr-x   1 root   wheel     36336 Aug 10 22:55 fmt',\n",
       " '-rwxr-xr-x   1 root   wheel     31920 Aug 10 22:55 fold',\n",
       " 'lrwxr-xr-x   1 root   wheel       126 Oct 11  2019 fontrestore -> ../../System/Library/Frameworks/ApplicationServices.framework/Versions/A/Frameworks/ATS.framework/Versions/A/Support/fontmover',\n",
       " '-rwxr-xr-x   1 root   wheel    209920 Aug 10 22:56 footprint',\n",
       " '-rwxr-xr-x  33 root   wheel       811 Aug 25  2019 format-sql',\n",
       " '-r-xr-xr-x   1 root   wheel       448 Aug 25  2019 format-sql5.18',\n",
       " '-r-xr-xr-x   1 root   wheel       448 Aug 25  2019 format-sql5.28',\n",
       " '-rwxr-xr-x   1 root   wheel     31840 Aug 10 22:54 from',\n",
       " '-rwxr-xr-x   1 root   wheel     73696 Aug 10 22:54 fs_usage',\n",
       " '-rwxr-xr-x   1 root   wheel     48688 Aug 10 22:56 funzip',\n",
       " '-r-xr-xr-x   1 root   wheel      2610 Aug 25  2019 fuser',\n",
       " '-rwxr-xr-x   1 root   wheel     47104 Aug 10 22:55 fwkdp',\n",
       " '-rwxr-xr-x   1 root   wheel     55520 Aug 10 22:55 fwkpfv',\n",
       " '-rwxr-xr-x   1 root   wheel     31488 Aug 10 22:56 g++',\n",
       " '-rwxr-xr-x   1 root   wheel     31520 Aug 10 22:55 gatherheaderdoc',\n",
       " '-rwxr-xr-x   1 root   wheel     31488 Aug 10 22:55 gcc',\n",
       " '-rwxr-xr-x   1 root   wheel     97840 Aug 10 22:55 gcore',\n",
       " '-rwxr-xr-x   1 root   wheel     31488 Aug 10 22:54 gcov',\n",
       " '-rwxr-xr-x   1 root   wheel      7198 Aug 25  2019 gdiffmk',\n",
       " '-r-xr-xr-x   1 root   wheel       596 Aug 25  2019 gem',\n",
       " '-r-xr-xr-x   1 root   wheel     79113 Aug 25  2019 gen_bridge_metadata',\n",
       " '-rwxr-xr-x   1 root   wheel     40608 Aug 10 22:55 gencat',\n",
       " '-rwxr-xr-x   1 root   wheel     31488 Aug 10 22:55 genstrings',\n",
       " '-rwxr-xr-x   1 root   wheel     44320 Aug 10 22:56 getconf',\n",
       " '-rwxr-xr-x   1 root   wheel     31120 Aug 10 22:56 getopt',\n",
       " '-rwxr-xr-x  15 root   wheel       190 Aug 25  2019 getopts',\n",
       " '-rwxr-xr-x   1 root   wheel     31488 Aug 10 22:54 git',\n",
       " '-rwxr-xr-x   1 root   wheel     31520 Aug 10 22:56 git-receive-pack',\n",
       " '-rwxr-xr-x   1 root   wheel     31488 Aug 10 22:55 git-shell',\n",
       " '-rwxr-xr-x   1 root   wheel     31520 Aug 10 22:56 git-upload-archive',\n",
       " '-rwxr-xr-x   1 root   wheel     31520 Aug 10 22:55 git-upload-pack',\n",
       " '-rwxr-xr-x   1 root   wheel     31488 Aug 10 22:56 gm4',\n",
       " '-rwxr-xr-x   1 root   wheel     31488 Aug 10 22:54 gnumake',\n",
       " '-rwxr-xr-x   1 root   wheel     31488 Aug 10 22:56 gperf',\n",
       " '-rwxr-xr-x   1 root   wheel     47136 Aug 10 22:55 grep',\n",
       " '-rwxr-xr-x   1 root   wheel     81360 Aug 10 22:56 grn',\n",
       " '-rwxr-xr-x   1 root   wheel     96400 Aug 10 22:55 grodvi',\n",
       " '-rwxr-xr-x   1 root   wheel     81360 Aug 10 22:55 groff',\n",
       " '-rwxr-xr-x   1 root   wheel      7074 Aug 25  2019 groffer',\n",
       " '-rwxr-xr-x   1 root   wheel      2471 Aug 25  2019 grog',\n",
       " '-rwxr-xr-x   1 root   wheel    100032 Aug 10 22:56 grolbp',\n",
       " '-rwxr-xr-x   1 root   wheel     95952 Aug 10 22:55 grolj4',\n",
       " '-rwxr-xr-x   1 root   wheel    129888 Aug 10 22:56 grops',\n",
       " '-rwxr-xr-x   1 root   wheel     96128 Aug 10 22:56 grotty',\n",
       " '-rwxr-xr-x   1 root   wheel     36368 Aug 10 22:55 groups',\n",
       " '-rwxr-xr-x   1 root   wheel     66896 Aug 10 22:54 gunzip',\n",
       " '-rwxr-xr-x   1 root   wheel     66896 Aug 10 22:54 gzcat',\n",
       " '-rwxr-xr-x   1 root   wheel      4085 Aug 25  2019 gzexe',\n",
       " '-rwxr-xr-x   1 root   wheel     60288 Aug 10 22:55 gzip',\n",
       " '-rwxr-xr-x  39 root   wheel       811 Aug 25  2019 h2ph',\n",
       " '-rwxr-xr-x   1 root   wheel     28167 Aug 25  2019 h2ph5.18',\n",
       " '-rwxr-xr-x   1 root   wheel     29259 Aug 25  2019 h2ph5.28',\n",
       " '-rwxr-xr-x  39 root   wheel       811 Aug 25  2019 h2xs',\n",
       " '-rwxr-xr-x   1 root   wheel     60725 Aug 25  2019 h2xs5.18',\n",
       " '-rwxr-xr-x   1 root   wheel     60901 Aug 25  2019 h2xs5.28',\n",
       " '-rwxr-xr-x  15 root   wheel       190 Aug 25  2019 hash',\n",
       " '-rwxr-xr-x   1 root   wheel     31072 Aug 10 22:55 hdid',\n",
       " '-rwxr-xr-x   1 root   wheel    349376 Aug 10 22:56 hdiutil',\n",
       " '-rwxr-xr-x   1 root   wheel     31520 Aug 10 22:55 hdxml2manxml',\n",
       " '-rwxr-xr-x   1 root   wheel     32160 Aug 10 22:56 head',\n",
       " '-rwxr-xr-x   1 root   wheel     31520 Aug 10 22:56 headerdoc2html',\n",
       " '-rwxr-xr-x   1 root   wheel    119744 Aug 10 22:54 heap',\n",
       " '-rwxr-xr-x   1 root   wheel     46000 Aug 10 22:55 hexdump',\n",
       " '-rwxr-xr-x   1 root   wheel     52464 Aug 10 22:55 hidutil',\n",
       " '-rwxr-xr-x   1 root   wheel    123392 Aug 10 22:55 hiutil',\n",
       " '-rwxr-xr-x   1 root   wheel   1861632 Aug 10 22:56 host',\n",
       " '-rwxr-xr-x   1 root   wheel     31760 Aug 10 22:55 hostinfo',\n",
       " '-rwxr-xr-x   1 root   wheel      1939 Aug 25  2019 hotspot.d',\n",
       " '-rwxr-xr-x   1 root   wheel    135728 Aug 10 22:56 hpftodit',\n",
       " '-rwxr-xr-x   1 root   wheel    101376 Aug 10 22:54 hpmdiagnose',\n",
       " '-rwxr-xr-x  33 root   wheel       811 Aug 25  2019 htmltree',\n",
       " '-r-xr-xr-x   1 root   wheel      1177 Aug 25  2019 htmltree5.18',\n",
       " '-r-xr-xr-x   1 root   wheel      1177 Aug 25  2019 htmltree5.28',\n",
       " '-rwxr-xr-x   1 root   wheel     31488 Aug 10 22:56 ibtool',\n",
       " '-rwxr-xr-x   1 root   wheel     46064 Aug 10 22:56 iconutil',\n",
       " '-rwxr-xr-x   1 root   wheel     45328 Aug 10 22:55 iconv',\n",
       " '-rwxr-xr-x   1 root   wheel     31488 Aug 10 22:55 ictool',\n",
       " '-rwxr-xr-x   1 root   wheel     36368 Aug 10 22:56 id',\n",
       " 'lrwxr-xr-x   1 root   wheel        73 Oct 11  2019 idle -> ../../System/Library/Frameworks/Python.framework/Versions/2.7/bin/idle2.7',\n",
       " 'lrwxr-xr-x   1 root   wheel        73 Oct 11  2019 idle2.7 -> ../../System/Library/Frameworks/Python.framework/Versions/2.7/bin/idle2.7',\n",
       " 'lrwxr-xr-x   1 root   wheel        74 Oct 11  2019 idlj -> /System/Library/Frameworks/JavaVM.framework/Versions/Current/Commands/idlj',\n",
       " '-rwxr-xr-x   1 root   wheel      8545 Sep 26  2019 imptrace',\n",
       " '-rwxr-xr-x   1 root   wheel     31488 Aug 10 22:55 indent',\n",
       " '-rwxr-xr-x   1 root   wheel     57504 Aug 10 22:56 indxbib',\n",
       " '-rwxr-xr-x   1 root   wheel    184320 Aug 10 22:55 info',\n",
       " '-rwxr-xr-x   1 root   wheel     67792 Aug 10 22:56 infocmp',\n",
       " '-rwxr-xr-x   1 root   wheel     68560 Aug 10 22:54 infokey',\n",
       " 'lrwxr-xr-x   1 root   wheel         3 Oct 11  2019 infotocap -> tic',\n",
       " '-rwxr-xr-x   1 root   wheel     41776 Aug 10 22:54 install',\n",
       " '-rwxr-xr-x   1 root   wheel     73216 Aug 10 22:56 install-info',\n",
       " '-rwxr-xr-x   1 root   wheel     31520 Aug 10 22:55 install_name_tool',\n",
       " '-rwxr-xr-x  39 root   wheel       811 Aug 25  2019 instmodsh',\n",
       " '-rwxr-xr-x   1 root   wheel      4288 Aug 25  2019 instmodsh5.18',\n",
       " '-rwxr-xr-x   1 root   wheel      4322 Aug 25  2019 instmodsh5.28',\n",
       " '-rwxr-xr-x   1 root   wheel     31504 Aug 10 22:56 instruments',\n",
       " '-rwxr-xr-x   1 root   wheel      1976 Aug 25  2019 iofile.d',\n",
       " '-rwxr-xr-x   1 root   wheel      1573 Aug 25  2019 iofileb.d',\n",
       " '-rwxr-xr-x   1 root   wheel      6604 Aug 25  2019 iopattern',\n",
       " '-rwxr-xr-x   1 root   wheel      5946 Aug 25  2019 iopending',\n",
       " '-rwxr-xr-x   1 root   wheel     12137 Aug 25  2019 iosnoop',\n",
       " '-rwxr-xr-x   1 root   wheel     11884 Aug 25  2019 iotop',\n",
       " '-rwxr-xr-x  33 root   wheel       811 Aug 25  2019 ip2cc',\n",
       " '-r-xr-xr-x   1 root   wheel      2116 Aug 25  2019 ip2cc5.18',\n",
       " '-r-xr-xr-x   1 root   wheel      2116 Aug 25  2019 ip2cc5.28',\n",
       " '-rwxr-xr-x  33 root   wheel       811 Aug 25  2019 ipcount',\n",
       " '-r-xr-xr-x   1 root   wheel      3728 Aug 25  2019 ipcount5.18',\n",
       " '-r-xr-xr-x   1 root   wheel      3728 Aug 25  2019 ipcount5.28',\n",
       " '-rwxr-xr-x   1 root   wheel     31712 Aug 10 22:56 ipcrm',\n",
       " '-rwxr-xr-x   1 root   wheel     40160 Aug 10 22:55 ipcs',\n",
       " '-r-xr-xr-x   1 root   wheel    126112 Aug 10 22:56 ippeveprinter',\n",
       " '-r-xr-xr-x   1 root   wheel     56416 Aug 10 22:55 ippfind',\n",
       " '-r-xr-xr-x   1 root   wheel     89040 Aug 10 22:56 ipptool',\n",
       " '-rwxr-xr-x   1 root   wheel     31488 Aug 10 22:56 iprofiler',\n",
       " '-rwxr-xr-x  33 root   wheel       811 Aug 25  2019 iptab',\n",
       " '-r-xr-xr-x   1 root   wheel       986 Aug 25  2019 iptab5.18',\n",
       " '-r-xr-xr-x   1 root   wheel       986 Aug 25  2019 iptab5.28',\n",
       " '-r-xr-xr-x   1 root   wheel       558 Aug 25  2019 irb',\n",
       " 'lrwxr-xr-x   1 root   wheel        73 Oct 11  2019 jar -> /System/Library/Frameworks/JavaVM.framework/Versions/Current/Commands/jar',\n",
       " 'lrwxr-xr-x   1 root   wheel        79 Oct 11  2019 jarsigner -> /System/Library/Frameworks/JavaVM.framework/Versions/Current/Commands/jarsigner',\n",
       " 'lrwxr-xr-x   1 root   wheel        74 Oct 11  2019 java -> /System/Library/Frameworks/JavaVM.framework/Versions/Current/Commands/java',\n",
       " 'lrwxr-xr-x   1 root   wheel        75 Oct 11  2019 javac -> /System/Library/Frameworks/JavaVM.framework/Versions/Current/Commands/javac',\n",
       " 'lrwxr-xr-x   1 root   wheel        77 Oct 11  2019 javadoc -> /System/Library/Frameworks/JavaVM.framework/Versions/Current/Commands/javadoc',\n",
       " 'lrwxr-xr-x   1 root   wheel        75 Oct 11  2019 javah -> /System/Library/Frameworks/JavaVM.framework/Versions/Current/Commands/javah',\n",
       " 'lrwxr-xr-x   1 root   wheel        75 Oct 11  2019 javap -> /System/Library/Frameworks/JavaVM.framework/Versions/Current/Commands/javap',\n",
       " 'lrwxr-xr-x   1 root   wheel        82 Oct 11  2019 javapackager -> /System/Library/Frameworks/JavaVM.framework/Versions/Current/Commands/javapackager',\n",
       " 'lrwxr-xr-x   1 root   wheel        76 Oct 11  2019 javaws -> /System/Library/Frameworks/JavaVM.framework/Versions/Current/Commands/javaws',\n",
       " 'lrwxr-xr-x   1 root   wheel        74 Oct 11  2019 jcmd -> /System/Library/Frameworks/JavaVM.framework/Versions/Current/Commands/jcmd',\n",
       " 'lrwxr-xr-x   1 root   wheel        78 Oct 11  2019 jconsole -> /System/Library/Frameworks/JavaVM.framework/Versions/Current/Commands/jconsole',\n",
       " 'lrwxr-xr-x   1 root   wheel        78 Oct 11  2019 jcontrol -> /System/Library/Frameworks/JavaVM.framework/Versions/Current/Commands/jcontrol',\n",
       " 'lrwxr-xr-x   1 root   wheel        73 Oct 11  2019 jdb -> /System/Library/Frameworks/JavaVM.framework/Versions/Current/Commands/jdb',\n",
       " 'lrwxr-xr-x   1 root   wheel        75 Oct 11  2019 jdeps -> /System/Library/Frameworks/JavaVM.framework/Versions/Current/Commands/jdeps',\n",
       " 'lrwxr-xr-x   1 root   wheel        74 Oct 11  2019 jhat -> /System/Library/Frameworks/JavaVM.framework/Versions/Current/Commands/jhat',\n",
       " 'lrwxr-xr-x   1 root   wheel        75 Oct 11  2019 jhsdb -> /System/Library/Frameworks/JavaVM.framework/Versions/Current/Commands/jhsdb',\n",
       " 'lrwxr-xr-x   1 root   wheel        76 Oct 11  2019 jimage -> /System/Library/Frameworks/JavaVM.framework/Versions/Current/Commands/jimage',\n",
       " 'lrwxr-xr-x   1 root   wheel        75 Oct 11  2019 jinfo -> /System/Library/Frameworks/JavaVM.framework/Versions/Current/Commands/jinfo',\n",
       " 'lrwxr-xr-x   1 root   wheel        73 Oct 11  2019 jjs -> /System/Library/Frameworks/JavaVM.framework/Versions/Current/Commands/jjs',\n",
       " 'lrwxr-xr-x   1 root   wheel        74 Oct 11  2019 jmap -> /System/Library/Frameworks/JavaVM.framework/Versions/Current/Commands/jmap',\n",
       " 'lrwxr-xr-x   1 root   wheel        73 Oct 11  2019 jmc -> /System/Library/Frameworks/JavaVM.framework/Versions/Current/Commands/jmc',\n",
       " '-rwxr-xr-x  15 root   wheel       190 Aug 25  2019 jobs',\n",
       " '-rwxr-xr-x   1 root   wheel     36656 Aug 10 22:54 join',\n",
       " '-rwxr-xr-x   1 root   wheel     36224 Aug 10 22:55 jot',\n",
       " 'lrwxr-xr-x   1 root   wheel        73 Oct 11  2019 jps -> /System/Library/Frameworks/JavaVM.framework/Versions/Current/Commands/jps',\n",
       " 'lrwxr-xr-x   1 root   wheel        80 Oct 11  2019 jrunscript -> /System/Library/Frameworks/JavaVM.framework/Versions/Current/Commands/jrunscript',\n",
       " 'lrwxr-xr-x   1 root   wheel        79 Oct 11  2019 jsadebugd -> /System/Library/Frameworks/JavaVM.framework/Versions/Current/Commands/jsadebugd',\n",
       " 'lrwxr-xr-x   1 root   wheel        76 Oct 11  2019 jshell -> /System/Library/Frameworks/JavaVM.framework/Versions/Current/Commands/jshell',\n",
       " '-rwxr-xr-x  39 root   wheel       811 Aug 25  2019 json_pp',\n",
       " '-rwxr-xr-x   1 root   wheel      3953 Aug 25  2019 json_pp5.18',\n",
       " '-rwxr-xr-x   1 root   wheel      4414 Aug 25  2019 json_pp5.28',\n",
       " '-rwxr-xr-x  33 root   wheel       811 Aug 25  2019 json_xs',\n",
       " '-r-xr-xr-x   1 root   wheel      7102 Aug 25  2019 json_xs5.28',\n",
       " 'lrwxr-xr-x   1 root   wheel        76 Oct 11  2019 jstack -> /System/Library/Frameworks/JavaVM.framework/Versions/Current/Commands/jstack',\n",
       " 'lrwxr-xr-x   1 root   wheel        75 Oct 11  2019 jstat -> /System/Library/Frameworks/JavaVM.framework/Versions/Current/Commands/jstat',\n",
       " 'lrwxr-xr-x   1 root   wheel        76 Oct 11  2019 jstatd -> /System/Library/Frameworks/JavaVM.framework/Versions/Current/Commands/jstatd',\n",
       " 'lrwxr-xr-x   1 root   wheel        79 Oct 11  2019 jvisualvm -> /System/Library/Frameworks/JavaVM.framework/Versions/Current/Commands/jvisualvm',\n",
       " '-rwxr-xr-x   1 root   wheel     87072 Aug 10 22:55 kcc',\n",
       " '-rwxr-xr-x   1 root   wheel     50352 Aug 10 22:56 kdestroy',\n",
       " '-rwxr-xr-x   1 root   wheel    109408 Aug 10 22:55 kextutil',\n",
       " 'lrwxr-xr-x   1 root   wheel        77 Oct 11  2019 keytool -> /System/Library/Frameworks/JavaVM.framework/Versions/Current/Commands/keytool',\n",
       " '-rwxr-xr-x   1 root   wheel     51536 Aug 10 22:54 kgetcred',\n",
       " '-rwxr-xr-x   1 root   wheel      1621 Aug 25  2019 kill.d',\n",
       " '-rwxr-xr-x   1 root   wheel     37120 Aug 10 22:56 killall',\n",
       " '-rwxr-xr-x   1 root   wheel     72960 Aug 10 22:55 kinit',\n",
       " 'lrwxr-xr-x   1 root   wheel         3 Oct 11  2019 klist -> kcc',\n",
       " '-rwxr-xr-x   1 root   wheel     55536 Aug 10 22:55 kpasswd',\n",
       " '-rwxr-xr-x   1 root   wheel      3253 Aug 25  2019 krb5-config',\n",
       " 'lrwxr-xr-x   1 root   wheel         3 Oct 11  2019 kswitch -> kcc',\n",
       " '-rwxr-xr-x   1 root   wheel     88704 Aug 10 22:56 ktrace',\n",
       " '-rwxr-xr-x   1 root   wheel     31744 Aug 10 22:54 lam',\n",
       " '-rwxr-xr-x   1 root   wheel     36528 Aug 10 22:55 last',\n",
       " '-rwxr-xr-x   1 root   wheel     32048 Aug 10 22:56 lastcomm',\n",
       " '-rwxr-xr-x   1 root   wheel      2297 Aug 25  2019 lastwords',\n",
       " '-rwxr-xr-x   1 root   wheel     58400 Aug 10 22:55 latency',\n",
       " '-rwxr-xr-x   1 root   wheel    798224 Aug 10 22:55 layerutil',\n",
       " '-rwxr-xr-x   1 root   wheel     31472 Aug 10 22:55 ld',\n",
       " 'lrwxr-xr-x   1 root   wheel        10 Oct 11  2019 ldapadd -> ldapmodify',\n",
       " '-rwxr-xr-x   1 root   wheel    319072 Aug 10 22:55 ldapcompare',\n",
       " '-rwxr-xr-x   1 root   wheel    319008 Aug 10 22:56 ldapdelete',\n",
       " '-rwxr-xr-x   1 root   wheel    319072 Aug 10 22:55 ldapexop',\n",
       " '-rwxr-xr-x   1 root   wheel    327584 Aug 10 22:54 ldapmodify',\n",
       " '-rwxr-xr-x   1 root   wheel    319040 Aug 10 22:55 ldapmodrdn',\n",
       " '-rwxr-xr-x   1 root   wheel    314800 Aug 10 22:54 ldappasswd',\n",
       " '-rwxr-xr-x   1 root   wheel    347552 Aug 10 22:55 ldapsearch',\n",
       " '-rwxr-xr-x   1 root   wheel    265360 Aug 10 22:54 ldapurl',\n",
       " '-rwxr-xr-x   1 root   wheel    314880 Aug 10 22:55 ldapwhoami',\n",
       " '-rwxr-xr-x   1 root   wheel    185520 Aug 10 22:55 leaks',\n",
       " '-r-xr-xr-x   1 root   wheel     31536 Aug 10 22:55 leave',\n",
       " '-rwxr-xr-x   1 root   wheel    146976 Aug 10 22:56 less',\n",
       " '-rwxr-xr-x   1 root   wheel     31440 Aug 10 22:55 lessecho',\n",
       " '-rwxr-xr-x   1 root   wheel     31488 Aug 10 22:55 lex',\n",
       " '-rwxr-xr-x  39 root   wheel       811 Aug 25  2019 libnetcfg',\n",
       " '-rwxr-xr-x   1 root   wheel     15754 Aug 25  2019 libnetcfg5.18',\n",
       " '-rwxr-xr-x   1 root   wheel     15810 Aug 25  2019 libnetcfg5.28',\n",
       " '-rwxr-xr-x   1 root   wheel     31488 Aug 10 22:55 libtool',\n",
       " '-rwxr-xr-x   1 root   wheel     31488 Aug 10 22:56 lipo',\n",
       " '-rwxr-xr-x   1 root   wheel     63680 Aug 10 22:56 lkbib',\n",
       " '-rwxr-xr-x   1 root   wheel     31488 Aug 10 22:55 lldb',\n",
       " 'lrwxr-xr-x   1 root   wheel         7 Oct 11  2019 llvm-g++ -> clang++',\n",
       " 'lrwxr-xr-x   1 root   wheel         5 Oct 11  2019 llvm-gcc -> clang',\n",
       " '-rwxr-xr-x   1 root   wheel      1936 Aug 25  2019 loads.d',\n",
       " '-rwxr-xr-x   1 root   wheel     77440 Aug 10 22:55 locale',\n",
       " '-rwxr-xr-x   1 root   wheel     30650 Aug 25  2019 localedef',\n",
       " '-rwxr-xr-x   1 root   wheel     36560 Aug 10 22:56 locate',\n",
       " '-rwxr-xr-x   1 root   wheel     70672 Aug 10 22:56 lockstat',\n",
       " '-rwxr-xr-x   1 root   wheel    276880 Aug 10 22:55 log',\n",
       " '-r-xr-xr-x   1 root   wheel     31968 Aug 10 22:56 logger',\n",
       " '-r-sr-xr-x   1 root   wheel     49088 Aug 10 22:55 login',\n",
       " '-rwxr-xr-x   1 root   wheel     31296 Aug 10 22:56 logname',\n",
       " '-rwxr-xr-x   1 root   wheel     31936 Aug 10 22:55 look',\n",
       " '-rwxr-xr-x   1 root   wheel     63920 Aug 10 22:55 lookbib',\n",
       " '-rwxr-xr-x   1 root   wheel     31488 Aug 10 22:56 lorder',\n",
       " '-r-xr-xr-x   1 root   wheel     41616 Aug 10 22:56 lp',\n",
       " '-r-xr-xr-x   1 root   wheel     37568 Aug 10 22:54 lpoptions',\n",
       " '-r-xr-xr-x   1 root   wheel     37328 Aug 10 22:55 lpq',\n",
       " '-r-xr-xr-x   1 root   wheel     37248 Aug 10 22:54 lpr',\n",
       " '-r-xr-xr-x   1 root   wheel     31856 Aug 10 22:55 lprm',\n",
       " '-r-xr-xr-x   1 root   wheel     54560 Aug 10 22:55 lpstat',\n",
       " '-rwxr-xr-x   1 root   wheel    241184 Aug 10 22:56 lsappinfo',\n",
       " '-rwxr-xr-x   1 root   wheel     42352 Aug 10 22:56 lsbom',\n",
       " '-rwxr-xr-x   1 root   wheel     45136 Aug 10 22:56 lskq',\n",
       " '-rwxr-xr-x   1 root   wheel     61776 Aug 10 22:55 lsm',\n",
       " '-rwxr-xr-x   1 root   wheel     59040 Aug 10 22:56 lsmp',\n",
       " '-rwxr-xr-x   1 root   wheel     31472 Aug 10 22:56 lsvfs',\n",
       " '-rwxr-xr-x  33 root   wheel       811 Aug 25  2019 lwp-download',\n",
       " '-r-xr-xr-x   1 root   wheel      8639 Aug 25  2019 lwp-download5.18',\n",
       " '-r-xr-xr-x   1 root   wheel      8639 Aug 25  2019 lwp-download5.28',\n",
       " '-rwxr-xr-x  33 root   wheel       811 Aug 25  2019 lwp-dump',\n",
       " '-r-xr-xr-x   1 root   wheel      2802 Aug 25  2019 lwp-dump5.18',\n",
       " '-r-xr-xr-x   1 root   wheel      2802 Aug 25  2019 lwp-dump5.28',\n",
       " '-rwxr-xr-x  33 root   wheel       811 Aug 25  2019 lwp-mirror',\n",
       " '-r-xr-xr-x   1 root   wheel      2482 Aug 25  2019 lwp-mirror5.18',\n",
       " '-r-xr-xr-x   1 root   wheel      2482 Aug 25  2019 lwp-mirror5.28',\n",
       " '-rwxr-xr-x  33 root   wheel       811 Aug 25  2019 lwp-request',\n",
       " '-r-xr-xr-x   1 root   wheel     15063 Aug 25  2019 lwp-request5.18',\n",
       " '-r-xr-xr-x   1 root   wheel     15063 Aug 25  2019 lwp-request5.28',\n",
       " '-rwxr-xr-x   1 root   wheel     31472 Aug 10 22:55 m4',\n",
       " '-rwxr-xr-x   1 root   wheel     55168 Aug 10 22:55 macbinary',\n",
       " '-rwxr-xr-x  33 root   wheel       811 Aug 25  2019 macerror',\n",
       " '-r-xr-xr-x   1 root   wheel       728 Aug 25  2019 macerror5.18',\n",
       " '-r-xr-xr-x   1 root   wheel       728 Aug 25  2019 macerror5.28',\n",
       " '-rwxr-xr-x   1 root   wheel     43456 Aug 10 22:56 machine',\n",
       " '-rwxr-xr-x   1 root   wheel     99008 Aug 10 22:55 mail',\n",
       " 'lrwxr-xr-x   1 root   wheel        16 Oct 11  2019 mailq -> ../sbin/sendmail',\n",
       " '-rwxr-xr-x   1 root   wheel     99008 Aug 10 22:55 mailx',\n",
       " '-rwxr-xr-x   1 root   wheel     31488 Aug 10 22:55 make',\n",
       " '-rwxr-xr-x   1 root   wheel    252224 Aug 10 22:55 makeinfo',\n",
       " '-rwxr-xr-x   1 root   wheel    131168 Aug 10 22:55 malloc_history',\n",
       " '-r-xr-xr-x   1 root   wheel     83424 Aug 10 22:56 man',\n",
       " 'lrwxr-xr-x   1 root   wheel         3 Oct 11  2019 manpath -> man',\n",
       " '-rwxr-xr-x   1 root   wheel    101792 Aug 10 22:56 mcxquery',\n",
       " '-rwxr-xr-x   1 root   wheel     36592 Aug 10 22:56 mcxrefresh',\n",
       " '-rwxr-xr-x   1 root   wheel    161152 Aug 10 22:56 mddiagnose',\n",
       " '-rwxr-xr-x   1 root   wheel     42512 Aug 10 22:55 mdfind',\n",
       " '-rwxr-xr-x   1 root   wheel    302240 Aug 10 22:56 mdimport',\n",
       " '-rwxr-xr-x   1 root   wheel     37232 Aug 10 22:56 mdls',\n",
       " '-rwxr-xr-x   1 root   wheel    127312 Aug 10 22:55 mdutil',\n",
       " '-rwxr-xr-x   1 root   wheel     44944 Aug 10 22:55 memory_pressure',\n",
       " '-r-xr-xr-x   1 root   wheel     31360 Aug 10 22:56 mesg',\n",
       " '-rwxr-xr-x   1 root   wheel    170576 Aug 10 22:54 mg',\n",
       " '-rwxr-xr-x   1 root   wheel     43760 Aug 25  2019 mib2c',\n",
       " '-rwxr-xr-x   1 root   wheel      8780 Aug 25  2019 mib2c-update',\n",
       " '-rwxr-xr-x   1 root   wheel     31488 Aug 10 22:55 mig',\n",
       " '-rwxr-xr-x   1 root   wheel     33024 Aug 10 22:56 mkbom',\n",
       " '-rwxr-xr-x   1 root   wheel     31488 Aug 10 22:55 mkdep',\n",
       " '-rwxr-xr-x   1 root   wheel     31520 Aug 10 22:56 mkfifo',\n",
       " '-rwxr-xr-x   1 root   wheel     53472 Aug 10 22:54 mklocale',\n",
       " '-rwxr-xr-x   1 root   wheel     31920 Aug 10 22:55 mktemp',\n",
       " '-rwxr-xr-x   1 root   wheel      2975 Aug 25  2019 mmroff',\n",
       " '-rwxr-xr-x   1 root   wheel     41840 Aug 10 22:56 mnthome',\n",
       " '-rwxr-xr-x  33 root   wheel       811 Aug 25  2019 moo-outdated',\n",
       " '-r-xr-xr-x   1 root   wheel       448 Aug 25  2019 moo-outdated5.18',\n",
       " '-r-xr-xr-x   1 root   wheel       448 Aug 25  2019 moo-outdated5.28',\n",
       " '-rwxr-xr-x  33 root   wheel       811 Aug 25  2019 moose-outdated',\n",
       " '-r-xr-xr-x   1 root   wheel       455 Aug 25  2019 moose-outdated5.18',\n",
       " '-r-xr-xr-x   1 root   wheel       455 Aug 25  2019 moose-outdated5.28',\n",
       " '-rwxr-xr-x   1 root   wheel    146976 Aug 10 22:54 more',\n",
       " '-r-xr-xr-x   1 root   wheel      1271 Aug 25  2019 mp2bug',\n",
       " '-rwxr-xr-x   1 root   wheel     42448 Aug 10 22:55 msgs',\n",
       " '-rwxr-xr-x   1 root   wheel    154416 Aug 10 22:55 nano',\n",
       " 'lrwxr-xr-x   1 root   wheel        82 Oct 11  2019 native2ascii -> /System/Library/Frameworks/JavaVM.framework/Versions/Current/Commands/native2ascii',\n",
       " '-rwxr-xr-x   1 root   wheel     43248 Aug 10 22:55 nbdst',\n",
       " '-r-xr-xr-x   1 root   wheel     64336 Aug 10 22:56 nc',\n",
       " '-r-xr-xr-x   1 root   wheel     45392 Aug 10 22:55 ncal',\n",
       " '-rwxr-xr-x   1 root   wheel     36720 Aug 10 22:56 ncctl',\n",
       " 'lrwxr-xr-x   1 root   wheel         7 Oct 11  2019 ncdestroy -> ./ncctl',\n",
       " 'lrwxr-xr-x   1 root   wheel         7 Oct 11  2019 ncinit -> ./ncctl',\n",
       " 'lrwxr-xr-x   1 root   wheel         7 Oct 11  2019 nclist -> ./ncctl',\n",
       " '-rwxr-xr-x   1 root   wheel      4977 Aug 25  2019 ncurses5.4-config',\n",
       " '-rwxr-xr-x   1 root   wheel       271 Aug 25  2019 neqn',\n",
       " '-rwxr-xr-x  33 root   wheel       811 Aug 25  2019 net-server',\n",
       " '-r-xr-xr-x   1 root   wheel      3429 Aug 25  2019 net-server5.18',\n",
       " '-r-xr-xr-x   1 root   wheel      3429 Aug 25  2019 net-server5.28',\n",
       " '-rwxr-xr-x   1 root   wheel     78699 Aug 25  2019 net-snmp-cert',\n",
       " '-rwxr-xr-x   1 root   wheel     24832 Feb 29  2020 net-snmp-config',\n",
       " '-rwxr-xr-x   1 root   wheel      3640 Aug 25  2019 net-snmp-create-v3-user',\n",
       " '-rwxr-xr-x   1 root   wheel     80800 Aug 10 22:56 nettop',\n",
       " 'lrwxr-xr-x   1 root   wheel        16 Oct 11  2019 newaliases -> ../sbin/sendmail',\n",
       " '-r-sr-xr-x   1 root   wheel     37136 Aug 10 22:55 newgrp',\n",
       " '-rwxr-xr-x   1 root   wheel      4376 Aug 25  2019 newproc.d',\n",
       " '-rwxr-xr-x   1 root   wheel     57632 Aug 10 22:55 nfsstat',\n",
       " '-rwxr-xr-x   1 root   wheel     31520 Aug 10 22:56 nice',\n",
       " '-rwxr-xr-x   1 root   wheel     36672 Aug 10 22:55 nl',\n",
       " '-rwxr-xr-x   1 root   wheel     31472 Aug 10 22:55 nm',\n",
       " '-rwxr-xr-x   1 root   wheel     31488 Aug 10 22:55 nmedit',\n",
       " '-rwxr-xr-x   1 root   wheel     31760 Aug 10 22:56 nohup',\n",
       " '-rwxr-xr-x   1 root   wheel     42800 Aug 10 22:56 notifyutil',\n",
       " '-rwxr-xr-x   1 root   wheel      2357 Aug 25  2019 nroff',\n",
       " '-rwxr-xr-x   1 root   wheel    101984 Aug 10 22:56 nscurl',\n",
       " '-rwxr-xr-x   1 root   wheel   1865792 Aug 10 22:55 nslookup',\n",
       " '-rwxr-xr-x   1 root   wheel   1852016 Aug 10 22:56 nsupdate',\n",
       " '-rwxr-xr-x   1 root   wheel     31488 Aug 10 22:55 objdump',\n",
       " '-rwxr-xr-x   1 root   wheel     54064 Aug 10 22:54 ocspcheck',\n",
       " '-rwxr-xr-x   1 root   wheel     46000 Aug 10 22:55 od',\n",
       " '-rwxr-xr-x   1 root   wheel    112608 Aug 10 22:55 odutil',\n",
       " '-rwxr-xr-x   1 root   wheel    119360 Aug 10 22:55 open',\n",
       " '-rwxr-xr-x   1 root   wheel     31488 Aug 10 22:55 opendiff',\n",
       " '-rwxr-xr-x   1 root   wheel      8038 Aug 25  2019 opensnoop',\n",
       " '-rwxr-xr-x   1 root   wheel    510656 Aug 10 22:55 openssl',\n",
       " 'lrwxr-xr-x   1 root   wheel        74 Oct 11  2019 orbd -> /System/Library/Frameworks/JavaVM.framework/Versions/Current/Commands/orbd',\n",
       " '-rwxr-xr-x   1 root   wheel     55232 Aug 10 22:55 osacompile',\n",
       " '-rwxr-xr-x   1 root   wheel     33088 Aug 10 22:56 osadecompile',\n",
       " '-rwxr-xr-x   1 root   wheel     31728 Aug 10 22:56 osalang',\n",
       " '-rwxr-xr-x   1 root   wheel     56528 Aug 10 22:55 osascript',\n",
       " '-rwxr-xr-x   1 root   wheel     31488 Aug 10 22:55 otool',\n",
       " 'lrwxr-xr-x   1 root   wheel        77 Oct 11  2019 pack200 -> /System/Library/Frameworks/JavaVM.framework/Versions/Current/Commands/pack200',\n",
       " '-rwxr-xr-x  33 root   wheel       811 Aug 25  2019 package-stash-conflicts',\n",
       " '-r-xr-xr-x   1 root   wheel       844 Aug 25  2019 package-stash-conflicts5.18',\n",
       " '-r-xr-xr-x   1 root   wheel       844 Aug 25  2019 package-stash-conflicts5.28',\n",
       " '-rwxr-xr-x   1 root   wheel      2006 Sep 26  2019 pagesize',\n",
       " '-rwxr-xr-x   1 root   wheel     31488 Aug 10 22:55 pagestuff',\n",
       " '-rwxr-xr-x   1 root   wheel     45312 Aug 10 22:55 passwd',\n",
       " '-rwxr-xr-x   1 root   wheel     31728 Aug 10 22:55 paste',\n",
       " '-rwxr-xr-x   1 root   wheel    104176 Aug 10 22:56 patch',\n",
       " '-rwxr-xr-x   1 root   wheel     31632 Aug 10 22:56 pathchk',\n",
       " '-rwxr-xr-x   1 root   wheel      2378 Aug 25  2019 pathopens.d',\n",
       " '-rwxr-xr-x   1 root   wheel     36800 Aug 10 22:55 pbcopy',\n",
       " '-rwxr-xr-x   1 root   wheel     36800 Aug 10 22:55 pbpaste',\n",
       " '-rwxr-xr-x   1 root   wheel      1622 Sep  4  2019 pcap-config',\n",
       " '-rwxr-xr-x   1 root   wheel     31968 Aug 10 22:55 pcsctest',\n",
       " '-rwxr-xr-x   1 root   wheel     42864 Aug 10 22:55 perl',\n",
       " '-rwxr-xr-x   1 root   wheel     37552 Aug 10 22:55 perl5.18',\n",
       " '-rwxr-xr-x   1 root   wheel     36176 Aug 10 22:54 perl5.28',\n",
       " '-rwxr-xr-x  39 root   wheel       811 Aug 25  2019 perlbug',\n",
       " '-rwxr-xr-x   1 root   wheel     41944 Jun  6 02:41 perlbug5.18',\n",
       " '-rwxr-xr-x   1 root   wheel     46397 Jun  6 02:41 perlbug5.28',\n",
       " '-rwxr-xr-x  39 root   wheel       811 Aug 25  2019 perldoc',\n",
       " '-rwxr-xr-x   1 root   wheel       259 Aug 25  2019 perldoc5.18',\n",
       " '-rwxr-xr-x   1 root   wheel       297 Aug 25  2019 perldoc5.28',\n",
       " '-rwxr-xr-x  39 root   wheel       811 Aug 25  2019 perlivp',\n",
       " '-rwxr-xr-x   1 root   wheel     10807 Aug 25  2019 perlivp5.18',\n",
       " '-rwxr-xr-x   1 root   wheel     10848 Aug 25  2019 perlivp5.28',\n",
       " '-rwxr-xr-x  39 root   wheel       811 Aug 25  2019 perlthanks',\n",
       " '-rwxr-xr-x   1 root   wheel     41944 Jun  6 02:41 perlthanks5.18',\n",
       " '-rwxr-xr-x   1 root   wheel     46397 Jun  6 02:41 perlthanks5.28',\n",
       " '-rwxr-xr-x   1 root   wheel     36048 Aug 10 22:55 pfbtops',\n",
       " '-rwxr-xr-x   1 root   wheel     43648 Aug 10 22:55 pgrep',\n",
       " 'lrwxr-xr-x   1 root   wheel         9 Oct 11  2019 phar -> phar.phar',\n",
       " '-rwxr-xr-x   1 root   wheel     14811 Jun  6 08:53 phar.phar',\n",
       " '-rwxr-xr-x   1 root   wheel  14132944 Aug 10 22:55 php',\n",
       " '-rwxr-xr-x   1 root   wheel      4033 Dec 14  2019 php-config',\n",
       " '-rwxr-xr-x   1 root   wheel      4545 Aug 25  2019 phpize',\n",
       " '-rwxr-xr-x   1 root   wheel    222288 Aug 10 22:56 pic',\n",
       " 'lrwxr-xr-x   1 root   wheel         4 Oct 11  2019 pico -> nano',\n",
       " '-rwxr-xr-x  39 root   wheel       811 Aug 25  2019 piconv',\n",
       " '-rwxr-xr-x   1 root   wheel      7372 Aug 25  2019 piconv5.18',\n",
       " '-rwxr-xr-x   1 root   wheel      8392 Aug 25  2019 piconv5.28',\n",
       " '-rwxr-xr-x   1 root   wheel      1295 Aug 25  2019 pidpersec.d',\n",
       " '-rwxr-xr-x   1 root   wheel     31488 Aug 10 22:55 pip3',\n",
       " '-rwxr-xr-x   1 root   wheel     96080 Aug 10 22:56 pkgbuild',\n",
       " '-rwxr-xr-x   1 root   wheel     43648 Aug 10 22:55 pkill',\n",
       " '-rwxr-xr-x   1 root   wheel     36064 Aug 10 22:55 pl',\n",
       " '-rwxr-xr-x  39 root   wheel       811 Aug 25  2019 pl2pm',\n",
       " '-rwxr-xr-x   1 root   wheel      4566 Aug 25  2019 pl2pm5.18',\n",
       " '-rwxr-xr-x   1 root   wheel      4568 Aug 25  2019 pl2pm5.28',\n",
       " '-rwxr-xr-x   1 root   wheel     46576 Aug 10 22:55 plockstat',\n",
       " '-rwxr-xr-x   1 root   wheel     47424 Aug 10 22:55 pluginkit',\n",
       " '-rwxr-xr-x   1 root   wheel     77424 Aug 10 22:54 plutil',\n",
       " '-rwxr-xr-x   1 root   wheel    159216 Aug 10 22:55 pmset',\n",
       " '-rwxr-xr-x  39 root   wheel       811 Aug 25  2019 pod2html',\n",
       " '-rwxr-xr-x   1 root   wheel      2073 Aug 25  2019 pod2html5.18',\n",
       " '-rwxr-xr-x   1 root   wheel      4169 Aug 25  2019 pod2html5.28',\n",
       " '-rwxr-xr-x  39 root   wheel       811 Aug 25  2019 pod2latex',\n",
       " '-rwxr-xr-x   1 root   wheel     10374 Aug 25  2019 pod2latex5.18',\n",
       " '-rwxr-xr-x  39 root   wheel       811 Aug 25  2019 pod2man',\n",
       " '-rwxr-xr-x   1 root   wheel     13700 Aug 25  2019 pod2man5.18',\n",
       " '-rwxr-xr-x   1 root   wheel     15248 Aug 25  2019 pod2man5.28',\n",
       " '-rwxr-xr-x  33 root   wheel       811 Aug 25  2019 pod2readme',\n",
       " '-r-xr-xr-x   1 root   wheel      1603 Aug 25  2019 pod2readme5.18',\n",
       " '-r-xr-xr-x   1 root   wheel      1603 Aug 25  2019 pod2readme5.28',\n",
       " '-rwxr-xr-x  39 root   wheel       811 Aug 25  2019 pod2text',\n",
       " '-rwxr-xr-x   1 root   wheel     11123 Aug 25  2019 pod2text5.18',\n",
       " '-rwxr-xr-x   1 root   wheel     11145 Aug 25  2019 pod2text5.28',\n",
       " '-rwxr-xr-x  39 root   wheel       811 Aug 25  2019 pod2usage',\n",
       " '-rwxr-xr-x   1 root   wheel      3790 Aug 25  2019 pod2usage5.18',\n",
       " '-rwxr-xr-x   1 root   wheel      3983 Aug 25  2019 pod2usage5.28',\n",
       " '-rwxr-xr-x  39 root   wheel       811 Aug 25  2019 podchecker',\n",
       " '-rwxr-xr-x   1 root   wheel      3819 Aug 25  2019 podchecker5.18',\n",
       " '-rwxr-xr-x   1 root   wheel      3693 Aug 25  2019 podchecker5.28',\n",
       " '-rwxr-xr-x  39 root   wheel       811 Aug 25  2019 podselect',\n",
       " '-rwxr-xr-x   1 root   wheel      2647 Aug 25  2019 podselect5.18',\n",
       " '-rwxr-xr-x   1 root   wheel      2562 Aug 25  2019 podselect5.28',\n",
       " 'lrwxr-xr-x   1 root   wheel        80 Oct 11  2019 policytool -> /System/Library/Frameworks/JavaVM.framework/Versions/Current/Commands/policytool',\n",
       " '-rwxr-xr-x   1 root   wheel    160672 Aug 10 22:55 post-grohtml',\n",
       " '-rwxr-xr-x   1 root   wheel       951 Aug 25  2019 power_report.sh',\n",
       " '-rwxr-xr-x   1 root   wheel    146608 Aug 10 22:55 powermetrics',\n",
       " '-r-xr-xr-x   1 root   wheel    123872 Aug 10 22:55 ppdc',\n",
       " '-r-xr-xr-x   1 root   wheel    119120 Aug 10 22:55 ppdhtml',\n",
       " '-r-xr-xr-x   1 root   wheel    123472 Aug 10 22:55 ppdi',\n",
       " '-r-xr-xr-x   1 root   wheel     37376 Aug 10 22:55 ppdmerge',\n",
       " '-r-xr-xr-x   1 root   wheel    119024 Aug 10 22:56 ppdpo',\n",
       " '-rwxr-xr-x   1 root   wheel     45344 Aug 10 22:56 pr',\n",
       " '-rwxr-xr-x   1 root   wheel     87104 Aug 10 22:55 pre-grohtml',\n",
       " '-rwxr-xr-x   1 root   wheel      1839 Aug 25  2019 priclass.d',\n",
       " '-rwxr-xr-x   1 root   wheel      1836 Aug 25  2019 pridist.d',\n",
       " '-rwxr-xr-x   1 root   wheel     31280 Aug 10 22:55 printenv',\n",
       " '-rwxr-xr-x   1 root   wheel     36416 Aug 10 22:56 printf',\n",
       " '-rwxr-xr-x   1 root   wheel      6348 Aug 25  2019 procsystime',\n",
       " '-rwxr-xr-x   1 root   wheel    131824 Aug 10 22:56 productbuild',\n",
       " '-rwxr-xr-x   1 root   wheel     47712 Aug 10 22:56 productsign',\n",
       " '-rwxr-xr-x   1 root   wheel    194208 Aug 10 22:55 profiles',\n",
       " '-rwxr-xr-x  39 root   wheel       811 Aug 25  2019 prove',\n",
       " '-rwxr-xr-x   1 root   wheel     11120 Aug 25  2019 prove5.18',\n",
       " '-rwxr-xr-x   1 root   wheel     13690 Aug 25  2019 prove5.28',\n",
       " '-rwxr-xr-x  39 root   wheel       811 Aug 25  2019 psed',\n",
       " '-rwxr-xr-x   1 root   wheel     53364 Aug 25  2019 psed5.18',\n",
       " '-rwxr-xr-x   1 root   wheel     37088 Aug 10 22:55 pstopdf',\n",
       " '-rwxr-xr-x  39 root   wheel       811 Aug 25  2019 pstruct',\n",
       " '-rwxr-xr-x   1 root   wheel     36642 Aug 25  2019 pstruct5.18',\n",
       " '-rwxr-xr-x  39 root   wheel       811 Aug 25  2019 ptar',\n",
       " '-rwxr-xr-x   1 root   wheel      3559 Aug 25  2019 ptar5.18',\n",
       " '-rwxr-xr-x   1 root   wheel      3584 Aug 25  2019 ptar5.28',\n",
       " '-rwxr-xr-x  39 root   wheel       811 Aug 25  2019 ptardiff',\n",
       " '-rwxr-xr-x   1 root   wheel      2507 Aug 25  2019 ptardiff5.18',\n",
       " '-rwxr-xr-x   1 root   wheel      2663 Aug 25  2019 ptardiff5.28',\n",
       " '-rwxr-xr-x  39 root   wheel       811 Aug 25  2019 ptargrep',\n",
       " '-rwxr-xr-x   1 root   wheel      4274 Aug 25  2019 ptargrep5.18',\n",
       " '-rwxr-xr-x   1 root   wheel      4427 Aug 25  2019 ptargrep5.28',\n",
       " '-rwxr-xr-x  33 root   wheel       811 Aug 25  2019 pwhich',\n",
       " '-r-xr-xr-x   1 root   wheel      3106 Aug 25  2019 pwhich5.18',\n",
       " '-r-xr-xr-x   1 root   wheel      3106 Aug 25  2019 pwhich5.28',\n",
       " '-rwxr-xr-x   1 root   wheel     61072 Aug 10 22:55 pwpolicy',\n",
       " 'lrwxr-xr-x   1 root   wheel        74 Oct 11  2019 pydoc -> ../../System/Library/Frameworks/Python.framework/Versions/2.7/bin/pydoc2.7',\n",
       " 'lrwxr-xr-x   1 root   wheel        74 Oct 11  2019 pydoc2.7 -> ../../System/Library/Frameworks/Python.framework/Versions/2.7/bin/pydoc2.7',\n",
       " 'lrwxr-xr-x   1 root   wheel        75 Oct 11  2019 python -> ../../System/Library/Frameworks/Python.framework/Versions/2.7/bin/python2.7',\n",
       " 'lrwxr-xr-x   1 root   wheel        82 Oct 11  2019 python-config -> ../../System/Library/Frameworks/Python.framework/Versions/2.7/bin/python2.7-config',\n",
       " 'lrwxr-xr-x   1 root   wheel        75 Oct 11  2019 python2 -> ../../System/Library/Frameworks/Python.framework/Versions/2.7/bin/python2.7',\n",
       " 'lrwxr-xr-x   1 root   wheel        75 Oct 11  2019 python2.7 -> ../../System/Library/Frameworks/Python.framework/Versions/2.7/bin/python2.7',\n",
       " 'lrwxr-xr-x   1 root   wheel        82 Oct 11  2019 python2.7-config -> ../../System/Library/Frameworks/Python.framework/Versions/2.7/bin/python2.7-config',\n",
       " '-rwxr-xr-x   1 root   wheel     31488 Aug 10 22:56 python3',\n",
       " 'lrwxr-xr-x   1 root   wheel        76 Oct 11  2019 pythonw -> ../../System/Library/Frameworks/Python.framework/Versions/2.7/bin/pythonw2.7',\n",
       " 'lrwxr-xr-x   1 root   wheel        76 Oct 11  2019 pythonw2.7 -> ../../System/Library/Frameworks/Python.framework/Versions/2.7/bin/pythonw2.7',\n",
       " 'lrwxr-xr-x   1 root   wheel        98 Oct 11  2019 qlmanage -> ../../System/Library/Frameworks/QuickLook.framework/Resources/qlmanage.app/Contents/MacOS/qlmanage',\n",
       " '-r-sr-xr-x   1 root   wheel     36672 Aug 10 22:55 quota',\n",
       " '-r-xr-xr-x   1 root   wheel       549 Aug 25  2019 rails',\n",
       " '-r-xr-xr-x   1 root   wheel       564 Aug 25  2019 rake',\n",
       " '-rwxr-xr-x   1 root   wheel     31488 Aug 10 22:54 ranlib',\n",
       " '-r-xr-xr-x   1 root   wheel       564 Aug 25  2019 rdoc',\n",
       " '-rwxr-xr-x  15 root   wheel       190 Aug 25  2019 read',\n",
       " '-rwxr-xr-x   1 root   wheel     40704 Aug 10 22:54 readlink',\n",
       " '-rwxr-xr-x   1 root   wheel     31488 Aug 10 22:56 rebase',\n",
       " '-rwxr-xr-x   1 root   wheel     31520 Aug 10 22:54 redo_prebinding',\n",
       " '-rwxr-xr-x   1 root   wheel    127024 Aug 10 22:54 refer',\n",
       " '-rwxr-xr-x   1 root   wheel     31424 Aug 10 22:55 renice',\n",
       " 'lrwxr-xr-x   1 root   wheel         4 Oct 11  2019 reset -> tset',\n",
       " '-rwxr-xr-x   1 root   wheel     31520 Aug 10 22:56 resolveLinks',\n",
       " '-rwxr-xr-x   1 root   wheel     31536 Aug 10 22:55 rev',\n",
       " '-r-xr-xr-x   1 root   wheel       560 Aug 25  2019 ri',\n",
       " 'lrwxr-xr-x   1 root   wheel        74 Oct 11  2019 rmic -> /System/Library/Frameworks/JavaVM.framework/Versions/Current/Commands/rmic',\n",
       " 'lrwxr-xr-x   1 root   wheel        74 Oct 11  2019 rmid -> /System/Library/Frameworks/JavaVM.framework/Versions/Current/Commands/rmid',\n",
       " 'lrwxr-xr-x   1 root   wheel        81 Oct 11  2019 rmiregistry -> /System/Library/Frameworks/JavaVM.framework/Versions/Current/Commands/rmiregistry',\n",
       " '-rwxr-xr-x   1 root   wheel     31488 Aug 10 22:55 rpcgen',\n",
       " '-rwxr-xr-x   1 root   wheel     35840 Aug 10 22:54 rs',\n",
       " '-rwxr-xr-x   1 root   wheel    300816 Aug 10 22:56 rsync',\n",
       " '-r-xr-xr-x   1 root   wheel     36624 Aug 10 22:56 ruby',\n",
       " 'lrwxr-xr-x   1 root   wheel         3 Oct 11  2019 rview -> vim',\n",
       " 'lrwxr-xr-x   1 root   wheel         3 Oct 11  2019 rvim -> vim',\n",
       " '-rwxr-xr-x   1 root   wheel      1657 Aug 25  2019 rwbypid.d',\n",
       " '-rwxr-xr-x   1 root   wheel      2473 Aug 25  2019 rwbytype.d',\n",
       " '-rwxr-xr-x   1 root   wheel      6357 Aug 25  2019 rwsnoop',\n",
       " '-rwxr-xr-x  39 root   wheel       811 Aug 25  2019 s2p',\n",
       " '-rwxr-xr-x   1 root   wheel     53364 Aug 25  2019 s2p5.18',\n",
       " 'lrwxr-xr-x   1 root   wheel        91 Oct 11  2019 safaridriver -> /Library/Apple/System/Library/CoreServices/SafariSupport.bundle/Contents/MacOS/safaridriver',\n",
       " '-rwxr-xr-x   1 root   wheel     88512 Aug 10 22:55 sample',\n",
       " '-rwxr-xr-x   1 root   wheel      2544 Aug 25  2019 sampleproc',\n",
       " '-rwxr-xr-x   1 root   wheel     36960 Aug 10 22:55 sandbox-exec',\n",
       " '-rwxr-xr-x   1 root   wheel     68048 Aug 10 22:54 say',\n",
       " '-rwxr-xr-x   1 root   wheel     50512 Aug 10 22:56 sc_usage',\n",
       " '-rwxr-xr-x  33 root   wheel       811 Aug 25  2019 scandeps.pl',\n",
       " '-r-xr-xr-x   1 root   wheel      5815 Aug 25  2019 scandeps5.18.pl',\n",
       " '-r-xr-xr-x   1 root   wheel      5815 Aug 25  2019 scandeps5.28.pl',\n",
       " 'lrwxr-xr-x   1 root   wheel        79 Oct 11  2019 schemagen -> /System/Library/Frameworks/JavaVM.framework/Versions/Current/Commands/schemagen',\n",
       " '-rwxr-xr-x   1 root   wheel   1566016 Aug 10 22:55 scp',\n",
       " '-rwxr-xr-x   1 root   wheel    304000 Aug 10 22:55 screen',\n",
       " '-rwxr-xr-x   1 root   wheel     37456 Aug 10 22:55 script',\n",
       " '-rwxr-xr-x   1 root   wheel     31488 Aug 10 22:56 sdef',\n",
       " '-rwxr-xr-x   1 root   wheel     50752 Aug 10 22:56 sdiff',\n",
       " '-rwxr-xr-x   1 root   wheel     31488 Aug 10 22:56 sdp',\n",
       " 'lrwxr-xr-x   1 root   wheel        32 Oct 11  2019 sdx -> ../../System/Library/Tcl/bin/sdx',\n",
       " '-rwxr-xr-x   1 root   wheel    298096 Aug 10 22:56 security',\n",
       " '-rwxr-xr-x   1 root   wheel     59568 Aug 10 22:55 sed',\n",
       " '-rwxr-xr-x   1 root   wheel      2041 Aug 25  2019 seeksize.d',\n",
       " '-rwxr-xr-x   1 root   wheel     31488 Aug 10 22:55 segedit',\n",
       " '-rwxr-xr-x   1 root   wheel     36128 Aug 10 22:56 seq',\n",
       " 'lrwxr-xr-x   1 root   wheel        79 Oct 11  2019 serialver -> /System/Library/Frameworks/JavaVM.framework/Versions/Current/Commands/serialver',\n",
       " 'lrwxr-xr-x   1 root   wheel        80 Oct 11  2019 servertool -> /System/Library/Frameworks/JavaVM.framework/Versions/Current/Commands/servertool',\n",
       " '-r-xr-xr-x   1 root   wheel     38560 Aug 10 22:55 setregion',\n",
       " '-rwxr-xr-x   1 root   wheel      1606 Aug 25  2019 setuids.d',\n",
       " '-rwxr-xr-x   1 root   wheel     88816 Aug 10 22:55 sfltool',\n",
       " '-rwxr-xr-x   1 root   wheel   1600704 Aug 10 22:55 sftp',\n",
       " '-rwxr-xr-x   1 root   wheel      2516 Aug 25  2019 shar',\n",
       " '-rwxr-xr-x  39 root   wheel       811 Aug 25  2019 shasum',\n",
       " '-rwxr-xr-x   1 root   wheel      8629 Aug 25  2019 shasum5.18',\n",
       " '-rwxr-xr-x   1 root   wheel     10011 Aug 25  2019 shasum5.28',\n",
       " '-rwxr-xr-x   1 root   wheel     36144 Aug 10 22:55 shlock',\n",
       " '-rwxr-xr-x   1 root   wheel     37856 Aug 10 22:55 showmount',\n",
       " '-rwxr-xr-x   1 root   wheel      1603 Aug 25  2019 sigdist.d',\n",
       " '-rwxr-xr-x   1 root   wheel    215520 Aug 10 22:55 sips',\n",
       " '-rwxr-xr-x   1 root   wheel     31488 Aug 10 22:55 size',\n",
       " 'lrwxr-xr-x   1 root   wheel         3 Oct 11  2019 slogin -> ssh',\n",
       " '-r-xr-xr-x   1 root   wheel    118656 Aug 10 22:55 smbutil',\n",
       " '-rwxr-xr-x   1 root   wheel     18681 Aug 25  2019 smtpd.py',\n",
       " 'lrwxr-xr-x   1 root   wheel        77 Oct 11  2019 smtpd2.7.py -> ../../System/Library/Frameworks/Python.framework/Versions/2.7/bin/smtpd2.7.py',\n",
       " 'lrwxr-xr-x   1 root   wheel        59 Oct 11  2019 snfsdefrag -> /System/Library/Filesystems/acfs.fs/Contents/bin/snfsdefrag',\n",
       " '-rwxr-xr-x   1 root   wheel     30680 Aug 25  2019 snmp-bridge-mib',\n",
       " '-rwxr-xr-x   1 root   wheel     36768 Aug 10 22:56 snmpbulkget',\n",
       " '-rwxr-xr-x   1 root   wheel     37184 Aug 10 22:55 snmpbulkwalk',\n",
       " '-rwxr-xr-x   1 root   wheel     26136 Aug 25  2019 snmpconf',\n",
       " '-rwxr-xr-x   1 root   wheel     42656 Aug 10 22:55 snmpdelta',\n",
       " '-rwxr-xr-x   1 root   wheel     36832 Aug 10 22:56 snmpdf',\n",
       " '-rwxr-xr-x   1 root   wheel     32560 Aug 10 22:55 snmpget',\n",
       " '-rwxr-xr-x   1 root   wheel     32576 Aug 10 22:54 snmpgetnext',\n",
       " 'lrwxr-xr-x   1 root   wheel         8 Oct 11  2019 snmpinform -> snmptrap',\n",
       " '-rwxr-xr-x   1 root   wheel     68464 Aug 10 22:55 snmpnetstat',\n",
       " '-rwxr-xr-x   1 root   wheel     36688 Aug 10 22:56 snmpset',\n",
       " '-rwxr-xr-x   1 root   wheel     37296 Aug 10 22:56 snmpstatus',\n",
       " '-rwxr-xr-x   1 root   wheel     42208 Aug 10 22:55 snmptable',\n",
       " '-rwxr-xr-x   1 root   wheel     37792 Aug 10 22:56 snmptest',\n",
       " '-rwxr-xr-x   1 root   wheel     38288 Aug 10 22:55 snmptranslate',\n",
       " '-rwxr-xr-x   1 root   wheel     37248 Aug 10 22:55 snmptrap',\n",
       " '-rwxr-xr-x   1 root   wheel     59440 Aug 10 22:54 snmpusm',\n",
       " '-rwxr-xr-x   1 root   wheel     53312 Aug 10 22:55 snmpvacm',\n",
       " '-rwxr-xr-x   1 root   wheel     37056 Aug 10 22:55 snmpwalk',\n",
       " '-rwxr-xr-x   1 root   wheel    174816 Aug 10 22:56 sntp',\n",
       " '-rwxr-xr-x   1 root   wheel     52016 Aug 10 22:55 soelim',\n",
       " '-rwxr-xr-x   1 root   wheel     74912 Aug 10 22:56 sort',\n",
       " '-rwxr-xr-x  33 root   wheel       811 Aug 25  2019 spfd',\n",
       " '-r-xr-xr-x   1 root   wheel      9486 Aug 25  2019 spfd5.18',\n",
       " '-r-xr-xr-x   1 root   wheel      9486 Aug 25  2019 spfd5.28',\n",
       " '-rwxr-xr-x  33 root   wheel       811 Aug 25  2019 spfquery',\n",
       " '-r-xr-xr-x   1 root   wheel     23081 Aug 25  2019 spfquery5.18',\n",
       " '-r-xr-xr-x   1 root   wheel     23081 Aug 25  2019 spfquery5.28',\n",
       " '-rwxr-xr-x  39 root   wheel       811 Aug 25  2019 splain',\n",
       " '-rwxr-xr-x   1 root   wheel     18681 Aug 25  2019 splain5.18',\n",
       " '-rwxr-xr-x   1 root   wheel     19185 Aug 25  2019 splain5.28',\n",
       " '-rwxr-xr-x   1 root   wheel     36240 Aug 10 22:56 split',\n",
       " '-rwxr-xr-x   1 root   wheel   2308400 Aug 10 22:56 sqlite3',\n",
       " '-rwxr-xr-x   1 root   wheel   2142352 Aug 10 22:56 ssh',\n",
       " '-rwxr-xr-x   1 root   wheel   1817392 Aug 10 22:55 ssh-add',\n",
       " '-rwxr-xr-x   1 root   wheel   1794016 Aug 10 22:55 ssh-agent',\n",
       " '-rwxr-xr-x   1 root   wheel     10658 Aug 25  2019 ssh-copy-id',\n",
       " '-rwxr-xr-x   1 root   wheel   1884080 Aug 10 22:55 ssh-keygen',\n",
       " '-rwxr-xr-x   1 root   wheel   1886416 Aug 10 22:55 ssh-keyscan',\n",
       " '-rwxr-xr-x   1 root   wheel     31488 Aug 10 22:54 stapler',\n",
       " '-rwxr-xr-x   1 root   wheel     40704 Aug 10 22:56 stat',\n",
       " '-rwxr-xr-x   1 root   wheel     98704 Aug 10 22:55 stringdups',\n",
       " '-rwxr-xr-x   1 root   wheel     31488 Aug 10 22:54 strings',\n",
       " '-rwxr-xr-x   1 root   wheel     31488 Aug 10 22:55 strip',\n",
       " '-rwxr-xr-x  33 root   wheel       811 Aug 25  2019 stty.pl',\n",
       " '-r-xr-xr-x   1 root   wheel       277 Aug 25  2019 stty5.18.pl',\n",
       " '-r-xr-xr-x   1 root   wheel       277 Aug 25  2019 stty5.28.pl',\n",
       " '-rwsr-xr-x   1 root   wheel     43136 Aug 10 22:55 su',\n",
       " '-r-s--x--x   1 root   wheel    460576 Aug 10 22:55 sudo',\n",
       " '-rwxr-xr-x   1 root   wheel     35888 Aug 10 22:55 sum',\n",
       " '-rwxr-xr-x   1 root   wheel     31488 Aug 10 22:55 svn',\n",
       " '-rwxr-xr-x   1 root   wheel     31488 Aug 10 22:55 svnlook',\n",
       " '-rwxr-xr-x   1 root   wheel     31488 Aug 10 22:55 svnversion',\n",
       " '-rwxr-xr-x   1 root   wheel     31968 Aug 10 22:56 sw_vers',\n",
       " '-rwxr-xr-x   1 root   wheel     31488 Aug 10 22:56 swift',\n",
       " '-rwxr-xr-x   1 root   wheel     31488 Aug 10 22:56 swiftc',\n",
       " '-rwxr-xr-x   1 root   wheel    171536 Aug 10 22:56 symbols',\n",
       " '-rwxr-xr-x   1 root   wheel    126016 Aug 10 22:55 symbolscache',\n",
       " '-rwxr-xr-x   1 root   wheel      1260 Aug 25  2019 syscallbypid.d',\n",
       " '-rwxr-xr-x   1 root   wheel       253 Aug 25  2019 syscallbyproc.d',\n",
       " '-rwxr-xr-x   1 root   wheel       248 Aug 25  2019 syscallbysysc.d',\n",
       " '-rwxr-xr-x   1 root   wheel    869472 Aug 10 22:56 sysdiagnose',\n",
       " '-rwxr-xr-x   1 root   wheel     80848 Aug 10 22:56 syslog',\n",
       " '-rwxr-xr-x   1 root   wheel     42368 Aug 10 22:55 systemextensionsctl',\n",
       " '-rwxr-xr-x   1 root   wheel     35792 Aug 10 22:55 tab2space',\n",
       " '-rwxr-xr-x   1 root   wheel     35824 Aug 10 22:56 tabs',\n",
       " '-rwxr-xr-x   1 root   wheel     41696 Aug 10 22:54 tail',\n",
       " '-rwxr-xr-x   1 root   wheel     70704 Aug 10 22:55 tailspin',\n",
       " '-r-xr-xr-x   1 root   wheel     44208 Aug 10 22:56 talk',\n",
       " 'lrwxr-xr-x   1 root   wheel         6 Oct 11  2019 tar -> bsdtar',\n",
       " '-rwxr-xr-x   1 root   wheel     51616 Aug 10 22:56 taskinfo',\n",
       " '-rwxr-xr-x   1 root   wheel    120096 Aug 10 22:56 tbl',\n",
       " '-rwxr-xr-x   1 root   wheel     68416 Aug 10 22:55 tbtdiagnose',\n",
       " '-rwxr-xr-x   1 root   wheel     39120 Aug 10 22:55 tccutil',\n",
       " 'lrwxr-xr-x   1 root   wheel         8 Oct 11  2019 tclsh -> tclsh8.5',\n",
       " 'lrwxr-xr-x   1 root   wheel        67 Oct 11  2019 tclsh8.5 -> ../../System/Library/Frameworks/Tcl.framework/Versions/8.5/tclsh8.5',\n",
       " '-rwxr-xr-x   1 root   wheel     31520 Aug 10 22:56 tee',\n",
       " '-rwxr-xr-x   1 root   wheel     28218 Aug 25  2019 texi2dvi',\n",
       " '-rwxr-xr-x   1 root   wheel       660 Aug 25  2019 texi2pdf',\n",
       " '-rwxr-xr-x   1 root   wheel     65568 Aug 10 22:54 texindex',\n",
       " '-rwxr-xr-x   1 root   wheel     62048 Aug 10 22:55 textutil',\n",
       " '-rwxr-xr-x   1 root   wheel     52304 Aug 10 22:54 tfmtodit',\n",
       " '-r-xr-xr-x   1 root   wheel     47968 Aug 10 22:56 tftp',\n",
       " '-rwxr-xr-x   1 root   wheel     39392 Aug 10 22:55 thermal',\n",
       " '-rwxr-xr-x   1 root   wheel     68960 Aug 10 22:54 tic',\n",
       " '-rwxr-xr-x   1 root   wheel     47248 Aug 10 22:55 tidy',\n",
       " '-rwxr-xr-x   1 root   wheel     36720 Aug 10 22:55 tiff2icns',\n",
       " '-rwxr-xr-x   1 root   wheel    345200 Aug 10 22:55 tiffutil',\n",
       " '-rwxr-xr-x   1 root   wheel     31648 Aug 10 22:56 time',\n",
       " '-rwxr-xr-x   1 root   wheel      2886 Aug 25  2019 timer_analyser.d',\n",
       " '-rwxr-xr-x   1 root   wheel      6537 Sep 26  2019 timerfires',\n",
       " '-rwxr-xr-x   1 root   wheel     93616 Aug 10 22:55 timesyncanalyse',\n",
       " 'lrwxr-xr-x   1 root   wheel        43 Oct 11  2019 tkcon -> ../../System/Library/Tcl/tkcon2.6/tkcon.tcl',\n",
       " '-rwxr-xr-x   1 root   wheel     30924 Aug 25  2019 tkmib',\n",
       " '-rwxr-xr-x   1 root   wheel    185456 Aug 10 22:55 tmdiagnose',\n",
       " '-rwxr-xr-x   1 root   wheel    307968 Aug 10 22:55 tmutil',\n",
       " 'lrwxr-xr-x   1 root   wheel        79 Oct 11  2019 tnameserv -> /System/Library/Frameworks/JavaVM.framework/Versions/Current/Commands/tnameserv',\n",
       " '-rwxr-xr-x   1 root   wheel     37792 Aug 10 22:54 toe',\n",
       " '-r-sr-xr-x   1 root   wheel    101760 Aug 10 22:55 top',\n",
       " '-rwxr-xr-x   1 root   wheel    108448 Aug 10 22:56 tops',\n",
       " '-rwxr-xr-x   1 root   wheel      4603 Aug 25  2019 topsyscall',\n",
       " '-rwxr-xr-x   1 root   wheel      2950 Aug 25  2019 topsysproc',\n",
       " '-rwxr-xr-x   1 root   wheel     36496 Aug 10 22:56 touch',\n",
       " '-rwxr-xr-x   1 root   wheel     37312 Aug 10 22:55 tput',\n",
       " '-rwxr-xr-x   1 root   wheel     40832 Aug 10 22:55 tr',\n",
       " '-rwxr-xr-x   1 root   wheel     63200 Aug 10 22:55 trace',\n",
       " '-rwxr-xr-x   1 root   wheel      2207 Aug 25  2019 traptoemail',\n",
       " '-rwxr-xr-x  33 root   wheel       811 Aug 25  2019 treereg',\n",
       " '-r-xr-xr-x   1 root   wheel     10339 Aug 25  2019 treereg5.18',\n",
       " '-r-xr-xr-x   1 root   wheel     10339 Aug 25  2019 treereg5.28',\n",
       " '-rwxr-xr-x   1 root   wheel     42976 Aug 10 22:55 trimforce',\n",
       " '-rwxr-xr-x   1 root   wheel    466944 Aug 10 22:56 troff',\n",
       " '-rwxr-xr-x   1 root   wheel     30944 Aug 10 22:55 true',\n",
       " '-rwxr-xr-x   1 root   wheel     41936 Aug 10 22:55 tset',\n",
       " '-r-xr-xr-x   1 root   wheel     36096 Aug 10 22:54 tsort',\n",
       " '-rwxr-xr-x   1 root   wheel     31168 Aug 10 22:56 tty',\n",
       " '-rwxr-xr-x  15 root   wheel       190 Aug 25  2019 type',\n",
       " '-rwxr-xr-x   1 root   wheel     36320 Aug 10 22:56 ul',\n",
       " '-rwxr-xr-x  15 root   wheel       190 Aug 25  2019 ulimit',\n",
       " '-rwxr-xr-x  15 root   wheel       190 Aug 25  2019 umask',\n",
       " '-rwxr-xr-x  15 root   wheel       190 Aug 25  2019 unalias',\n",
       " '-rwxr-xr-x   1 root   wheel     31552 Aug 10 22:55 uname',\n",
       " '-rwxr-xr-x   1 root   wheel     40944 Aug 10 22:55 uncompress',\n",
       " '-rwxr-xr-x   1 root   wheel     31696 Aug 10 22:55 unexpand',\n",
       " '-rwxr-xr-x   1 root   wheel     31488 Aug 10 22:55 unifdef',\n",
       " '-rwxr-xr-x   1 root   wheel     31488 Aug 10 22:56 unifdefall',\n",
       " '-rwxr-xr-x   1 root   wheel     36400 Aug 10 22:55 uniq',\n",
       " '-r-xr-xr-x   1 root   wheel     40896 Aug 10 22:55 units',\n",
       " 'lrwxr-xr-x   1 root   wheel        79 Oct 11  2019 unpack200 -> /System/Library/Frameworks/JavaVM.framework/Versions/Current/Commands/unpack200',\n",
       " '-rwxr-xr-x   1 root   wheel     31520 Aug 10 22:55 unvis',\n",
       " '-rwxr-xr-x   1 root   wheel    198928 Aug 10 22:55 unzip',\n",
       " '-rwxr-xr-x   1 root   wheel    101392 Aug 10 22:55 unzipsfx',\n",
       " '-rwxr-xr-x   1 root   wheel    910048 Aug 10 22:56 update_dyld_shared_cache',\n",
       " '-rwxr-xr-x   1 root   wheel    904640 Aug 10 22:55 update_dyld_shared_cache_root_mode',\n",
       " '-rwxr-xr-x   1 root   wheel     37328 Aug 10 22:56 uptime',\n",
       " '-rwxr-xr-x   1 root   wheel     31504 Aug 10 22:55 users',\n",
       " '-r-xr-xr-x   1 _uucp  wheel    110976 Aug 10 22:55 uucp',\n",
       " '-r-xr-xr-x   1 root   wheel     37376 Aug 10 22:55 uudecode',\n",
       " '-r-xr-xr-x   1 root   wheel     31888 Aug 10 22:54 uuencode',\n",
       " '-rwxr-xr-x   1 root   wheel     68416 Aug 10 22:56 uuidgen',\n",
       " '-rwxr-xr-x   1 root   wheel     79216 Aug 10 22:56 uulog',\n",
       " '-r-xr-xr-x   1 _uucp  wheel     61408 Aug 10 22:56 uuname',\n",
       " '-rwxr-xr-x   1 root   wheel     88576 Aug 10 22:54 uupick',\n",
       " '-r-xr-xr-x   1 _uucp  wheel    119392 Aug 10 22:56 uustat',\n",
       " '-rwxr-xr-x   1 root   wheel      1958 Aug 25  2019 uuto',\n",
       " '-r-xr-xr-x   1 _uucp  wheel    110928 Aug 10 22:55 uux',\n",
       " 'lrwxr-xr-x   1 root   wheel         3 Oct 11  2019 vi -> vim',\n",
       " 'lrwxr-xr-x   1 root   wheel         3 Oct 11  2019 view -> vim',\n",
       " '-rwxr-xr-x   1 root   wheel   2129184 Aug 10 22:55 vim',\n",
       " 'lrwxr-xr-x   1 root   wheel         3 Oct 11  2019 vimdiff -> vim',\n",
       " '-rwxr-xr-x   1 root   wheel      2121 Sep  6  2019 vimtutor',\n",
       " '-rwxr-xr-x   1 root   wheel     31664 Aug 10 22:56 vis',\n",
       " '-rwxr-xr-x   1 root   wheel     36192 Aug 10 22:55 vm_stat',\n",
       " '-rwxr-xr-x   1 root   wheel     89856 Aug 10 22:56 vmmap',\n",
       " '-rwxr-xr-x   1 root   wheel     31488 Aug 10 22:56 vtool',\n",
       " '-rwxr-xr-x   1 root   wheel     37328 Aug 10 22:55 w',\n",
       " '-rwxr-xr-x  15 root   wheel       190 Aug 25  2019 wait',\n",
       " '-r-xr-xr-x   1 root   wheel     37904 Aug 10 22:55 wall',\n",
       " '-rwxr-xr-x   1 root   wheel     36192 Aug 10 22:56 wc',\n",
       " '-rwxr-xr-x   1 root   wheel    105936 Aug 10 22:55 wdutil',\n",
       " '-rwxr-xr-x   1 root   wheel     31216 Aug 10 22:55 what',\n",
       " '-r-xr-xr-x   1 root   wheel      2093 Oct 16  2019 whatis',\n",
       " '-rwxr-xr-x   1 root   wheel     31664 Aug 10 22:56 whereis',\n",
       " '-rwxr-xr-x   1 root   wheel     31696 Aug 10 22:55 which',\n",
       " '-rwxr-xr-x   1 root   wheel     36672 Aug 10 22:55 who',\n",
       " '-rwxr-xr-x   1 root   wheel     36368 Aug 10 22:55 whoami',\n",
       " '-rwxr-xr-x   1 root   wheel     36912 Aug 10 22:56 whois',\n",
       " 'lrwxr-xr-x   1 root   wheel         7 Oct 11  2019 wish -> wish8.5',\n",
       " '-r-xr-xr-x   1 root   wheel       127 Aug 25  2019 wish8.5',\n",
       " '-r-xr-sr-x   1 root   tty       37072 Aug 10 22:55 write',\n",
       " 'lrwxr-xr-x   1 root   wheel        75 Oct 11  2019 wsgen -> /System/Library/Frameworks/JavaVM.framework/Versions/Current/Commands/wsgen',\n",
       " 'lrwxr-xr-x   1 root   wheel        78 Oct 11  2019 wsimport -> /System/Library/Frameworks/JavaVM.framework/Versions/Current/Commands/wsimport',\n",
       " '-rwxr-xr-x   1 root   wheel     51792 Aug 10 22:56 xar',\n",
       " '-rwxr-xr-x   1 root   wheel     41456 Aug 10 22:56 xargs',\n",
       " '-rwxr-xr-x   2 root   wheel       512 Aug 25  2019 xattr',\n",
       " '-rwxr-xr-x   2 root   wheel       512 Aug 25  2019 xattr-2.7',\n",
       " '-rwxr-xr-x   1 root   wheel     37104 Aug 10 22:56 xcode-select',\n",
       " '-rwxr-xr-x   1 root   wheel     31488 Aug 10 22:56 xcodebuild',\n",
       " '-rwxr-xr-x   1 root   wheel     31088 Aug 10 22:55 xcrun',\n",
       " '-rwxr-xr-x   1 root   wheel     31488 Aug 10 22:56 xcscontrol',\n",
       " '-rwxr-xr-x   1 root   wheel     31504 Aug 10 22:56 xcsdiagnose',\n",
       " '-rwxr-xr-x   1 root   wheel     31488 Aug 10 22:54 xed',\n",
       " '-rwxr-xr-x  33 root   wheel       811 Aug 25  2019 xgettext.pl',\n",
       " '-r-xr-xr-x   1 root   wheel      6650 Aug 25  2019 xgettext5.18.pl',\n",
       " '-r-xr-xr-x   1 root   wheel      6650 Aug 25  2019 xgettext5.28.pl',\n",
       " '-rwxr-xr-x   1 root   wheel     41936 Aug 10 22:56 xip',\n",
       " 'lrwxr-xr-x   1 root   wheel        73 Oct 11  2019 xjc -> /System/Library/Frameworks/JavaVM.framework/Versions/Current/Commands/xjc',\n",
       " '-rwxr-xr-x   1 root   wheel      1866 Feb 29  2020 xml2-config',\n",
       " '-rwxr-xr-x   1 root   wheel     31488 Aug 10 22:54 xml2man',\n",
       " '-rwxr-xr-x   1 root   wheel     41600 Aug 10 22:56 xmlcatalog',\n",
       " '-rwxr-xr-x   1 root   wheel     81344 Aug 10 22:54 xmllint',\n",
       " '-rwxr-xr-x  33 root   wheel       811 Aug 25  2019 xpath',\n",
       " '-r-xr-xr-x   1 root   wheel      1445 Aug 25  2019 xpath5.18',\n",
       " '-r-xr-xr-x   1 root   wheel      1445 Aug 25  2019 xpath5.28',\n",
       " '-rwxr-xr-x   1 root   wheel      2546 Aug 25  2019 xslt-config',\n",
       " '-rwxr-xr-x   1 root   wheel     47600 Aug 10 22:56 xsltproc',\n",
       " '-rwxr-xr-x  39 root   wheel       811 Aug 25  2019 xsubpp',\n",
       " '-rwxr-xr-x   1 root   wheel      4591 Aug 25  2019 xsubpp5.18',\n",
       " '-rwxr-xr-x   1 root   wheel      5199 Aug 25  2019 xsubpp5.28',\n",
       " '-rwxr-xr-x   1 root   wheel     40544 Aug 10 22:55 xxd',\n",
       " '-rwxr-xr-x   1 root   wheel     78112 Aug 10 22:55 yaa',\n",
       " '-rwxr-xr-x   1 root   wheel     31488 Aug 10 22:55 yacc',\n",
       " '-rwxr-xr-x   1 root   wheel     30944 Aug 10 22:55 yes',\n",
       " '-rwxr-xr-x   1 root   wheel     66896 Aug 10 22:55 zcat',\n",
       " '-rwxr-xr-x   2 root   wheel      3264 Aug 25  2019 zcmp',\n",
       " '-rwxr-xr-x   2 root   wheel      3264 Aug 25  2019 zdiff',\n",
       " '-rwxr-xr-x   1 root   wheel     47136 Aug 10 22:55 zegrep',\n",
       " '-rwxr-xr-x   1 root   wheel     47136 Aug 10 22:55 zfgrep',\n",
       " '-rwxr-xr-x   1 root   wheel      1454 Aug 25  2019 zforce',\n",
       " '-rwxr-xr-x   1 root   wheel     47136 Aug 10 22:56 zgrep',\n",
       " ...]"
      ]
     },
     "execution_count": 21,
     "metadata": {},
     "output_type": "execute_result"
    }
   ],
   "source": [
    "ls_bin = !ls -l /usr/bin\n",
    "ls_bin"
   ]
  },
  {
   "cell_type": "code",
   "execution_count": null,
   "metadata": {},
   "outputs": [],
   "source": [
    "ls = !ls -l /usr/bin\n",
    "ls.grep(\"kill\")"
   ]
  },
  {
   "cell_type": "code",
   "execution_count": null,
   "metadata": {},
   "outputs": [],
   "source": [
    "# Using IPython magic commands"
   ]
  },
  {
   "cell_type": "code",
   "execution_count": 23,
   "metadata": {},
   "outputs": [
    {
     "name": "stdout",
     "output_type": "stream",
     "text": [
      "Darwin SML-MP.local 19.6.0 Darwin Kernel Version 19.6.0: Thu Jun 18 20:49:00 PDT 2020; root:xnu-6153.141.1~1/RELEASE_X86_64 x86_64\n"
     ]
    }
   ],
   "source": [
    "%%bash\n",
    "    uname -a"
   ]
  },
  {
   "cell_type": "code",
   "execution_count": 45,
   "metadata": {},
   "outputs": [
    {
     "name": "stdout",
     "output_type": "stream",
     "text": [
      "Overwriting print_time.py\n"
     ]
    }
   ],
   "source": [
    "%%writefile print_time.py\n",
    "    #!/usr/bin/env python3\n",
    "    import datetime\n",
    "    print(datetime.datetime.now().time())\n",
    "    "
   ]
  },
  {
   "cell_type": "code",
   "execution_count": 47,
   "metadata": {},
   "outputs": [
    {
     "name": "stdout",
     "output_type": "stream",
     "text": [
      "    #!/usr/bin/env python3\r\n",
      "    import datetime\r\n",
      "    print(datetime.datetime.now().time())\r\n",
      "    \r\n",
      "Writing print_time.py\r\n"
     ]
    }
   ],
   "source": [
    "cat print_time.py"
   ]
  },
  {
   "cell_type": "code",
   "execution_count": 50,
   "metadata": {},
   "outputs": [
    {
     "name": "stdout",
     "output_type": "stream",
     "text": [
      "16:51:23.439760\r\n"
     ]
    }
   ],
   "source": [
    "!python print_time.py"
   ]
  },
  {
   "cell_type": "code",
   "execution_count": 51,
   "metadata": {},
   "outputs": [
    {
     "name": "stdout",
     "output_type": "stream",
     "text": [
      "cc_dict\t cc_list\t df\t ls\t ls_bin\t m\t matched\t re\t var_ls\t \n",
      "\n"
     ]
    }
   ],
   "source": [
    "%who"
   ]
  },
  {
   "cell_type": "code",
   "execution_count": null,
   "metadata": {},
   "outputs": [],
   "source": [
    "## Exercises ##"
   ]
  },
  {
   "cell_type": "code",
   "execution_count": 53,
   "metadata": {},
   "outputs": [
    {
     "name": "stdout",
     "output_type": "stream",
     "text": [
      "Pythonisa\n"
     ]
    }
   ],
   "source": [
    "'''Python function that takes a name as an argument and prints that name.'''\n",
    "def print_name(name : str):\n",
    "    print(name)\n",
    "\n",
    "name : str = 'Pythonisa'\n",
    "print_name(name)"
   ]
  },
  {
   "cell_type": "code",
   "execution_count": 57,
   "metadata": {},
   "outputs": [
    {
     "name": "stdout",
     "output_type": "stream",
     "text": [
      "\"this string is lowercase\" is lowercase\n",
      "\"THIS STRING IS UPPERCASE\" is uppercase\n"
     ]
    }
   ],
   "source": [
    "'''Python function that takes a string as an argument and prints wheter it is upper- or lowercase.'''\n",
    " \n",
    "def is_upper_or_lowercase(string: str):\n",
    "    get_case: str = \"lowercase\"\n",
    "    if string.isupper():\n",
    "        get_case = \"uppercase\"\n",
    "    print(f\"\\\"{string}\\\" is {get_case}\")\n",
    "\n",
    "\n",
    "lowercase_string: str = \"this string is lowercase\"\n",
    "uppercase_string: str = \"THIS STRING IS UPPERCASE\"\n",
    "\n",
    "is_upper_or_lowercase(string=lowercase_string)\n",
    "is_upper_or_lowercase(string=uppercase_string)"
   ]
  },
  {
   "cell_type": "code",
   "execution_count": 61,
   "metadata": {},
   "outputs": [
    {
     "name": "stdout",
     "output_type": "stream",
     "text": [
      "['S', 'M', 'O', 'G', '-', 'T', 'E', 'T', 'H', 'E', 'R']\n"
     ]
    }
   ],
   "source": [
    "'''From a list comprehension 'smog-tether' get a list of every letter in the word capitalize.'''\n",
    "\n",
    "word: str = \"smog-tether\"\n",
    "\n",
    "def get_list_comprehension(word: str) -> list:\n",
    "    list_comprehension: list = [letter.upper() for letter in word]\n",
    "    return list_comprehension\n",
    "\n",
    "list_comprehension = get_list_comprehension(word=word)\n",
    "\n",
    "print(list_comprehension)"
   ]
  },
  {
   "cell_type": "code",
   "execution_count": null,
   "metadata": {},
   "outputs": [],
   "source": [
    "'''Generator that alternates between returning Even and Odd.'''\n",
    "\n",
    "def generator_func_odd_even() -> str:\n",
    "    even: bool = False\n",
    "    while True:\n",
    "        even = not even\n",
    "        yield  [\"Even\" if even else \"Odd\"]\n",
    "\n",
    "func = generator_func_odd_even()\n",
    "\n",
    "func\n",
    "print(next(func))\n",
    "print(next(func))\n",
    "print(next(func))\n",
    "print(next(func))"
   ]
  }
 ],
 "metadata": {
  "kernelspec": {
   "display_name": "Python 3",
   "language": "python",
   "name": "python3"
  },
  "language_info": {
   "codemirror_mode": {
    "name": "ipython",
    "version": 3
   },
   "file_extension": ".py",
   "mimetype": "text/x-python",
   "name": "python",
   "nbconvert_exporter": "python",
   "pygments_lexer": "ipython3",
   "version": "3.8.2"
  }
 },
 "nbformat": 4,
 "nbformat_minor": 4
}
