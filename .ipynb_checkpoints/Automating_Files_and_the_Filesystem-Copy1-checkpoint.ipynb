{
 "cells": [
  {
   "cell_type": "code",
   "execution_count": null,
   "metadata": {},
   "outputs": [],
   "source": [
    "## Reading and Writing Files ##"
   ]
  },
  {
   "cell_type": "code",
   "execution_count": 1,
   "metadata": {},
   "outputs": [
    {
     "data": {
      "text/plain": [
       "16357"
      ]
     },
     "execution_count": 1,
     "metadata": {},
     "output_type": "execute_result"
    }
   ],
   "source": [
    "file_path = 'resources/Backtrackingv1.4.txt'\n",
    "file = open(file_path, 'r')\n",
    "text = file.read()\n",
    "len(text)"
   ]
  },
  {
   "cell_type": "code",
   "execution_count": 4,
   "metadata": {},
   "outputs": [
    {
     "data": {
      "text/plain": [
       "'A'"
      ]
     },
     "execution_count": 4,
     "metadata": {},
     "output_type": "execute_result"
    }
   ],
   "source": [
    "text[76]"
   ]
  },
  {
   "cell_type": "code",
   "execution_count": 5,
   "metadata": {},
   "outputs": [
    {
     "data": {
      "text/plain": [
       "<_io.TextIOWrapper name='resources/Backtrackingv1.4.txt' mode='r' encoding='UTF-8'>"
      ]
     },
     "execution_count": 5,
     "metadata": {},
     "output_type": "execute_result"
    }
   ],
   "source": [
    "file"
   ]
  },
  {
   "cell_type": "code",
   "execution_count": 20,
   "metadata": {},
   "outputs": [
    {
     "name": "stdout",
     "output_type": "stream",
     "text": [
      "1\n",
      ".\n",
      "4\n",
      " \n",
      "\n",
      "\n",
      " \n",
      "A\n",
      "p\n",
      "u\n",
      "n\n",
      "t\n",
      "e\n",
      "s\n",
      " \n",
      "d\n",
      "e\n",
      " \n",
      "T\n",
      "e\n",
      "ó\n",
      "r\n",
      "i\n",
      "c\n",
      "o\n",
      " \n",
      "d\n",
      "e\n",
      " \n",
      " \n",
      "P\n",
      "r\n",
      "o\n",
      "g\n",
      "r\n",
      "a\n",
      "m\n",
      "a\n",
      "c\n",
      "i\n",
      "ó\n",
      "n\n",
      " \n",
      "3\n",
      " \n",
      "–\n",
      " \n",
      "B\n",
      "a\n",
      "c\n",
      "k\n",
      "t\n",
      "r\n",
      "a\n",
      "c\n",
      "k\n",
      "i\n",
      "n\n",
      "g\n",
      " \n",
      "\n",
      "\n",
      "\n",
      "\n",
      "\n",
      "\n",
      "\n",
      "\n",
      "\n",
      "\n",
      " \n",
      "\n",
      "\n",
      " \n",
      "\n",
      "\n",
      "\n",
      "\n",
      "\n",
      "\n"
     ]
    }
   ],
   "source": [
    "for cth in range(70, 140):\n",
    "    print(text[cth])"
   ]
  },
  {
   "cell_type": "code",
   "execution_count": 22,
   "metadata": {},
   "outputs": [],
   "source": [
    "file.close()"
   ]
  },
  {
   "cell_type": "code",
   "execution_count": 91,
   "metadata": {},
   "outputs": [
    {
     "data": {
      "text/plain": [
       "468"
      ]
     },
     "execution_count": 91,
     "metadata": {},
     "output_type": "execute_result"
    }
   ],
   "source": [
    "path = \"resources/Backtrackingv1.4.txt\"\n",
    "file = open(path, \"r\")\n",
    "text = file.readlines()\n",
    "len(text)"
   ]
  },
  {
   "cell_type": "code",
   "execution_count": 26,
   "metadata": {},
   "outputs": [
    {
     "data": {
      "text/plain": [
       "'esta  manera  las  soluciones  al  problema  de  las  n  reinas  pueden  ser  representadas  por  una  tupla \\n'"
      ]
     },
     "execution_count": 26,
     "metadata": {},
     "output_type": "execute_result"
    }
   ],
   "source": [
    "text[100]"
   ]
  },
  {
   "cell_type": "code",
   "execution_count": 78,
   "metadata": {},
   "outputs": [
    {
     "name": "stdout",
     "output_type": "stream",
     "text": [
      "Line 102 >> <x1,x2,…,xn> donde xi es la columna en la cual debe ser colocada la reina i, es decir que la reina i \n",
      "\n",
      "Line 103 >> se  colocará en  la  casilla (i,  xi)  del  tablero.  De esta  forma  para  cada  xi  de la  tupla  hay  n  valores \n",
      "\n",
      "Line 104 >> n 8\n",
      "\n",
      "Line 105 >> posibles  con  lo  cual  la  cantidad  de  tuplas  candidatas  es  n .  En  el  caso  de  n  =  8  serían  8   =  16 \n",
      "\n",
      "Line 106 >> millones  de  tuplas.  Este  enfoque  es  sustancialmente  mejor  que  el  anterior  dado  que  reduce  la \n",
      "\n",
      "Line 107 >> cantidad de tuplas a generar y es la base para aplicar Backtracking, el cuál como se verá permite \n",
      "\n",
      "Line 108 >> reducir aún más la cantidad de tuplas a generar. \n",
      "\n",
      "Line 109 >>  \n",
      "\n",
      "Line 110 >> \n",
      "\n",
      "Line 111 >> \n",
      "\n",
      "Line 112 >> \n",
      "\n",
      "Line 113 >> \n",
      "\n",
      "Line 114 >>      4 Apuntes de Teórico de  Programación 3 – Backtracking \n",
      "\n",
      "Line 115 >> \n",
      "\n",
      "Line 116 >> \n",
      "\n",
      "Line 117 >> \n",
      "\n",
      "Line 118 >> \n",
      "\n",
      "Line 119 >> Espacio de soluciones \n",
      "\n",
      "Line 120 >> En el ejemplo de las n reinas, con n = 4, las tuplas candidatas son las tuplas <x1,x2,x3,x4> donde \n",
      "\n",
      "Line 121 >> cada  xi  toma  valores  en  el  conjunto  {1,2,3,4}.  Se  denomina  ESPACIO  DE  SOLUCIONES  al \n",
      "\n",
      "Line 122 >> conjunto de todas las tuplas que cumplen lo anterior. \n",
      "\n",
      "Line 123 >>  \n",
      "\n",
      "Line 124 >> Un  algoritmo  basado  en  Backtracking  determina  la  o  las  soluciones  al  problema  recorriendo \n",
      "\n",
      "Line 125 >> sistemáticamente  el  espacio  de  soluciones,  este  recorrido  se  puede  visualizar  organizando  el \n",
      "\n",
      "Line 126 >> espacio de soluciones mediante un árbol llamado ÁRBOL DE SOLUCIONES. \n",
      "\n",
      "Line 127 >> Una visualización, para n = 4, del árbol de soluciones es la que se muestra en la figura 1. \n",
      "\n"
     ]
    }
   ],
   "source": [
    "for lth in range(102, 128):\n",
    "    print(f\"Line {lth} >> {text[lth]}\")"
   ]
  },
  {
   "cell_type": "code",
   "execution_count": 92,
   "metadata": {},
   "outputs": [
    {
     "data": {
      "text/plain": [
       "True"
      ]
     },
     "execution_count": 92,
     "metadata": {},
     "output_type": "execute_result"
    }
   ],
   "source": [
    "file.close()"
   ]
  },
  {
   "cell_type": "code",
   "execution_count": 88,
   "metadata": {},
   "outputs": [
    {
     "data": {
      "text/plain": [
       "'espacio de soluciones mediante un árbol llamado ÁRBOL DE SOLUCIONES. \\n'"
      ]
     },
     "execution_count": 88,
     "metadata": {},
     "output_type": "execute_result"
    }
   ],
   "source": [
    "with open(\"resources/Backtrackingv1.4.txt\", 'r') as file:\n",
    "    text = file.readlines()\n",
    "    \n",
    "text[126]"
   ]
  },
  {
   "cell_type": "code",
   "execution_count": 90,
   "metadata": {},
   "outputs": [
    {
     "data": {
      "text/plain": [
       "True"
      ]
     },
     "execution_count": 90,
     "metadata": {},
     "output_type": "execute_result"
    }
   ],
   "source": [
    "file.closed"
   ]
  },
  {
   "cell_type": "code",
   "execution_count": 93,
   "metadata": {},
   "outputs": [
    {
     "data": {
      "text/plain": [
       "137"
      ]
     },
     "execution_count": 93,
     "metadata": {},
     "output_type": "execute_result"
    }
   ],
   "source": [
    "path = \"resources/backtrack.png\"\n",
    "with open(path, 'rb') as file:\n",
    "    btext = file.read()\n",
    "    \n",
    "btext[0]"
   ]
  },
  {
   "cell_type": "code",
   "execution_count": 94,
   "metadata": {},
   "outputs": [
    {
     "data": {
      "text/plain": [
       "b'\\x89PNG\\r\\n\\x1a\\n\\x00\\x00\\x00\\rIHDR\\x00\\x00\\x021\\x00\\x00\\x01B\\x04\\x03\\x00\\x00\\x00\\xf2\\x1f\\x915\\x00\\x00\\x00\\x04gAMA\\x00\\x00\\xb1\\x8f\\x0b\\xfca\\x05\\x00\\x00\\x00\\x01sRGB\\x00\\xae\\xce\\x1c\\xe9\\x00\\x00\\x00 cHRM\\x00\\x00z&\\x00\\x00\\x80\\x84\\x00\\x00\\xfa\\x00\\x00\\x00\\x80\\xe8\\x00\\x00u0\\x00\\x00\\xea`\\x00\\x00:\\x98\\x00\\x00\\x17p\\x9c\\xbaQ<\\x00\\x00\\x000PLTE\\x00\\x00\\x00\\x00\\x00f\\x00\\x00\\xcc\\x00'"
      ]
     },
     "execution_count": 94,
     "metadata": {},
     "output_type": "execute_result"
    }
   ],
   "source": [
    "btext[:124]"
   ]
  },
  {
   "cell_type": "code",
   "execution_count": 97,
   "metadata": {},
   "outputs": [
    {
     "name": "stdout",
     "output_type": "stream",
     "text": [
      "\r\n",
      "export STAGE=PROD\r\n",
      "export TABLE_ID=token-storage-1234\r\n"
     ]
    }
   ],
   "source": [
    "text = '''\n",
    "export STAGE=PROD\n",
    "export TABLE_ID=token-storage-1234\n",
    "'''\n",
    "\n",
    "with open('.envrc', 'w') as file:\n",
    "    file.write(text)\n",
    "    \n",
    "!cat .envrc"
   ]
  },
  {
   "cell_type": "code",
   "execution_count": 65,
   "metadata": {},
   "outputs": [
    {
     "data": {
      "text/plain": [
       "'\\n\\nApuntes de Teórico \\n \\nPROGRAMACIÓN 3 \\n \\n \\nBacktracking \\n \\n \\nVersión 1.4 \\n Apuntes de Teórico de  Programación 3 – Backtracking \\n\\n\\n\\n\\n \\n \\n\\n\\n\\n\\n     2 Apuntes de Teórico de  Programación 3 – Backtracking \\n\\n\\n \\nÍndice \\n \\nIntroducción ...................................................................................................................... 4 \\nProblema de las n reinas................................................................................................... 4 \\nEspacio de soluciones........................................................................................................ 5 \\nColorear un mapa ............................................................................................................. 9 \\nHallar una solución ..................................................................................................................... 10 \\nHallar todas las soluciones.......................................................................................................... 12 \\nHallar la solución con mínima cantidad de colores (óptima) ..................................................... 13 \\nFormalización.................................................................................................................. 15 \\nFormalización del problema de las n reinas................................................................................ 15 \\nFormalización del problema de colorear un mapa con la mínima cantidad de colores .............. 16 \\nSuma de subconjuntos .................................................................................................... 17 \\nSobre la implementación de algoritmos de Backtracking........................................... 19 \\nEficiencia .................................................................................................................................... 24 \\n \\n\\n\\n\\n\\n     3 Apuntes de Teórico de  Programación 3 – Backtracking \\n\\n\\n\\n\\nIntroducción \\nBacktracking  es  una  técnica  de  diseño  de  algoritmos  aplicable  a  problemas  para  los  cuales  se \\nquiere  obtener  un  conjunto  de  soluciones  o  la  solución  óptima  según  ciertas  condiciones.  Esta \\ntécnica es una alternativa a la “fuerza bruta” logrando las mismas soluciones de una manera más \\neficiente. \\n \\nPara poder aplicar Backtracking la solución al problema se debe poder expresar como una tupla \\n<x1,x2,…,xn>  donde  cada  xi  es  elegido  de  un  conjunto  finito  de  valores.  Estas  tuplas  deben \\nrespetar  los  criterios  establecidos  en  el  problema  llamados  RESTRICCIONES  para  ser \\nconsideradas  soluciones.  Estos  criterios  dividen  el  ESPACIO  DE  SOLUCIONES,  es  decir  el \\nconjunto de tuplas candidatas en 3 subconjuntos: \\n \\n  No solución: son las tuplas que no cumplen las restricciones \\n  Solución. Son las tuplas que cumplen las restricciones. \\n  Óptimas.  Son  las  tuplas  solución  que  son  óptimas  (en  el  caso  de  problemas  de \\noptimización) \\n \\nLos algoritmos basados en Backtracking proceden construyendo la tupla solución componente a \\ncomponente y evaluando si el prefijo de tupla que se tiene en cada momento tiene posibilidades \\nde  conducir  a  una  tupla  solución,  si  no  existe  tal  posibilidad  se  descarta  el  valor  de  dicha \\ncomponente  y  se  analiza  con  otro  valor  para  la  misma.  Si  no  quedan  valores  para  dicha \\ncomponente se descarta el valor de la penúltima componente y se sigue de esta forma hasta agotar \\nel espacio de soluciones. \\n \\n\\n\\nProblema de las n reinas \\nSe  trata  de  ubicar  n  reinas  en  un  tablero  de  ajedrez  de  tamaño  nxn  de  forma  tal  que  dos  reinas \\ncualesquiera  no  puedan  comerse  entre  sí,  es  decir  que  no  estén  en  la  misma  fila,  columna  o \\ndiagonal. \\n \\n2\\nEn  el  tablero  hay  n   casillas  y  se  deben  elegir  subconjuntos  de  n  casillas.  Una  posibilidad  es \\nescribir un algoritmo que genere todos los subconjuntos de n casillas (observar que la cantidad de \\n2\\nn\\nsubconjuntos es  C ) y que seleccione aquellos subconjuntos que cumplen las restricciones dadas.      n\\n\\n\\n \\nUn algoritmo con estas características es conocido como un algoritmo de FUERZA BRUTA. \\n64\\nPuede observarse que si n = 8 hay  C = 4420000000  subconjuntos, lo cual hace que el algoritmo     8\\n\\n\\ndeba  generar  todos  estos  subconjuntos  (si  se  quieren  todas  las  soluciones)  y  chequearlos  uno  a \\nuno. \\n \\nSi se numeran las filas, las columnas y las reinas de 1 a n se puede asumir, sin perder generalidad, \\nque como cada reina debe estar en una fila diferente entonces la reina i se colocará en la fila i, de \\nesta  manera  las  soluciones  al  problema  de  las  n  reinas  pueden  ser  representadas  por  una  tupla \\n<x1,x2,…,xn> donde xi es la columna en la cual debe ser colocada la reina i, es decir que la reina i \\nse  colocará en  la  casilla (i,  xi)  del  tablero.  De esta  forma  para  cada  xi  de la  tupla  hay  n  valores \\nn 8\\nposibles  con  lo  cual  la  cantidad  de  tuplas  candidatas  es  n .  En  el  caso  de  n  =  8  serían  8   =  16 \\nmillones  de  tuplas.  Este  enfoque  es  sustancialmente  mejor  que  el  anterior  dado  que  reduce  la \\ncantidad de tuplas a generar y es la base para aplicar Backtracking, el cuál como se verá permite \\nreducir aún más la cantidad de tuplas a generar. \\n \\n\\n\\n\\n\\n     4 Apuntes de Teórico de  Programación 3 – Backtracking \\n\\n\\n\\n\\nEspacio de soluciones \\nEn el ejemplo de las n reinas, con n = 4, las tuplas candidatas son las tuplas <x1,x2,x3,x4> donde \\ncada  xi  toma  valores  en  el  conjunto  {1,2,3,4}.  Se  denomina  ESPACIO  DE  SOLUCIONES  al \\nconjunto de todas las tuplas que cumplen lo anterior. \\n \\nUn  algoritmo  basado  en  Backtracking  determina  la  o  las  soluciones  al  problema  recorriendo \\nsistemáticamente  el  espacio  de  soluciones,  este  recorrido  se  puede  visualizar  organizando  el \\nespacio de soluciones mediante un árbol llamado ÁRBOL DE SOLUCIONES. \\nUna visualización, para n = 4, del árbol de soluciones es la que se muestra en la figura 1. \\n<0,0,0,0> \\n \\n \\n \\n<1,0,0,0>     <2,0,0,0>     <3,0,0,0>     <4,0,0,0> \\n \\n \\n \\n<1,1,0,0>     <1,2,0,0>     <1,3,0,0>     <1,4,0,0>           \\n \\n \\n \\n<1,1,1,0>     <1,1,2,0>     …                               \\n \\n \\n \\n<1,1,1,1>     <1,1,1,2>     <1,1,1,3>     <1,1,1,4>                          \\n \\nFigura 1 \\n \\nSe utilizará el valor 0 para indicar que no hay una reina colocada en la columna correspondiente. \\nCada  nodo  del  árbol  de  soluciones  define  un  ESTADO  DEL  PROBLEMA.  Un  estado  del \\nproblema  S  es  un  ESTADO  DEL  ESPACIO  DE  SOLUCIONES    si  el  camino  desde  la  raíz \\n(<0,0,0,0>) al estado S define una tupla del espacio de soluciones (en el árbol de la figura 1 son \\nlas hojas). \\n \\nUn  estado  del  espacio  de  soluciones  es  un  ESTADO  SOLUCIÓN  si  el  mismo  cumple  las \\nrestricciones  del  problema  (en  el  árbol  de  la  figura  1  son  las  hojas  que  representan  una \\nconfiguración  del  tablero  donde  2  reinas  cualesquiera  no  están  en  la  misma  fila,  columna  o \\ndiagonal). \\n \\n4\\nSe observa que para n=4 hay 4 =256 tuplas, sin embargo cuando un estado del problema (tupla en \\nconstrucción) no cumple las restricciones no tiene sentido seguir generando dicha tupla dado que \\nno conducirá a un estado solución, como se muestra en la figura 2. \\n \\n\\n\\n\\n\\n     5 Apuntes de Teórico de  Programación 3 – Backtracking \\n\\n\\n<0,0,0,0> \\n \\n \\n \\n<1,0,0,0>           \\n \\nHay 2 reinas en la          Hay 2 reinas en la \\nmisma columna          misma diagonal \\n<1,1,0,0>          <1,2,0,0>           \\n \\nFigura 2. \\n \\nLa  visualización  en  forma  de  árbol  del  espacio  de  soluciones  permite  definir  cómo  se  pueden \\ngenerar los estados del problema de forma sistemática. En particular Backtracking implementa la \\ngeneración de los estados de la siguiente manera: \\n \\nSe comienza con el estado raíz <0,0,0,0> (que representa la situación en la cual no se ha colocado \\nninguna  reina  en  el  tablero)  y  en  un  paso  posterior,  estando  en  un  estado  R  se  expande  dicho \\nestado, o sea se generan los hijos de R. Cada vez que se genera un hijo C de R, C se convierte en \\nel estado actual y se lo expande. R volverá a ser el estado actual en expansión cuando el subárbol \\nde raíz C haya sido generado completamente. \\n \\nNotar  que  la  forma  de  implementar  la  generación  de  los  estados  corresponde  a  una  generación \\nDFS  de  los  estados  del  problema.  Esto  implica  que  las  tuplas  se  generan  componente  a \\ncomponente y que para cada prefijo de tupla generado se verifica si cumple las restricciones, si no \\nlas verifica no se sigue generando dicha tupla y se vuelve a al estado anterior. Backtracking no \\nimplementa el árbol de soluciones, solamente genera sus estados. \\n \\nA continuación se verá detalladamente como genera Backtracking los estados para el problema de \\nlas n reinas en el caso n = 4 considerando el árbol de soluciones parcial de la figura 3. \\n \\n<0,0,0,0> \\n \\n \\n \\n<1,0,0,0>                          \\n \\n \\n \\n<1,1,0,0>     <1,2,0,0>     <1,3,0,0>     <1,4,0,0>                     \\n \\n \\n \\n<1,3,1,0>  <1,3,2,0>  <1,3,3,0>  <1,3,4,0>  <1,4,1,0>  <1,4,2,0>  <1,4,3,0>  <1,4,4,0> \\n \\n \\n \\n<1,4,2,1>     <1,4,2,2>     <1,4,2,3>      <1,4,2,4> \\n \\nFigura 3. \\n \\n\\n\\n\\n\\n     6 Apuntes de Teórico de  Programación 3 – Backtracking \\n\\n\\nSe comienza con el estado raíz <0,0,0,0>. Este estado es el actual y se expande. Primero se genera \\nel hijo <1,0,0,0> que se convierte en el estado actual y se expande; se genera el estado <1,1,0,0>. \\nEste estado no cumple con la restricción de que dos reinas estén en distinta columna por lo que no \\nse expande, lo cual significa que no se generan más tuplas con el prefijo <1,1,0,0>. El algoritmo \\nvuelve  hacia  atrás  al  estado  <1,0,0,0>  y  se  genera  el  estado  <1,2,0,0>  el  cual  tampoco  es \\nexpandido  por  no  cumplir  la  restricción  de  que  dos  reinas  estén  en  distinta  diagonal.  Se  vuelve \\nhacia  atrás  al  estado  <1,0,0,0>  y  se  genera  el  estado  <1,3,0,0>  el  cual  corresponde  a  la \\nconfiguración del tablero: \\n \\nX                \\n          X      \\n                \\n                \\n \\ny  cumple las restricciones. \\n \\nA continuación se genera el estado <1,3,1,0> que no cumple con la restricción de que dos reinas \\nestén  en  distinta  columna  por  lo  que  no  se  expande.  El  algoritmo  vuelve  hacia  atrás  al  estado \\n<1,3,0,0>  y  se  genera  el  estado  <1,3,2,0>  el  cual  tampoco  es  expandido  por  no  cumplir  la \\nrestricción de que dos reinas estén en distinta diagonal. \\n \\nEl  algoritmo  vuelve  hacia  atrás  al  estado  <1,3,0,0>  y  se  genera  el  estado  <1,3,3,0>  el  cual \\ntampoco es expandido por no cumplir la restricción de que dos reinas estén en distinta columna. \\n \\nEl  algoritmo  vuelve  hacia  atrás  al  estado  <1,3,0,0>  y  se  genera  el  estado  <1,3,4,0>  el  cual \\ntampoco es expandido por no cumplir la restricción de que dos reinas estén en distinta diagonal. \\n \\nAl  haber  eliminado  todas  las  posibilidades  para el  estado  <1,3,0,0>  se  retrocede  nuevamente  al \\nestado  <1,0,0,0>  y  se  genera  el  estado  <1,4,0,0>  el  cual  como  puede  observarse  en  el  árbol, \\ntampoco conducirá a una solución, por lo que al haberse examinado todas las posibilidades para el \\nestado  <1,0,0,0>  sin  llegar  a  una  solución  se  vuelve  al  estado  anterior  que  es  la  raíz  del  árbol \\n(<0,0,0,0>). \\n \\n<0,0,0,0>                          \\n \\n \\n \\n<2,0,0,0>                     \\n \\n \\n \\n<2,1,0,0>     <2,2,0,0>     <2,3,0,0>     <2,4,0,0>                \\n \\n \\n \\n<2,4,1,0>     <2,4,2,0>     <2,4,3,0>     <2,4,4,0> \\n \\n \\n \\n<2,4,1,1>     <2,4,1,2>     <2,4,1,3>     <2,4,1,4>                \\n \\nFigura 4. \\n\\n\\n\\n\\n     7 Apuntes de Teórico de  Programación 3 – Backtracking \\n\\n\\n \\nSe  genera  el  estado  <2,0,0,0>  como  se  muestra  en  la  figura  4.  De  sus  hijos  solo  el  <2,4,0,0> \\nrepresenta una configuración del tablero que cumple las restricciones: \\n \\n     X        \\n               X \\n                \\n                \\n \\nEste estado pasa a ser el estado actual y se genera el <2,4,1,0> que corresponde a la configuración \\ndel tablero: \\n \\n     X        \\n               X \\nX             \\n                \\n \\nque también cumple las restricciones. \\n \\nLuego se generan los nodos <2,4,1,1> que no cumple las restricciones y el <2,4,1,2> que tampoco \\ncumple  las  restricciones.  Posteriormente  se  genera  el  estado  <2,4,1,3>  que  corresponde  a  la \\nconfiguración del tablero: \\n \\n     X        \\n               X \\nX             \\n          X   \\n \\nEn este momento al haberse colocado todas las reinas en una configuración en la cual no pueden \\ncomerse entre sí, se ha llegado a un estado solución el cual corresponde a una tupla solución al \\nproblema.  El  algoritmo  puede  finalizar  si  se  quería  encontrar  una    solución  o  continuar  si  se \\ndesean encontrar más soluciones (o todas ellas). \\n \\n4\\nNotar  además  como  la  cantidad  de  tuplas  generadas  es  menor  que  256  tuplas  (n )  dado  que  al \\nverificar  que  dos  reinas  estén  en  distinta  columna  se  generan  solamente  tuplas  que  son \\npermutaciones de la tupla <1,2,3,4> dado que los valores de las componentes deben ser distintos \\nentre  sí;  entonces  se  generan  a  los  sumo  4!  =  24  tuplas,  algunas  de  las  cuales  tampoco  serán \\ngeneradas al verificarse la restricción de que dos reinas estén en distinta diagonal. \\n \\n\\n\\n\\n\\n     8 Apuntes de Teórico de  Programación 3 – Backtracking \\n\\n\\n\\n\\nColorear un mapa  \\nEl  problema  a  resolver  consiste  en  colorear  un  mapa  de  forma  tal  que  2  países  con  frontera  no \\ntengan el mismo color. \\n \\nPor ejemplo, considerando el mapa: \\n \\n \\n \\n0     3 \\n \\n \\n \\n1\\n2\\n\\n\\n4 \\n\\n\\n5 \\n \\nse lo puede representar mediante un grafo no dirigido donde cada vértice representa un país y 2 \\nvértices son adyacentes si los países correspondientes tienen frontera. \\n \\n \\n \\n \\n\\n\\n0 \\n3 \\n\\n\\n5 \\n \\n \\n \\n2 \\n \\n \\n     1     4 \\n \\n \\nSuponiendo que se dispone de k colores numerados de 1 a k la solución se puede expresar como \\nuna tupla <xo,x1,…,xn-1> donde  x ∈1..k  para 0 ≤ i ≤ n-1, con n = |V|     i\\n\\n\\n \\nLa figura 5 muestra una organización en forma de árbol para el espacio de soluciones: \\n \\n<0,0,…,0> \\n \\n \\n \\n<1,0,…,0>          <2,0,…,0>     …     <k,0,…,0>      \\n \\n \\n \\n<x0,…,xi,0,…,0> \\n \\n \\n \\n<x0,…,xi,…,xn-1> \\nFigura 5. \\n \\nSe  utilizará  el  valor  0  para  indicar  que  no  se  ha  asignado  un  color  a  un  vértice.    El  espacio  de \\nsoluciones está formado por las hojas del árbol. \\n \\nSe verán 3 variantes de aplicación de la técnica de Backtracking: \\n\\n\\n\\n\\n     9 Apuntes de Teórico de  Programación 3 – Backtracking \\n\\n\\n \\n1.  Encontrar una solución \\n2.  Encontrar todas las soluciones \\n3.  Encontrar la solución que minimiza la cantidad de colores utilizados \\n \\n\\n\\nHallar una solución \\nEn  un  determinado  momento,  el  algoritmo  recibe  una  tupla  en  construcción  parcialmente \\ncoloreada (colores asignados a algunas componentes) y debe verificar si cumple las restricciones \\ndel  problema.  Si  las  cumple  se  controla  si  es  solución,  si  lo  es  se  utiliza  una  variable  booleana \\npara indicar que se ha encontrado una solución y que el algoritmo debe finalizar. \\n \\nSon necesarios además parámetros para devolver la tupla solución y para indicar a partir de que \\nposición se debe seguir coloreando la tupla en construcción. \\n \\nvoid colorear(int *tupla, int i, bool &encontre, int *sol)  \\n{ \\n     int color; \\n     if (verificaRest(tupla, i)) \\n     { \\n          if (esSolucion(tupla, i)) \\n{ \\n               encontre = true; \\n               copiar(sol, tupla);  \\n          } else \\n{ \\n               color = 1; \\n               while ((color <= k) && (!encontre)) \\n{ \\n                    tupla[i] = color; \\n                    colorear(tupla, i+1, encontre, sol); \\n                    color++; \\n               } \\n          } \\n \\n} \\n} \\n \\n-  i es la posición a partir de la cual colorear. \\n-  tupla es la tupla que se construye. \\n-  encontre indica si se encontró una solución. \\n-  sol es la tupla solución que se devuelve. \\n \\nNotar  que  la  iteración  con  la  llamada  recursiva  genera  la  tupla  en  profundidad,  o  sea  mediante \\nDFS. \\n \\nLa función verificaRest evalúa si la tupla tupla cumple las restricciones (dos adyacentes \\nno tienen el mismo color). Toma en cuenta solo los elementos de la tupla hasta la posición i. \\n \\n\\n\\n\\n\\n     10 '"
      ]
     },
     "execution_count": 65,
     "metadata": {},
     "output_type": "execute_result"
    }
   ],
   "source": [
    "import pathlib\n",
    "\n",
    "file = pathlib.Path(\"./resources/Backtrackingv1.4.txt\")\n",
    "file.read_text()"
   ]
  },
  {
   "cell_type": "code",
   "execution_count": 103,
   "metadata": {},
   "outputs": [
    {
     "data": {
      "text/plain": [
       "b'\\x89PNG\\r\\n\\x1a\\n\\x00\\x00\\x00\\rIHDR\\x00\\x00\\x021\\x00\\x00\\x01B\\x04\\x03\\x00\\x00\\x00\\xf2\\x1f\\x915\\x00\\x00\\x00\\x04gAMA\\x00\\x00\\xb1\\x8f\\x0b\\xfca\\x05\\x00\\x00\\x00\\x01sRGB\\x00\\xae\\xce\\x1c\\xe9\\x00\\x00\\x00 cHRM\\x00\\x00z&\\x00\\x00\\x80\\x84\\x00\\x00\\xfa\\x00\\x00\\x00\\x80\\xe8\\x00\\x00u0\\x00\\x00\\xea`\\x00\\x00:\\x98\\x00\\x00\\x17p\\x9c\\xbaQ<\\x00\\x00\\x000PLTE\\x00\\x00\\x00\\x00\\x00f\\x00\\x00\\xcc\\x00\\x00\\xff33333\\xfffffff\\xff\\x99\\x99\\xff\\xcc\\xcc\\xcc\\xcc\\xcc\\xff\\xff\\x00\\x00\\xff33\\xffff\\xff\\xcc\\xcc\\xff\\xff\\xff\\xbbo\\xb0\\x94\\x00\\x00\\x00\\tpHYs\\x00\\x00\\x0e\\xc3\\x00\\x00\\x0e\\xc3\\x01\\xc7o\\xa8d\\x00\\x00\\x13\\xecIDATx\\xda\\xed\\x9d\\xbdo\\xe3\\xc8\\x19\\xc6\\x85@\\x10\\xe0\\xc2v\\xfe\\x96\\x10\\x86w\\xdd\\x9c\\n\\xc3\\x80k7\\xb7iV\\x05A@e\\xe0b\\xcfi\\x8dC\\xb0\\x9d\\x00\\xc9\\xb4\\'m\\x8a`\\xff\\x81kh\\xaf\\xbb4Fv\\xbb4\\x86\\xed\\xab\\xd2\\xe8\\x16\\xbej\\x91\\xc5\\xdar@\\x8a\\x1f\\xf3\\xf1\\x0c9\\xc3\\x8f!e\\x0f\\x81\\xc3\\xad\\x07\\x928\\xfc\\xf1}\\x9fyI\\xf1}\\xd4#v\\x83\\xdb\\xa4g\\x19t\\x86LO\\xd8\\xd6,\\x99h\\xdb|zz\\xfa\\xfd\\xe9\\xe9\\xe9)\\xfd\\x87%c\\xc9X2\\x96\\x8c%c\\xc9X2\\x96\\x8c\\xad\\xf4l\\xccX2\\x96\\x8c%c\\xc9X2\\x96\\x8c%c\\xc9\\xd8J\\xcf\\xc6\\x8c%c\\xc9X2\\x96\\x8c%c\\xc9X2\\x96\\x8c\\xad\\xf4l\\xccX2\\x96\\x8c%c\\xc9X2\\x96\\x8c%c\\xc9\\xd8J\\xaf\\xbe\\xcd\\xf7F\\xbd=/\\xfc\\x7f\\xaf\\xe7y\\xa4\\x9b\\x9by2,\\x8e\\x04\\xd2\\x8b\\'\\xe3\\xb9\\xbd\\xbe7V\\x19|Id\\xf2\\xc2\\xc3\\x0b\\x03i\\xfc\"\\xc9\\xf8\\xde\\xb0@R\\xc2Wt)\\xaf\\x8c\\x90QN\\x17\\xcf\\xed\\r\\xba\\x12:\\x8d\\x93\\tsh\\xa0\\x11\\n\\x9d\\xc9\\xabf\\xc9\\x14\\xe7Pw\\xf3\\xaaA2\\x95\\x96\\x9c(\\xd2\\xc6\\xcf\\x91L\\rG\\xe6y\\xad.\\xe6M\\x90\\xa9/\\x1b\\xda\\xcc\\xab\\xda\\xc9\\xd4~\\xa65\\x15\\xbc\\xa3d\\x1aR\\x87V\\x8a\\xe4\\xfa\\xc84\\x1b\\xf9\\xe5V\\xb9\\x0e\\x901Q\\x85\\xf8f\\xf3\\xaa\\x0e2\\x06+W\\x83yU\\x95\\x8c\\xf9\\xd5\\xc3\\xd4M\\x9dJd\\xfc\\x96*y#7u\\xaa\\x90\\x99\\xb4Y\\x88y\\xee\\xa0sd&\\xe2\\x8d\\\\\\xb3k\\x86\\x99\\xdd\\x97!\\xc3\\xdc\\xf7\\x8f\\xfea\\x94\\x8c\\xa1\\xdd\\x97!\\xb3\\x08\\xce-\\x19\\xf8\\x96\\xefA\\xf0\\xd9\\x92Ao\\xb9\\x0e\\x82KK\\xc6\\x92\\xd1y\\xcb\\xdcf\\x93\\xe4-\\x0fApo\\xc9\\xc0\\xa9}\\xb9\\xb3k\\x93\\xad\\xf4V\\xaa\\xd2{\\xbc\\xebl6\\xb5KfaF\\xe6V\\x90\\xccw3E\\xc3\\n\\x92\\x99[2\\x96\\x8c\\xcd\\xa6\\xda\\x14\\xf8\\xdc*\\xb0\\xad\\xf4l\\xa5\\xf7\\xec\\xaf\\x9b,\\x19K\\xc6\\x92\\xb1d,\\x19K\\xc6\\x92\\xb1\\x95\\x9e\\xad\\xf4l6Y2\\x96\\x8c%c\\xc9X2\\x96\\x8cQ2\\x93v\\xc9Ll\\xa5\\xb72\\x95^\\xbc\\xb9\\xbd\\xfe\\xdep\\xaf\\xc5\\x16\\xa4\\xd9\\xb0\\xd7kp\\xff\\xa5\\xc9\\x8c\\x06Co\\x9fx\\xbd\\xf6z\\xd7\\xfc\\xb5a\\xbf\\xd7\\xdc\\xf3\\xf6%\\xc9\\xf8\\xa3\\xbd\\xd9>\\x19\\x10\\xe2\\xbb\\xfd\\xd6\\xd8\\xec\\xf9Co\\xd8\\x1b6tr\\xca\\x91\\xf1\\x87\\x1e\\xd9%\\xc4[B\\x1a\\xb4\\x94R#\\xe2\\x0f\\xc7^o\\xe86\\x92T\\xa5\\xc8x\\xfd1\\x99\\xed\\x87S[\\xfe\\xd9\\x92\\xdc\\xcc\\xc6!\\x1a\\xdf\\xed\\x8f\\xbda\\xfdIU\\x86\\x8c\\xdb\\x1f\\x930d\\xc8$\\x01\\xd2\\x8e\\xdc\\xf8ka\\xf4\\x86x\\x06coTw\\x07D\\t2\\xa3\\xf0\\x81\\xff0d\\x88\\xbf\\x9fN\\xb2\\x15\\xb9\\xd9\\x0b\\xf7\\xdc\\x1b/\\xcf\\x8c_sRi\\x93\\xf1\\x87\\xe1|\\xa2\\x90!d\\x8d\\x1e7/7Q6\\xfba\\x04\\xfbQ\\x1c{\\xc3\\x1a\\xcf\\x8f.\\x99\\xe8\\x14\\xc5!\\xb3<i\\x99\\xfa\\xf4L\\xcb\\xcdl\\x9c\\xa2\\x89\\xcf\\x8c__Ri\\x92\\x89NM\\x1a2\\x89\\x04g\\xc5\\x9fg\\\\hR4\\xb1\\xd8\\xf9^\\xaf\\x9e\\xe0\\xd5#\\xe3\\xc6;\\x8dC&\\x93\\xe0\\xb4\\xcc1+7q\\xcc\\xc6h\\xfcQ\\x8c\\xa8\\x96\\xa4\\xd2!\\xe3\\x8f\\x92\\xec\\xd9MF\\xf6E\\x192)7\\xa3\\xf4\\x8c\\xa5\"\\xb8d\\xe4VO*\\r2ay\\x17Od\\x9f\\rg\\xd2\\x96\\xdc\\xa41\\x9b6\\xc8%\\xf5C\\x98T\\x9e!2^/\\x99\\x86\\xdf\\xe7\\xc3\\xb9-\\xb9\\xc9\\xceL\\x8a&I\\xa9\\xcaI\\xa5L&\\xd1\\xde0\\x86\\xb3\\x1cr%igJn\\x06D@\\x93\\xa6\\x14\\xa9V\\xe2\\xa8\\x92\\x19es\\xa0BF\\x90`\\xd3r\\xe3\\xc2\\x19RA[>\\xa9\\xd4\\xc8\\xc4\\xe5\\x9d\\x102\\xc4\\x1f\\xcb\\x93\\xcf\\x84\\xdc\\xd0gf\\xb4G\\x05mvb\\xc2\\xeb\\x86\\xc6\\xc8\\xf8=j\\x02t\\xc8@\\t6)7\\xcc\\xe2H\\xa1\\t\\xafr\\xb3\\x17\\x95J*\\x152^\\x9f\\xfe\\xdc\\xd1>N\\xf4v\\xe4\\x86\\xd9?\\x8d\\x86=1%.\\xc6\\x15\\xc8\\xb8\\x8cd0!#\\x93`sr\\xc3\\xee\\x9fA\\xc3\\xde8\\xd2\\xbe\\x18/$\\xe3\\x8f\\xd8\\x95\\x99\\r\\x192)\\\\\\xeb\\x9b\\x95\\x1bn\\t\\x18\\xees;\\xa7\\x8fDo.Ed\\x18\\xed\\r\\xff\\x1e\\xa0\\x8b\\xba\\xdc\\xb3\\xda\\xa8\\xdcpUxx\\xbb&g\\xe7:%N\\x01\\x19F{\\xa3\\x90\\x19\\xcbj\\xad\\x96\\xe4f@r\\xd1\\xf0\\xf7b\\xd5/\\xc6\\xf3\\xc9\\xb8}\\x1e\\xc4\\xa0`f\\xc6\\xe5\\xc6%\\xf9h\\xb8\\x94R\\xbf\\x18\\xcf%3\\x12\\x0e{4.\\x9a\\x99i\\xb9\\x11jM\\x01\\r\\x11\\xee7*%U\\x0e\\x19^b`\\xc8\\xf0\\xb7h\\x8c\\xcb\\r\\xb8\\xdc\\xef\\x0b\\xb0\\x84\\xaf7\\x14J\\x1c9\\x99\\xec\\xd2:/d\\x14$\\xb8a\\xb9\\x11O\\x96\\x88FH)\\x85\\x8bq)\\x19O\\xfcx\\x142\\xe0\\x9c\\x19\\x96\\x9b]\\xa2\\x82\\x06\\xdd\\xc2\\xf7r\\xcf\\x95\\x8c\\x8c\\x8b\\x0eb4V:gf\\xe5\\x06M\\xcaG\\xa7\\x15\\x9c\\x97\\xbc\\xa4\\xc2d\\xfc\\x11:^\\x1fB\\xd0K\\x91\\xfa\\xe5\\x06\\xa63B\\x83\\xbf\\x15\\x93&\\x15C\\x06?\\x80\\xa13\\x9a\\xb3\\xd5m\\xe6\\x8f?\\xaf\\xfa(&\\xf3\\xb4\\xb8\\x17\\x1fg\\x9a<=\\xc2Q\\xcdG\\x9f6\\x9fnj\\xfd\\x01\\x88\\xe5\\xc7\\xd0\\xfd\\xfek\\xd2\\x9f\\x99\\xd0\\x19\\xc5d\\xa2\\xf6\\xf9y\\xf0\\x89e\\xf0\\x88\\x9a\\xea\\xb5=\\x9d6\\xe7\\xc1\\xc7\\xda\\xc90\\xfd\\xfeM\\x92\\x89|\\x9a\\x82\\xe0\\x9ce\\x00\\xfdf\\xb4]h6\\x83 \\xa8\\x9d\\x0c\\xd3\\xa1\\xdc$\\x99\\xd0\\x8dh\\x9d9\\x02\\xa9G\\x91\\xb6s\\xd1z\\x13d\\xae-\\x99\\xb6\\xc9\\xc4\\xd9\\x144\\x94M\\xe7Md\\xd3gC\\n|~\\xcf*\\xa5Tk\\xb5[\\xedYe\\xafM\\x81\\xcf\\xcd(\\xf0\\xf2e\\xb7*\\xeb3^\\xcb\\x0bW\\xd9\\xbaW\\xed*\\x0ct\\xc8\\xd8J/?fpMwS\\xb9\\xd2\\xab;fn`\\x1c\\x84\\xa3t8\\xaf\\xe5\\xbcV7\\x9b \\x19A}Z\\'\\x03+\\xc7h\\xf4\\x81\\x16\\xc6\\xb5\\xfc\\xd7V\\'#\\xacX\\xad\\x93\\x81U@4:\\x17V,\\xf9kk!\\xf3k\\xa7\\xc8\\xe0\\xfa(\\x1a\\x15\\xaa\\x9cu)\\x99_-\\x99F\\xc9t.\\x9b\\xce\\xe1\\xd1\\x9e\\x87\\xd9t\\'\\x8e6\\x95M]T\\xe0OPU?\\xfd\\xbe\\x00\\n\\xfc\\xa91\\x05\\xae\\xe1\\xfeL\\xf7*\\xbd\\x1b[\\xe95Z\\xe9\\xc1\\xd1\\xc5\\xcd\\x0b\\xb9:\\xd0&s\\xc5\\xa9O\\xa7\\xc9\\\\\\xff\\xdb\\x1c\\x99\\r\\xfe\\xfe_\\x97\\xc9|\\x17V\\xac\\x06\\xc9\\x08w\\xb9\\xbaLF\\xf1.\\x97%\\xd3\\xb0\\xce\\xacR6\\x99%\\xf3[\\xf0ye\\xc8<\\xa8}\\x03\\xf3\\x12+\\xbd\\x9b[{O\\xaf\\x03\\x95\\x9ev\\xcc|\\xb9\\xedZ\\xa5\\'\\x9b\\x91a2\\x8f|\\xae\\xb7NF:#\\xc3d\\x84o[[\\'#\\x9d\\x91a2\\xd7\\x9d#s\\xdd\\x112\\xf3\\xce\\x91\\x99w\\x84\\x8c\\xf0mk\\x17\\xb2\\xe9s\\x17\\xc8,\\xae\\xce;\\xb66Igd\\xbe\\xd2\\xfbf\\xbf\\xbd}N\\x95\\x9e\\xfe\\xe6\\x8fz\\xc3\\xa1\\xe6\\x83\\xac\\xc3^\\xaf=7\\x1f\\xb8\\xad\\x15>\\xdb\\x99\\xbb9;\\xe4\\xd4y\\xcf?2:\\x1cL\\xb8^\\xb0\\xc2\\xcdu{\\xcd:T5G\\xe6x\\x8b\\x10\\xe7-\\x18\\x9dn}c\\x03f\\xe0\\xf5\\xc9\\x84h\\xfe\\xcej\\xf8\\x06\\xaf\\xd7\\x1b\\x0e\\xbc\\x95#s\\xe2|\\x10\\xa2#\\x1a=\\xd8a\\x03\\xc6\\x0b\\xfbB&B\\x9f\\\\\\xc16\\x1b\\x13w\\xe0\\x8f\\xfa{\\xb5\\xf8~\\x1cn\\x873\\x13\\x02\\xfc5\\x99n\\xf3\\x83\\xa7\\xce\\x11a\\x0fA;\\x9b\\x9c7\\xd3-4\\xea\\x1c1\\x013\\x8e\\x90LP\\xe3L\\xae6\\xedG\\r\\x8f\\xfep\\xe0y\\xd5\\xad\\xcd\\xa6\\x0e`\\x10\\xf2r~ \\x80\\x17}\\x08\\xe96P&s\\xf8\\n\\xa1=t\\x9cot\\xc0\\xc4}\\xf5\\x13\\xb1\\xedT!x\\xc3\\xee\\xcc\\xf03*\\xbb0\\x9d9Gb\\xe6\\x87\\xbc\\xc4\\xa8\\'\\xc7\\xdb\\x9c\\x1e$\\x07\\xa3Lf\\xea\\x80\\x8f%S\\xe7Uz\\xda\\x9768}\\x92\\xf4\\x98jIM\\xd4P\\x13\\xa2\\x89\\x9c\\x86\\xaa\\xba0\\x1d\\xbc\\x06\\x93=s\\x0e\\x01\\x83\\x13g\\xfa\\x8aT\"s\\xe6 \\xb4g\\xce\\xebduYz\\xe0,sh\\xd9}\\xab#5\\xcb6\\xba\\xa8Mv\\x89\\xb8\\x92\\xb7\\xc5\\xd4\\xd9F\\xbc\\x1c$(\\x0eL&\\r2\\xc4AhO\\xe2\\xd1\\xa4\\x1d&\\x861\\x89\\x07\\xd5\\xcf;\\xf3\\x8eeOV\\x85\\xc09\\x85\\x0c\\xa6\\x90\\xc1\\xa1\\xa8\\xd5\\xbad\\xb6p\\x8e\\x11\\xaa\\x0f\\'I\\xa0\\xb8c[Cj\\xe2\\xbe\\x9b\\x18M\\xd2\\x93U:p\\xd2P.&3u\\x08i@g\\x9c\\x1f\\x9d\\xa3\\xac\\x7f*mvJz\\xd9\\xd5\\xa5&i\\xa3K\\xe2,\\xf9\\xccr\\xf6]8\\x9b\\x0e\\x9b\\xc9\\xa6\\xe9\\xab\\x83\\xd7 j\\xdf\\x1f\\xec\\xa4=w\\xfe\\xee\\x98#\\xa3!5I\\xfd\\x90\\xf6g%m\\x8ee\\x9c\\x86\\x0e\\xb6P\\x8a8\\x07[H\\x0f`9\\x83\\xfb\\x87q=\\xf3\\xf6X<\\x0f\\xd3-r\\xfc\\xa7\\xb4O3\\xeb\\xd1\\xcb\\xfc\\x0f\\x94\\xa5&\\xfd\\x94\\xacu-E\\xae\\xbd\\x8c;G\\xce\\x1b\\xc0\\xe0\\x9f \\xec\\xa7\\xdb\\xa8N\\x93X8Hj`PV\\x1e\\xec\\xb8\\x7fH\\xf7\\xe6\\xee\\x81\\x8fU\\x96\\x9a\\x11\\x11\\xd1d\\x9d\\xc3z\\xbeoS\\xe7\\xc3\\xe1+\\xc0\\x00\\xc9\\x8f\\xb3s\\x8adB\\x9dL\\x08V<\\x0f\\x7f\\xf9\\xe3\\x1ey\\x17\\x7f.\\xddQI}\\xecLQj\\xa8\\xees\\xea-T\\xe7\\xb0\\x86\\x1aO\\xb7\\x91\\xae:?\\x84e\\xb0\\x18^X\\xae\\x95\\xc9\\xfc\\xed\\xaf\\xcb\\xff\\xd8\\\\\\xa4z63\\x91\\xe1>VQjh\\xa7#Z\\xb8\\xa9\\xf6S\\xe5e\\xdcyKN\\x85\\xd3\\x18\\x86\\xc6T\\x08\\xfb\\xb0\\x00>\\xdc\\xaaB\\x06\\x1d\\x0b\\xd3\\xef\\xcf4\\x023\\x1f\\xab&5\\x8c\\xcd\\x06\\x8d\\x86i\\xc6\\xaf\\xd5\\x85S\\xa1\\xc0*E\\x86u\\xcep\\xf7\\xa4\\x1f\\xab(5\\xac\\xd3\\x10\\xfd\\x17\\xed\\xc2T\\xbb}k\\xedd8\\x83\\x08\\xaem\\x9b\\xfdX5\\xa9ac\\x81\\xf5\\xfea:\\xba}\\xafg\\xe06\\x0etxSqsb\\xbb\\xc2\\x19\\x91\\x11\\x81+I\\rg\\xb3\\xc1\\xa2\\xe1\\xfc-\\xea\\xf7D\\xce\\xd5=u2\\x82\\xa3\\x08\\xef6\\xc0\\x87\\xa2\\x8a\\xd4\\xf0\\'\\x89s\\x8c\\xe2\\xec\\xbb\\x1b\\x0f\\x9cRd\\x04o\\x1ew\\xaf IU\\xa4\\x86\\x9f\\x8ap=\\xca\\x9b$\\x945\\xc5k\\x8c\\x8chA#\\xea\\x88 _\\nR#x@\\th2\\xfbM\\x03j\\xacO\\xc6\\x15=nD\\'\\nQ\\xd8G{z\\x8b\\x13\\xbe\\x8b\\xe1\\x0b\\x8e\\xf8\\x8d-\\xe3\\xbad\\x80g\\x11\\x12\\x11\\xb0\\xe4\\x15K\\x8dx\\x84\\x82\\xd7\\x18\\xf2\\xfeh(p4\\xc9\\xb8\\xc0\\xa8\\x04E\\x03 \\x03=N\\xf2\\x16\\'\\xc9\\x9b\\x84\\x94\\xaadQZ\\x13\\x19\\x140XAP\\x99T(5\\x93\\nv:\\xf5/\\xe3\\xd0\\xfaNB\\x06\\x05\\x8c$\\x14`\\x01Y$5\\xd0\\x03\\n\\xaej\\xc8N\\xa7\\xf6e\\xbc\\x90L\\xf5o\\xfc\\x8b\\x9e\\x03h\\xfakz\\xbd-\\xf7\\xb3\\x94\\x9e\\x12\\xa1\\xedo\\x8a\\xfcz\\xd0k\\xb3\\x8d2\\x10\\xb8\\xa1\\x1e\\xd7X\\xdc\\xdc\\x83\\x878\\x16\\xb8\\xc9\\xfa\\xb6\\xb6\\xc7\\x8a\\xb3\\x89&\\x13\\x90\\x92yL\\xda\\xec\\xd2\\xe7mR\\xbf\\x1e\\x81\\xc1\\x83\\xc4-\"\\xc8s\\x8b\\xd8\\xbcN\\xda~\\x92N\\xbd5f\\x94ap\\x05G\\xaf\\xeb3\\xf8\\xc9&zM\\xcd\\x06\\x92I[3\\xd3g\\xb4b\\x87\\x91KE/\\x11\\xfc\\xdal\\xcb\\xda~\\x92^\\x0ey\\xab\\xe7\\x06l\\x0b\\xdd\\xa8\\xd1\\x92$\\x9b(=\\x1bH&}\\xd01\\xfd\\x87\\xa6\\xffL\\x91+M\\xda\\xdc\\xb2N\\xcf%\\xa7\\xc1Xq\\xb4\"\\x99\\xf5\\xae\\x92\\xd9h\\x9b\\xccF!\\x19:\\x9b.\\xe9\\x0c\\xc1\\xce<w0\\x9b>+f\\xd3yq;\\xb5\\xc1l:\\xcf\\'\\x93\\xaaj*\\xa4R\\x0f\\x9er~=\\x9b\\xf3\\xa4\\xed\\'\\xe9\\xa0\\x8e\\x180\\xcd@T;\\xb5\\xf2hU2\\xc9\\x04\\xe4\\xabv\\xba\\x12\\x7f\\xb9+\\xf5lg\\xd1\\x13\\x9fM?\\x90Y\\x96\\x0c\\xf8,[\\xe9U\\xaa\\xf4\\x0c\\xc6\\xcc\\xad\\xd9\\x98\\xb9Q\\x8d\\x99\\x82\\xa3]\\\\Q\\xea\\xd3\\x08\\x19\\xba\\xe22@&\\xcf\\x18B\\x8b\\xcc\\x03\\xbdb5Af\\x83Y\\xb1\\x9a\\'\\x93W\\x01h\\x91\\xf9\\x1e\\x04\\x17\\x8d\\x92a\\xaa\\x9c\\xe6\\xc9lX2\\x8d\\x93\\xb1\\xd9$U\\xe0\\xa0i\\x05\\x9eS\\x15\\x97\\x11\\x05\\xfeT\\x0f\\x99\\xa7\\xc5\\x9d\\xad\\xf4l\\xa5\\xa7\\x1c3\\x0b\\xb9\\x07\\xe3\\xe3]\\xd31s\\xd3z\\xcc0\\xb9\\x9e\\xef\\xc13I\\xaf\\x0bE\\xf5\\xe1\\xfd\\xba\\xab\\x92\\x99\\x17\\xd6\\x7fF\\xc8\\x08n;9\\xa3\\xd1\\xd5\\xfbwa\\xc5\\x92;\\x8c\\x94#S\\xbc\\x96\\x1b!\\xb3\\x0e\\x9d\\xf3rF\\xafy29\\xae4\\xa5\\xc8\\xac[2\\x1d\\'\\x93\\x937\\xd8\\x99\\x91\\xb9\\x9b\\x0e\\xfd\\x1a\\xabg\\xd3yG\\x14\\xf8\\x93\\x82\\x07O\\xe6\\xcc\\x98\\xde\\xc6\\x93\\xfa5VW\\xe0O\\x9d \\xa3\\xea\\xb6\\x9d\\xf3\\xda[[\\xe9\\xd9J\\xaf\\xc4(u\\'\\x99?K:?\\x86\\xf2\\x05Z0E\\x9fp[O\\xcc\\xdc\\xdc\\xd6p\\xdd\\xa41\\xfa@\\xd5\\x7f\\xdc\\\\\\xf0\\x8f\\xa1`\\x83~\\xd9k\\x83{\\xf4\\x8dk\\x192\\x0f\\x12k\\x9e\\xc6\\xc8\\xcc\\xa9\\x15\\x8b\\x9b\\x0b\\xfe1\\x14\\xfc\\xa3\\x0e\\xd2\\xd7^n\\x80\\xef\\x88\\xca\\x90\\x91\\xd9\\xac4F\\x86\\xaer\\xb8\\xb9`c\\xbbk\\x19\\x83\\x0b\\xfcZ\\xf4\\x8dk\\x192\\xd7\\xabK\\xe6\\xe33#\\xf3=7\\x9b\\x94\\xf3\\xe6A\\xf6\\xda\\xcfue\\x93\\xcc\\x9a\\xa712\\xe9\\x97\\xbbH\\x81\\xd5\\xb5\\xf6\\xe9\\xea\\\\\\xa6\\xd6s\\xf1\\x1b\\xd72d\\x16W\\x17f\\xd7&\\xfdJ\\xef\\xf1\\xfe\\xdb\\x9a\\xad\\xf4V\\xad\\xd2kys{\\xc3~\\x0b\\xbb\\xf5\\x87}\\x8d\\xa7^\\xdb\\xd8f\\x83\\xdd\\x89\\xa6\\x95M=`\\x86\\xfb\\xdd!\\x13\\xf68\\xf2\\x1d\\xb3~\\xdf\\x1b\\xf8k\"\\x1ah%S\\xdf\\xe6\\xf5\\xbd>Q%\\x83|\\x9b\\xc8\\x99\\xf3\\x86\\x88\\x1e%x\\x14\\x1d\\xb8\\xf06\\xce\\x1b\\xc5\\xef\\x8fgc\\xb2+\\xfer5\\xb6\\x92)\\xdc\\x85j\\x06\\xf7\\xc7\\xa3\\xb12\\x19\\xd1\\xb7\\x89D\\xfd\\xdah*p\\x14\\x1c\\xb8\\xf06\\xae#<|>}\\x14\\xb5\\x95\\xf1\\x8f\\x9fc+\\x99\\xe2](m\\xa3A\\xd4\\t\\xa0JF\\xf0mZ\\xcep\\x0b4qKF\\x85\\x03\\x17\\xdf\\xc6fH\\xd4\\xc43H\\xfd\\x8cX\\x06\\xc8J\\xa6x\\x17J\\x12\\xb3GH\\xd8\\xfc\\xa8\\xac3\\xacoS\\xbc\\x9d:?\\x83\\xa9\\xe0Q\\xfe\\xc0\\xc1\\xdb\\x98\\x0c\\x89\\xc0\\xcc\\xf6\\xe3\\xc6\\'\\xae\\t\\x08[\\xc9\\x14\\xeeB\\x05\\x8c\\x17\\xf7}*\\x93a|\\x9b2^\\xd0\\x95\\x06\\x8er\\x07\\x0e\\xdfFgH\\xc4\"j\\xd0\\x1c\\x89]`\\xd80\\xa5x\\x17\\xc5\\xda\\x9b\\xfa.)\\x93\\x99B\\x06\\xc70\\xaf\\xf1(\\xb4ia\\xdfFg{\\x94?\\x91\\xf4\\xce\\xf6\\x054\\x98L\\xf1.\\x8a\\xb4w\\x90\\x9e\\x0eu2g\\x12\\xb3\\x9b\\xf7\\xca\\xa3\\xc7N\\xc1\\xbc\\x0e\\xa8\\xb7-\\xc1,\\x1b{\\x96\\xcd\\xe0L\\xbf\\x10\\xb6\\x92)\\xdeE\\xa1\\xf6f\\x8dX\\xcadN`\\xccL\\x81\\xd4\\xcaF\\x0f\\x8aN\\xa8\\x93\\xc1\\x8f\\x157\\xeevv\\t\\x8f\\x06Z\\xc9(\\xec\\xa2P{3I\\xd3\\xc8&\\x87T\\xd2\\x19\\xfa\\xc0%kS\\xeap\\x93\\xd4v\\xbb\\xf1\\x84\\xc6\\x1c\\x1al%S\\xbc\\x8b\\\\0q\\xd3\\xa6\\x1b7\\xa0\\r\\x94\\xd7\\xa6\\x1fQj;?C^h\\x94:p\\xbc\\x1d\\xbeJ\\xd6\\xdc\\x04L\\xd2\\xb1\\x97\\xfc?-\\x86\\xb1\\x95L\\xf1.\\x8a\\xb4\\x97n\\xc2\\xf3\\x14\\xc9D\\xbeM`*\\xff\\x03\\xbc\\xf0hv\\xe0\\xb2dzs\\xb6\\xcc\\xc2\\xb4\\xe32\\xed\\xac\\xdc\\xe5b\\t[\\xc9\\x14\\xef\\xa2H{i\\xbb\\x02U2\\xa1o\\xd3\\x16\\xaav\\x01/<\\x9a\\x1e\\xb8d\\x0b\\x0f\\xea\\xe0\\x15k\\xe7DxDK4\\xd8J\\xa6x\\x17E\\xda\\xcb\\xf4\\xc1\\xaa\\x929\\xd8!\\'bjGWHDi4=pi\\xa1\\xf7\\xd3\\xf2?\\xca\\xcc)\\x9de\\xd6|\\x9a\\xd7\\xa6Z\\xb8\\x8b\"\\xede*JU2\\xa1g\\xd3;\\xe1\\x8a\\xf2\\xdd\\x87\\xe8?\\x95\\xd1\\xe4\\xc0U\\x850\\xf3\\xd8#\\xb4?X\\x1e\\x1a\\xd5]\\xe4\\xec\\xd2\\xcd\\xfa\\x7fU\\xc9\\x98\\xbb3\\x92\\xe1\\xa0Z\\xdb)\\xb3\\x12={]\\xb5K\\xeb\\xec\\x1a\\x96t\\x95\\x0cS\\xe9R\\xeb\\xe6l\\x1f\\xbf\\xa4\\x0e0T_<\\xed\\x16\\xd312\\xc3}H\\x83\\xa1T+\\x1a\\x9f\\xceN\\xc6\\x86\\xa0[dFRO\\xb1\\x11i\\x04\\rk\\xe8\\xc0|n\\xa7\\xc8\\xb0\\xea\\xca\\xfc1\\x1bs\\xb7\\xb4\\xea\\x01\\xc3\\x98\\x950A\\xda)2\\xecMM\\xd6\\xb2\\x82\\xb5\\x18\\xab\\t\\r\\xebt\\xc1YPt\\x88\\x0cw#\\x9c\\xb3\\x16\\xd9e\\xfe\\x9a\\xf5k\\xd9!\\xb3\\x0bn\\xd1\\xeb\\x0e\\x19\\xfe\\x1b\\x82]\\x92\\x07\\xaa\\xfaW->W\\x19q\\xc6w\\xdd!\\xc3G\\x01\\xef\\xff\\xc2\\xff]\\x15\\x8d`\\xa6\\xc3\\xcbzW\\xc8\\x08\\xca!\\xf8\\xf4\\xec\\xe5\\xaaR5\\xed\\r\\xcf\\x0c\\xff\\xf9\\x1d!#J\\xaa\\xe0\\\\\\xcc{\\xf6\\xa9\\x98\\x8a)j/t\\x00\\xea\\x06\\x19\\xd1\\xea\\xcb\\x17\\x9d\\xd2\\xf6Imh\\xc4x\\x13\\xaf9:A\\x06\\x94n3\\xf1\\xeaH\\xcc\\x9e\\x92\\x15\\x9f/\"\\x15OD\\'\\xc8\\xa0\\x9a\\x16\\x18\\xa5\\x8d\\x94\\xde\\xa8\\xb2;O\\x85\\xb1\\xdb\\x012\\xe8\\xea\\x19\\xc8+\\x08\\xa32h\\x80I\\x9f(\\xbf\\x12\\x173\\xc3d\\x90\\\\ \\x9f4\\x10\\xf1%\\x8aa\\xe4\\xf0\\x06\\r\\xd8\\xda\\'\\x03ut\\x84\\x0e\\xd8%\\xd5\\xd1\\xc0\\xb5\\x1e\\xde\\xf2i\\x9d\\x0c\\xae\\xd8\\xe0\\xaa\\x03\\xcd\\x8c\\xb5\\xd0@\\xafD\\x18\\x8c\\xed\\x91Q}\\xe0n\\xac9\\n\\xb7\\xda\\x9e*4A\\x86\\xb3\\xc0{\\xbc\\xc7\\xc6x_\\xc7\\x91\\x89\\x1e\\x1c\\xa5\\x1f\\xc2\\xf4\\x92QL\\x86\\xea.\\xbf_\\xb6\\xedr\\x9d\"\\xb7j\\xfd#F\\xc80\\x16x\\xe1\\x8f\\x13Cc\\xbc%\\x83+\\xce\\xaci9Jw\\xa3\\xa9\\x92\\x89\\x1e0\\x0e\\x9b\\xd0\\x14|\\n\\x16b\\xff\\x88\\t2l\\xffa\\xd8\\xaa\\x01\\xad\\xbc\\xa2\\xa3]\\x0f\\x82\\x0b@\\x86~\\xad*\\x99\\xe8\\xa1\\xf4\\xf0\\x11|q\\x14=\\xf1~\\xd9\\x02\\x19\\xb6\\xe34|\\xce\\x1f\\xda\\xbf%d0\\xaf\\xa0\\x0c\\x99\\x8f!\\x99_\\xc5Q\\x95.\\x89\\xe7M\\xe6\\x12\\x92\\xb9\\xec\\x0c\\x99Z\\xb2)\\xa8)\\x9b\\x1e\\x84NaI\\xff\\x88\\x11\\x05f\\xfc\\x14\\xc2V\\rh\\x8c\\x97\\xaf\\xc0\\x1fkR\\xe0\\'\\xda\\xab5\\xaf\\x7f\\xc4\\xcc\\xaa\\xad\\xd4Z!\\xae\\xcf\\xd4\\xe8m\\x89U\\xbbZ\\xff\\x88\\xad\\xf4\\xda\\xad\\xf4\\x92\\xb3\\xf2H\\x19\\x14s&z7\\xb7\\\\\\xcc\\xc4\\xb6.\\xe2h\\xb9\\x98a\\x1c\\x9d\\x17I\\xfd\\xb7\\xb8o5f\\xb2}_A\\xbb\\x94\\xb0\\xe4{\\x08\\x82\\xff\\x8e\\xd1k\\xbf\\n\\xa3\\x05dR\\xd3\\xbf\\x1cG\\xe7\\xabX}\\xf2|\\x9e\\x8d\\x92\\xd9\\x80\\xd6\\x17\\xd1\"u\\x1d\\x04\\xff\\x1a#3\\xb0\\xaf\\xc2h\\x01\\x99\\x07\\xe8\\xce\\xcb\\xf4\"F\\x9f]\\xe4\\xf3l\\x94\\x0c6\\x05I\\x0cI~\\x19\\xa3\\xd7~\\x15F\\x0b\\xc80=\\xa94\\x99\\x0b\\xf6\\xb3\\x8b\\xdc\\x8c\\x9f%\\x99\\x0bH\\xe6c\\x87\\xc9l&e\\x9c\\x98M\\xf3 \\xf8\\xcf\\x18Y\\xab\\x08\\xd9tQL\\xe6\\x12\\xf9\\xc9\\xd3\\xa3\\x9d\\xcb\\xa6\\xcd\\xdf\\x82;\\x89\\x89\\xde\\xe2\\xea\\x82\\xd3\\xda\\xd8\\xd6\\x85\\x1b\\x9d\\x07wE\\n\\x0c\\x9d\\xf6\\x17t\\x0fo\\xf4\\xd9\\x9dR\\xe0\\n\\x95\\x9e\\xc6\\xfd\\x19\\xfc\\xeb\\x0c\\xb6\\xd2[\\xd1JO;f\\xbe\\xdcU\\xb8\\xa7\\xa7\\x1b3a\\x1d\\xba*d\\xc4\\xfa\\xafI2q\\xfd\\xb7\\x12d\\x84\\xfa\\xafI2\\x1b\\xf1Z\\xbe*d~1Ff\\xdd\\x92y\\x0ed\\xc4\\xfa\\xafI\\x9d\\t\\xeb\\xd0U!\\xb3\\x08.\\x0c\\xaeMa\\x1d\\xfa\\xac+={O\\xef\\xd9Tz7\\xd0\\x18\\x8f\\x1a\\xa5\\xa2\\x03\\x8f\\xc6\\xdf\\xb0zI\\xfd\\x97\\x173\\xd0\\xe7\\xf9\\x91\\xfe\\xd15\\xca\\x13\\xfa\\xbe\\xd5\\xeb\\xa6\\x07h\\xd6D\\x8ff\\x0c\\xf2G\\xbd\\xa4\\xfe\\xcb!3\\x87>\\xcfW\\xf476ROh\\xd3d\\xe62C\\xb4\\xcf\"\\x83\\xfcQo\\x1e\\xd7\\x7f9d\\xa0g\\xef\\x86\\xda\\xa8i2\\xc5Vq\\x0c\\x83\\x9cQ/\\xa9r\\xe4d\\xb4=\\x8e_\\x0c\\x99\\r\\x8d\\x98i\\x9d\\xccw\\xfa\\xc7\\xd3\\xd6\\xa8\\x1c\\xbb\\x13\\x19\\xe4\\x8fzI\\xfd\\x97\\x9bM\\xe7PQT<\\xa1M\\x93\\x11l\\xeb\\x84\\xd1\\x8c\\x81d4X\\x8ezI\\xfd\\x97C\\xe67\\xe8\\xfe\\xfc\\x18\\xdfR\\xe4=\\xa1\\xef^\\xc8==[\\xe9=\\x83Jo57Kf\\xb9\\x9dY2\\x92\\xed\\xefm\\x929\\xdc&\\xc0\\xfe\\x03\\x1a\\t\\x9e:G\\xc0\\x88\\x03\\x8fJb@\\xd3\\xe8\\xafU2S\\x07\\x99)b#A\\xe75\\x01\\xe6-x\\x14o\\x9aF\\x7fGm\\x929s\\x8e\\xc0\\xac\\xb0\\x91\\xe0\\xf16\\xf0:\\x94\\x8cJ\\xce\\x83\\x9e\\xd1_\\xabd\\xc8\\xc1kh\\xa6\\x88\\x8c\\x04O\\x9c)\\x08z<\\x8a7M\\xa3\\xbfv\\xc9L\\x1d4+l$\\xe8\\xc0\\xb4q\\x94\\x93I\\xd7\\xe8\\xaf]2\\xa7\\xd8L\\x11\\x1e\\xed!\\x0c\\xfaC\\r\\x03\\'\\r\\xa3\\xbfw\\x84\\xbcow\\xd5\\x96\\xd8\\xf4\\x1da\\xb9V\\x1e\\x95E\\xa8\\xaa\\xd1\\xdf\\xe9?\\x08\\xf9\\xd0\\xc1l:l(\\x9b4\\x8c\\xfeN\\xdf\\x9f~kW\\x81\\xb7P2@#\\xc1\\x13\\x07\\x15.xTGg$.|\\xafO\\xdb\\xbd:p\\x8e\\xc0i\\xc4F\\x82\\xd3m\\xe06&\\x19\\x95\\xedM\\xc3\\xe8\\xef\\xc7v\\xc9L\\x9d\\x0f\\xa0\\xfe\\xc4F\\x82\\xce\\xce)\\xe0\\x85Ge\\xf5\\x8c\\x86\\xd1\\xdfI\\xcbd\\xb6\\x91\\x82b#A\\xe7\\x08\\xf2:\"\\xca\\x96\\x94ZF\\x7f\\'?\\xb5J\\xc6yKN\\x85ia#\\xc1\\xb0\\xd4=\\xdc\"J\\xa3\\xb2\\xbdi\\x19\\xfd\\xed\\xbc\\x9c\\xbb\\x10\\x9aF\\x7f\\x7f\\xb6\\xf7g$\\xdb{KF}\\xb3d,\\x19K\\xc6\\x92i\\x9c\\xcc\\xff\\x01\\x9a\\x16\\x96\\xb8\\x07G\\x93X\\x00\\x00\\x00\\x00IEND\\xaeB`\\x82'"
      ]
     },
     "execution_count": 103,
     "metadata": {},
     "output_type": "execute_result"
    }
   ],
   "source": [
    "bin_file = pathlib.Path(\"./resources/backtrack.png\")\n",
    "bin_file.read_bytes()"
   ]
  },
  {
   "cell_type": "code",
   "execution_count": 104,
   "metadata": {},
   "outputs": [
    {
     "data": {
      "text/plain": [
       "9"
      ]
     },
     "execution_count": 104,
     "metadata": {},
     "output_type": "execute_result"
    }
   ],
   "source": [
    "file = pathlib.Path(\"./resources/sp.config\")\n",
    "file.write_text(\"LOG:DEBUG\")"
   ]
  },
  {
   "cell_type": "code",
   "execution_count": 110,
   "metadata": {},
   "outputs": [
    {
     "data": {
      "text/plain": [
       "PosixPath('resources/sp')"
      ]
     },
     "execution_count": 110,
     "metadata": {},
     "output_type": "execute_result"
    }
   ],
   "source": [
    "file = pathlib.Path(\"./resources/sp\")\n",
    "file"
   ]
  },
  {
   "cell_type": "code",
   "execution_count": 62,
   "metadata": {},
   "outputs": [
    {
     "name": "stdout",
     "output_type": "stream",
     "text": [
      "{\n",
      "    \"Version\": \"2012-10-17\",\n",
      "    \"Statement\": {\n",
      "        \"Effect\": \"Allow\",\n",
      "        \"Action\": \"service-prefix:action-name\",\n",
      "        \"Resources\": \"*\",\n",
      "        \"Condition\": {\n",
      "            \"DateGreaterThan\": {\"aws:CurrentTime\": \"2017-07-01T00:00:000Z\"},\n",
      "            \"DateLessThan\": {\"aws:CurrentTime\": \"2017-12-31T23:59:59Z\"}\n",
      "        }\n",
      "    }\n",
      "}\n",
      "\n",
      "Is the file closed? True\n",
      "\n"
     ]
    }
   ],
   "source": [
    "text = '''{\n",
    "    \"Version\": \"2012-10-17\",\n",
    "    \"Statement\": {\n",
    "        \"Effect\": \"Allow\",\n",
    "        \"Action\": \"service-prefix:action-name\",\n",
    "        \"Resources\": \"*\",\n",
    "        \"Condition\": {\n",
    "            \"DateGreaterThan\": {\"aws:CurrentTime\": \"2017-07-01T00:00:000Z\"},\n",
    "            \"DateLessThan\": {\"aws:CurrentTime\": \"2017-12-31T23:59:59Z\"}\n",
    "        }\n",
    "    }\n",
    "}'''\n",
    "\n",
    "with open('resources/service-policy.json', 'w') as file:\n",
    "    file.write(text)\n",
    "    \n",
    "!cat resources/service-policy.json\n",
    "\n",
    "print(f\"\\n\\nIs the file closed? {file.closed}\\n\")"
   ]
  },
  {
   "cell_type": "code",
   "execution_count": 63,
   "metadata": {},
   "outputs": [
    {
     "data": {
      "text/plain": [
       "'        \"Action\": \"service-prefix:action-name\",\\n'"
      ]
     },
     "execution_count": 63,
     "metadata": {},
     "output_type": "execute_result"
    }
   ],
   "source": [
    "with open('./resources/service-policy.json', 'r') as service_policy:\n",
    "    text = service_policy.readlines()\n",
    "    \n",
    "text[4] "
   ]
  },
  {
   "cell_type": "code",
   "execution_count": 66,
   "metadata": {},
   "outputs": [
    {
     "data": {
      "text/plain": [
       "'{\\n    \"Version\": \"2012-10-17\",\\n    \"Statement\": {\\n        \"Effect\": \"Allow\",\\n        \"Action\": \"service-prefix:action-name\",\\n        \"Resources\": \"*\",\\n        \"Condition\": {\\n            \"DateGreaterThan\": {\"aws:CurrentTime\": \"2017-07-01T00:00:000Z\"},\\n            \"DateLessThan\": {\"aws:CurrentTime\": \"2017-12-31T23:59:59Z\"}\\n        }\\n    }\\n}'"
      ]
     },
     "execution_count": 66,
     "metadata": {},
     "output_type": "execute_result"
    }
   ],
   "source": [
    "file = pathlib.Path(\"resources/service-policy.json\")\n",
    "file.read_text()"
   ]
  },
  {
   "cell_type": "code",
   "execution_count": 67,
   "metadata": {},
   "outputs": [
    {
     "name": "stdout",
     "output_type": "stream",
     "text": [
      "{'Statement': {'Action': 'service-prefix:action-name',\n",
      "               'Condition': {'DateGreaterThan': {'aws:CurrentTime': '2017-07-01T00:00:000Z'},\n",
      "                             'DateLessThan': {'aws:CurrentTime': '2017-12-31T23:59:59Z'}},\n",
      "               'Effect': 'Allow',\n",
      "               'Resources': '*'},\n",
      " 'Version': '2012-10-17'}\n"
     ]
    }
   ],
   "source": [
    "from pprint import pprint\n",
    "import json\n",
    "\n",
    "with open(\"resources/service-policy.json\", 'r') as file:\n",
    "    service_policy = json.load(file)\n",
    "    \n",
    "pprint(service_policy)"
   ]
  },
  {
   "cell_type": "code",
   "execution_count": 69,
   "metadata": {},
   "outputs": [
    {
     "name": "stdout",
     "output_type": "stream",
     "text": [
      "{'Statement': {'Action': 'service-prefix:action-name',\n",
      "               'Condition': {'DateGreaterThan': {'aws:CurrentTime': '2017-07-01T00:00:000Z'},\n",
      "                             'DateLessThan': {'aws:CurrentTime': '2017-12-31T23:59:59Z'}},\n",
      "               'Effect': 'Allow',\n",
      "               'Resources': 'S4'},\n",
      " 'Version': '2012-10-17'}\n"
     ]
    }
   ],
   "source": [
    "service_policy['Statement']['Resources'] = 'S4'\n",
    "\n",
    "pprint(service_policy)"
   ]
  },
  {
   "cell_type": "code",
   "execution_count": 76,
   "metadata": {},
   "outputs": [
    {
     "name": "stdout",
     "output_type": "stream",
     "text": [
      "('{\\n'\n",
      " '    \"Version\": \"2012-10-17\",\\n'\n",
      " '    \"Statement\": {\\n'\n",
      " '        \"Effect\": \"Allow\",\\n'\n",
      " '        \"Action\": \"service-prefix:action-name\",\\n'\n",
      " '        \"Resources\": \"*\",\\n'\n",
      " '        \"Condition\": {\\n'\n",
      " '            \"DateGreaterThan\": {\"aws:CurrentTime\": '\n",
      " '\"2017-07-01T00:00:000Z\"},\\n'\n",
      " '            \"DateLessThan\": {\"aws:CurrentTime\": \"2017-12-31T23:59:59Z\"}\\n'\n",
      " '        }\\n'\n",
      " '    }\\n'\n",
      " '}')\n",
      "('{\"Version\": \"2012-10-17\", \"Statement\": {\"Effect\": \"Allow\", \"Action\": '\n",
      " '\"service-prefix:action-name\", \"Resources\": \"S4\", \"Condition\": '\n",
      " '{\"DateGreaterThan\": {\"aws:CurrentTime\": \"2017-07-01T00:00:000Z\"}, '\n",
      " '\"DateLessThan\": {\"aws:CurrentTime\": \"2017-12-31T23:59:59Z\"}}}}')\n"
     ]
    }
   ],
   "source": [
    "'''Write python dictionary has a JSON file'''\n",
    "with open('resources/services-policy.json', 'w') as file:\n",
    "    policy = json.dump(service_policy, file)\n",
    "\n",
    "pprint(open('resources/service-policy.json', 'r').read())\n",
    "# Wrote with json.dump from services-policy.json file\n",
    "pprint(open('resources/services-policy.json', 'r').read())"
   ]
  },
  {
   "cell_type": "code",
   "execution_count": 78,
   "metadata": {},
   "outputs": [
    {
     "name": "stdout",
     "output_type": "stream",
     "text": [
      "Defaulting to user installation because normal site-packages is not writeable\n",
      "Collecting PyYAML\n",
      "  Downloading PyYAML-5.3.1.tar.gz (269 kB)\n",
      "\u001b[K     |████████████████████████████████| 269 kB 1.2 MB/s eta 0:00:01\n",
      "\u001b[?25hBuilding wheels for collected packages: PyYAML\n",
      "  Building wheel for PyYAML (setup.py) ... \u001b[?25ldone\n",
      "\u001b[?25h  Created wheel for PyYAML: filename=PyYAML-5.3.1-cp38-cp38-macosx_10_15_x86_64.whl size=44625 sha256=5755d27016cb8e3c2b9cddb02913c8faf3e8d65aae4116d701b89aefeaf4101c\n",
      "  Stored in directory: /Users/cbash.ml/Library/Caches/pip/wheels/13/90/db/290ab3a34f2ef0b5a0f89235dc2d40fea83e77de84ed2dc05c\n",
      "Successfully built PyYAML\n",
      "Installing collected packages: PyYAML\n",
      "Successfully installed PyYAML-5.3.1\n"
     ]
    }
   ],
   "source": [
    "'''Another language commonly used in configuration file is YAML\n",
    "which require PyYAML for parse YAML file in Python'''\n",
    "\n",
    "#!pip3 install PyYAML"
   ]
  },
  {
   "cell_type": "code",
   "execution_count": 229,
   "metadata": {},
   "outputs": [
    {
     "name": "stdout",
     "output_type": "stream",
     "text": [
      "[{'hosts': 'webservers',\n",
      "  'remote_user': 'root',\n",
      "  'tasks': [{'name': 'ensure apache is at the latest version',\n",
      "             'yum': {'name': 'httpd', 'state': 'latest'}}],\n",
      "  'vars': {'http_port': 80, 'max_clients': 200}}]\n"
     ]
    }
   ],
   "source": [
    "from pprint import pprint\n",
    "import yaml\n",
    "\n",
    "# verify_apache = '''- hosts: webservers\n",
    "#   vars:\n",
    "#     http_port: 80\n",
    "#     max_clients: 200\n",
    "#   remote_user: root\n",
    "#   tasks:\n",
    "#     - name: ensure apache is at the latest version\n",
    "#       yum:\n",
    "#        name: httpd\n",
    "#        state: latest\n",
    "#     - name: write the apache config file\n",
    "#       notify: [restart apache],\n",
    "#       template:\n",
    "#         dest: /etc/httpd.conf\n",
    "#         src: /srv/httpd.j2\n",
    "# '''\n",
    "\n",
    "with open('resources/verify-apache.yml', 'r') as output_file:\n",
    "#     verify_apache = output_file.readlines() \n",
    "    # Normally this would be read by \n",
    "    verify_apache = yaml.safe_load(stream=output_file)\n",
    "\n",
    "pprint(verify_apache)"
   ]
  },
  {
   "cell_type": "code",
   "execution_count": 230,
   "metadata": {},
   "outputs": [
    {
     "name": "stdout",
     "output_type": "stream",
     "text": [
      "- hosts: webservers\r\n",
      "  remote_user: root\r\n",
      "  tasks:\r\n",
      "  - name: ensure apache is at the latest version\r\n",
      "    yum:\r\n",
      "      name: httpd\r\n",
      "      state: latest\r\n",
      "  vars:\r\n",
      "    http_port: 80\r\n",
      "    max_clients: 200\r\n"
     ]
    }
   ],
   "source": [
    "'''Save yaml data with yaml.safe_dump(stream)'''\n",
    "with open('resources/verify-apache-2.yml', 'w') as input_file:\n",
    "    yaml.safe_dump(data=verify_apache, stream=input_file)\n",
    "    \n",
    "!cat resources/verify-apache-2.yml"
   ]
  },
  {
   "cell_type": "code",
   "execution_count": 228,
   "metadata": {},
   "outputs": [
    {
     "name": "stdout",
     "output_type": "stream",
     "text": [
      "Help on package yaml:\n",
      "\n",
      "NAME\n",
      "    yaml\n",
      "\n",
      "PACKAGE CONTENTS\n",
      "    composer\n",
      "    constructor\n",
      "    cyaml\n",
      "    dumper\n",
      "    emitter\n",
      "    error\n",
      "    events\n",
      "    loader\n",
      "    nodes\n",
      "    parser\n",
      "    reader\n",
      "    representer\n",
      "    resolver\n",
      "    scanner\n",
      "    serializer\n",
      "    tokens\n",
      "\n",
      "CLASSES\n",
      "    builtins.RuntimeWarning(builtins.Warning)\n",
      "        YAMLLoadWarning\n",
      "    builtins.object\n",
      "        YAMLObject\n",
      "    builtins.type(builtins.object)\n",
      "        YAMLObjectMetaclass\n",
      "    \n",
      "    class YAMLLoadWarning(builtins.RuntimeWarning)\n",
      "     |  Base class for warnings about dubious runtime behavior.\n",
      "     |  \n",
      "     |  Method resolution order:\n",
      "     |      YAMLLoadWarning\n",
      "     |      builtins.RuntimeWarning\n",
      "     |      builtins.Warning\n",
      "     |      builtins.Exception\n",
      "     |      builtins.BaseException\n",
      "     |      builtins.object\n",
      "     |  \n",
      "     |  Data descriptors defined here:\n",
      "     |  \n",
      "     |  __weakref__\n",
      "     |      list of weak references to the object (if defined)\n",
      "     |  \n",
      "     |  ----------------------------------------------------------------------\n",
      "     |  Methods inherited from builtins.RuntimeWarning:\n",
      "     |  \n",
      "     |  __init__(self, /, *args, **kwargs)\n",
      "     |      Initialize self.  See help(type(self)) for accurate signature.\n",
      "     |  \n",
      "     |  ----------------------------------------------------------------------\n",
      "     |  Static methods inherited from builtins.RuntimeWarning:\n",
      "     |  \n",
      "     |  __new__(*args, **kwargs) from builtins.type\n",
      "     |      Create and return a new object.  See help(type) for accurate signature.\n",
      "     |  \n",
      "     |  ----------------------------------------------------------------------\n",
      "     |  Methods inherited from builtins.BaseException:\n",
      "     |  \n",
      "     |  __delattr__(self, name, /)\n",
      "     |      Implement delattr(self, name).\n",
      "     |  \n",
      "     |  __getattribute__(self, name, /)\n",
      "     |      Return getattr(self, name).\n",
      "     |  \n",
      "     |  __reduce__(...)\n",
      "     |      Helper for pickle.\n",
      "     |  \n",
      "     |  __repr__(self, /)\n",
      "     |      Return repr(self).\n",
      "     |  \n",
      "     |  __setattr__(self, name, value, /)\n",
      "     |      Implement setattr(self, name, value).\n",
      "     |  \n",
      "     |  __setstate__(...)\n",
      "     |  \n",
      "     |  __str__(self, /)\n",
      "     |      Return str(self).\n",
      "     |  \n",
      "     |  with_traceback(...)\n",
      "     |      Exception.with_traceback(tb) --\n",
      "     |      set self.__traceback__ to tb and return self.\n",
      "     |  \n",
      "     |  ----------------------------------------------------------------------\n",
      "     |  Data descriptors inherited from builtins.BaseException:\n",
      "     |  \n",
      "     |  __cause__\n",
      "     |      exception cause\n",
      "     |  \n",
      "     |  __context__\n",
      "     |      exception context\n",
      "     |  \n",
      "     |  __dict__\n",
      "     |  \n",
      "     |  __suppress_context__\n",
      "     |  \n",
      "     |  __traceback__\n",
      "     |  \n",
      "     |  args\n",
      "    \n",
      "    class YAMLObject(builtins.object)\n",
      "     |  An object that can dump itself to a YAML stream\n",
      "     |  and load itself from a YAML stream.\n",
      "     |  \n",
      "     |  Class methods defined here:\n",
      "     |  \n",
      "     |  from_yaml(loader, node) from YAMLObjectMetaclass\n",
      "     |      Convert a representation node to a Python object.\n",
      "     |  \n",
      "     |  to_yaml(dumper, data) from YAMLObjectMetaclass\n",
      "     |      Convert a Python object to a representation node.\n",
      "     |  \n",
      "     |  ----------------------------------------------------------------------\n",
      "     |  Data and other attributes defined here:\n",
      "     |  \n",
      "     |  yaml_dumper = <class 'yaml.dumper.Dumper'>\n",
      "     |  \n",
      "     |  \n",
      "     |  yaml_flow_style = None\n",
      "     |  \n",
      "     |  yaml_loader = [<class 'yaml.loader.Loader'>, <class 'yaml.loader.FullL...\n",
      "     |  \n",
      "     |  yaml_tag = None\n",
      "    \n",
      "    class YAMLObjectMetaclass(builtins.type)\n",
      "     |  YAMLObjectMetaclass(name, bases, kwds)\n",
      "     |  \n",
      "     |  The metaclass for YAMLObject.\n",
      "     |  \n",
      "     |  Method resolution order:\n",
      "     |      YAMLObjectMetaclass\n",
      "     |      builtins.type\n",
      "     |      builtins.object\n",
      "     |  \n",
      "     |  Methods defined here:\n",
      "     |  \n",
      "     |  __init__(cls, name, bases, kwds)\n",
      "     |      Initialize self.  See help(type(self)) for accurate signature.\n",
      "     |  \n",
      "     |  ----------------------------------------------------------------------\n",
      "     |  Methods inherited from builtins.type:\n",
      "     |  \n",
      "     |  __call__(self, /, *args, **kwargs)\n",
      "     |      Call self as a function.\n",
      "     |  \n",
      "     |  __delattr__(self, name, /)\n",
      "     |      Implement delattr(self, name).\n",
      "     |  \n",
      "     |  __dir__(self, /)\n",
      "     |      Specialized __dir__ implementation for types.\n",
      "     |  \n",
      "     |  __getattribute__(self, name, /)\n",
      "     |      Return getattr(self, name).\n",
      "     |  \n",
      "     |  __instancecheck__(self, instance, /)\n",
      "     |      Check if an object is an instance.\n",
      "     |  \n",
      "     |  __repr__(self, /)\n",
      "     |      Return repr(self).\n",
      "     |  \n",
      "     |  __setattr__(self, name, value, /)\n",
      "     |      Implement setattr(self, name, value).\n",
      "     |  \n",
      "     |  __sizeof__(self, /)\n",
      "     |      Return memory consumption of the type object.\n",
      "     |  \n",
      "     |  __subclasscheck__(self, subclass, /)\n",
      "     |      Check if a class is a subclass.\n",
      "     |  \n",
      "     |  __subclasses__(self, /)\n",
      "     |      Return a list of immediate subclasses.\n",
      "     |  \n",
      "     |  mro(self, /)\n",
      "     |      Return a type's method resolution order.\n",
      "     |  \n",
      "     |  ----------------------------------------------------------------------\n",
      "     |  Class methods inherited from builtins.type:\n",
      "     |  \n",
      "     |  __prepare__(...) from builtins.type\n",
      "     |      __prepare__() -> dict\n",
      "     |      used to create the namespace for the class statement\n",
      "     |  \n",
      "     |  ----------------------------------------------------------------------\n",
      "     |  Static methods inherited from builtins.type:\n",
      "     |  \n",
      "     |  __new__(*args, **kwargs) from builtins.type\n",
      "     |      Create and return a new object.  See help(type) for accurate signature.\n",
      "     |  \n",
      "     |  ----------------------------------------------------------------------\n",
      "     |  Data descriptors inherited from builtins.type:\n",
      "     |  \n",
      "     |  __abstractmethods__\n",
      "     |  \n",
      "     |  __dict__\n",
      "     |  \n",
      "     |  __text_signature__\n",
      "     |  \n",
      "     |  ----------------------------------------------------------------------\n",
      "     |  Data and other attributes inherited from builtins.type:\n",
      "     |  \n",
      "     |  __base__ = <class 'type'>\n",
      "     |      type(object_or_name, bases, dict)\n",
      "     |      type(object) -> the object's type\n",
      "     |      type(name, bases, dict) -> a new type\n",
      "     |  \n",
      "     |  __bases__ = (<class 'type'>,)\n",
      "     |  \n",
      "     |  __basicsize__ = 880\n",
      "     |  \n",
      "     |  __dictoffset__ = 264\n",
      "     |  \n",
      "     |  __flags__ = 2148292096\n",
      "     |  \n",
      "     |  __itemsize__ = 40\n",
      "     |  \n",
      "     |  __mro__ = (<class 'yaml.YAMLObjectMetaclass'>, <class 'type'>, <class ...\n",
      "     |  \n",
      "     |  __weakrefoffset__ = 368\n",
      "\n",
      "FUNCTIONS\n",
      "    add_constructor(tag, constructor, Loader=None)\n",
      "        Add a constructor for the given tag.\n",
      "        Constructor is a function that accepts a Loader instance\n",
      "        and a node object and produces the corresponding Python object.\n",
      "    \n",
      "    add_implicit_resolver(tag, regexp, first=None, Loader=None, Dumper=<class 'yaml.dumper.Dumper'>)\n",
      "        Add an implicit scalar detector.\n",
      "        If an implicit scalar value matches the given regexp,\n",
      "        the corresponding tag is assigned to the scalar.\n",
      "        first is a sequence of possible initial characters or None.\n",
      "    \n",
      "    add_multi_constructor(tag_prefix, multi_constructor, Loader=None)\n",
      "        Add a multi-constructor for the given tag prefix.\n",
      "        Multi-constructor is called for a node if its tag starts with tag_prefix.\n",
      "        Multi-constructor accepts a Loader instance, a tag suffix,\n",
      "        and a node object and produces the corresponding Python object.\n",
      "    \n",
      "    add_multi_representer(data_type, multi_representer, Dumper=<class 'yaml.dumper.Dumper'>)\n",
      "        Add a representer for the given type.\n",
      "        Multi-representer is a function accepting a Dumper instance\n",
      "        and an instance of the given data type or subtype\n",
      "        and producing the corresponding representation node.\n",
      "    \n",
      "    add_path_resolver(tag, path, kind=None, Loader=None, Dumper=<class 'yaml.dumper.Dumper'>)\n",
      "        Add a path based resolver for the given tag.\n",
      "        A path is a list of keys that forms a path\n",
      "        to a node in the representation tree.\n",
      "        Keys can be string values, integers, or None.\n",
      "    \n",
      "    add_representer(data_type, representer, Dumper=<class 'yaml.dumper.Dumper'>)\n",
      "        Add a representer for the given type.\n",
      "        Representer is a function accepting a Dumper instance\n",
      "        and an instance of the given data type\n",
      "        and producing the corresponding representation node.\n",
      "    \n",
      "    compose(stream, Loader=<class 'yaml.loader.Loader'>)\n",
      "        Parse the first YAML document in a stream\n",
      "        and produce the corresponding representation tree.\n",
      "    \n",
      "    compose_all(stream, Loader=<class 'yaml.loader.Loader'>)\n",
      "        Parse all YAML documents in a stream\n",
      "        and produce corresponding representation trees.\n",
      "    \n",
      "    dump(data, stream=None, Dumper=<class 'yaml.dumper.Dumper'>, **kwds)\n",
      "        Serialize a Python object into a YAML stream.\n",
      "        If stream is None, return the produced string instead.\n",
      "    \n",
      "    dump_all(documents, stream=None, Dumper=<class 'yaml.dumper.Dumper'>, default_style=None, default_flow_style=False, canonical=None, indent=None, width=None, allow_unicode=None, line_break=None, encoding=None, explicit_start=None, explicit_end=None, version=None, tags=None, sort_keys=True)\n",
      "        Serialize a sequence of Python objects into a YAML stream.\n",
      "        If stream is None, return the produced string instead.\n",
      "    \n",
      "    emit(events, stream=None, Dumper=<class 'yaml.dumper.Dumper'>, canonical=None, indent=None, width=None, allow_unicode=None, line_break=None)\n",
      "        Emit YAML parsing events into a stream.\n",
      "        If stream is None, return the produced string instead.\n",
      "    \n",
      "    full_load(stream)\n",
      "        Parse the first YAML document in a stream\n",
      "        and produce the corresponding Python object.\n",
      "        \n",
      "        Resolve all tags except those known to be\n",
      "        unsafe on untrusted input.\n",
      "    \n",
      "    full_load_all(stream)\n",
      "        Parse all YAML documents in a stream\n",
      "        and produce corresponding Python objects.\n",
      "        \n",
      "        Resolve all tags except those known to be\n",
      "        unsafe on untrusted input.\n",
      "    \n",
      "    load(stream, Loader=None)\n",
      "        Parse the first YAML document in a stream\n",
      "        and produce the corresponding Python object.\n",
      "    \n",
      "    load_all(stream, Loader=None)\n",
      "        Parse all YAML documents in a stream\n",
      "        and produce corresponding Python objects.\n",
      "    \n",
      "    load_warning(method)\n",
      "    \n",
      "    parse(stream, Loader=<class 'yaml.loader.Loader'>)\n",
      "        Parse a YAML stream and produce parsing events.\n",
      "    \n",
      "    safe_dump(data, stream=None, **kwds)\n",
      "        Serialize a Python object into a YAML stream.\n",
      "        Produce only basic YAML tags.\n",
      "        If stream is None, return the produced string instead.\n",
      "    \n",
      "    safe_dump_all(documents, stream=None, **kwds)\n",
      "        Serialize a sequence of Python objects into a YAML stream.\n",
      "        Produce only basic YAML tags.\n",
      "        If stream is None, return the produced string instead.\n",
      "    \n",
      "    safe_load(stream)\n",
      "        Parse the first YAML document in a stream\n",
      "        and produce the corresponding Python object.\n",
      "        \n",
      "        Resolve only basic YAML tags. This is known\n",
      "        to be safe for untrusted input.\n",
      "    \n",
      "    safe_load_all(stream)\n",
      "        Parse all YAML documents in a stream\n",
      "        and produce corresponding Python objects.\n",
      "        \n",
      "        Resolve only basic YAML tags. This is known\n",
      "        to be safe for untrusted input.\n",
      "    \n",
      "    scan(stream, Loader=<class 'yaml.loader.Loader'>)\n",
      "        Scan a YAML stream and produce scanning tokens.\n",
      "    \n",
      "    serialize(node, stream=None, Dumper=<class 'yaml.dumper.Dumper'>, **kwds)\n",
      "        Serialize a representation tree into a YAML stream.\n",
      "        If stream is None, return the produced string instead.\n",
      "    \n",
      "    serialize_all(nodes, stream=None, Dumper=<class 'yaml.dumper.Dumper'>, canonical=None, indent=None, width=None, allow_unicode=None, line_break=None, encoding=None, explicit_start=None, explicit_end=None, version=None, tags=None)\n",
      "        Serialize a sequence of representation trees into a YAML stream.\n",
      "        If stream is None, return the produced string instead.\n",
      "    \n",
      "    unsafe_load(stream)\n",
      "        Parse the first YAML document in a stream\n",
      "        and produce the corresponding Python object.\n",
      "        \n",
      "        Resolve all tags, even those known to be\n",
      "        unsafe on untrusted input.\n",
      "    \n",
      "    unsafe_load_all(stream)\n",
      "        Parse all YAML documents in a stream\n",
      "        and produce corresponding Python objects.\n",
      "        \n",
      "        Resolve all tags, even those known to be\n",
      "        unsafe on untrusted input.\n",
      "    \n",
      "    warnings(settings=None)\n",
      "        # Get or set global warnings' state\n",
      "\n",
      "DATA\n",
      "    __with_libyaml__ = False\n",
      "\n",
      "VERSION\n",
      "    5.3.1\n",
      "\n",
      "FILE\n",
      "    /Users/cbash.ml/Library/Python/3.8/lib/python/site-packages/yaml/__init__.py\n",
      "\n",
      "\n"
     ]
    }
   ],
   "source": [
    "help(yaml)"
   ]
  },
  {
   "cell_type": "code",
   "execution_count": 3,
   "metadata": {},
   "outputs": [
    {
     "data": {
      "text/plain": [
       "<Element 'rss' at 0x106cbb400>"
      ]
     },
     "execution_count": 3,
     "metadata": {},
     "output_type": "execute_result"
    }
   ],
   "source": [
    "import xml.etree.ElementTree as ET\n",
    "import urllib\n",
    "\n",
    "'''Another language usually used for structural data is Extensible Markup Language (XML)'''\n",
    "\n",
    "url = 'http://feeds.feedburner.com/oreilly/radar/atom'\n",
    "xml = urllib.request.urlopen(url).read()\n",
    "\n",
    "with open('resources/http_feeds.feedburner.com_oreilly_radar_atom.xml', 'wb') as file:\n",
    "    file.write(xml)\n",
    "\n",
    "tree = ET.parse('resources/http_feeds.feedburner.com_oreilly_radar_atom.xml')\n",
    "\n",
    "root = tree.getroot()\n",
    "\n",
    "root"
   ]
  },
  {
   "cell_type": "code",
   "execution_count": 235,
   "metadata": {},
   "outputs": [
    {
     "name": "stdout",
     "output_type": "stream",
     "text": [
      "Help on package urllib:\n",
      "\n",
      "NAME\n",
      "    urllib - #empty\n",
      "\n",
      "MODULE REFERENCE\n",
      "    https://docs.python.org/3.8/library/urllib\n",
      "    \n",
      "    The following documentation is automatically generated from the Python\n",
      "    source files.  It may be incomplete, incorrect or include features that\n",
      "    are considered implementation detail and may vary between Python\n",
      "    implementations.  When in doubt, consult the module reference at the\n",
      "    location listed above.\n",
      "\n",
      "PACKAGE CONTENTS\n",
      "    error\n",
      "    parse\n",
      "    request\n",
      "    response\n",
      "    robotparser\n",
      "\n",
      "FILE\n",
      "    /Applications/Xcode.app/Contents/Developer/Library/Frameworks/Python3.framework/Versions/3.8/lib/python3.8/urllib/__init__.py\n",
      "\n",
      "\n"
     ]
    }
   ],
   "source": [
    "help(urllib)"
   ]
  },
  {
   "cell_type": "code",
   "execution_count": 2,
   "metadata": {},
   "outputs": [
    {
     "ename": "NameError",
     "evalue": "name 'tree' is not defined",
     "output_type": "error",
     "traceback": [
      "\u001b[0;31m---------------------------------------------------------------------------\u001b[0m",
      "\u001b[0;31mNameError\u001b[0m                                 Traceback (most recent call last)",
      "\u001b[0;32m<ipython-input-2-490b1b8e518e>\u001b[0m in \u001b[0;36m<module>\u001b[0;34m\u001b[0m\n\u001b[1;32m      1\u001b[0m \u001b[0;32mimport\u001b[0m \u001b[0mre\u001b[0m\u001b[0;34m\u001b[0m\u001b[0;34m\u001b[0m\u001b[0m\n\u001b[1;32m      2\u001b[0m \u001b[0;34m'''We can iterate over the tree for walk down it'''\u001b[0m\u001b[0;34m\u001b[0m\u001b[0;34m\u001b[0m\u001b[0m\n\u001b[0;32m----> 3\u001b[0;31m \u001b[0;32mfor\u001b[0m \u001b[0mchild\u001b[0m \u001b[0;32min\u001b[0m \u001b[0mtree\u001b[0m\u001b[0;34m.\u001b[0m\u001b[0mfind\u001b[0m\u001b[0;34m(\u001b[0m\u001b[0;34m'channel'\u001b[0m\u001b[0;34m)\u001b[0m\u001b[0;34m:\u001b[0m\u001b[0;34m\u001b[0m\u001b[0;34m\u001b[0m\u001b[0m\n\u001b[0m\u001b[1;32m      4\u001b[0m     \u001b[0;32mif\u001b[0m \u001b[0mre\u001b[0m\u001b[0;34m.\u001b[0m\u001b[0mmatch\u001b[0m\u001b[0;34m(\u001b[0m\u001b[0;34m\"[\\w|\\d]+\"\u001b[0m\u001b[0;34m,\u001b[0m \u001b[0mstr\u001b[0m\u001b[0;34m(\u001b[0m\u001b[0mchild\u001b[0m\u001b[0;34m.\u001b[0m\u001b[0mtext\u001b[0m\u001b[0;34m)\u001b[0m\u001b[0;34m)\u001b[0m\u001b[0;34m:\u001b[0m\u001b[0;34m\u001b[0m\u001b[0;34m\u001b[0m\u001b[0m\n\u001b[1;32m      5\u001b[0m         \u001b[0mprint\u001b[0m\u001b[0;34m(\u001b[0m\u001b[0;34mf\"[Node-tag: {child.tag} | Node-text: {child.text}]\"\u001b[0m\u001b[0;34m)\u001b[0m\u001b[0;34m\u001b[0m\u001b[0;34m\u001b[0m\u001b[0m\n",
      "\u001b[0;31mNameError\u001b[0m: name 'tree' is not defined"
     ]
    }
   ],
   "source": [
    "import re\n",
    "'''We can iterate over the tree for walk down it'''\n",
    "for child in tree.find('channel'):\n",
    "    if re.match(\"[\\w|\\d]+\", str(child.text)):\n",
    "        print(f\"[Node-tag: {child.tag} | Node-text: {child.text}]\")"
   ]
  },
  {
   "cell_type": "code",
   "execution_count": 5,
   "metadata": {},
   "outputs": [],
   "source": [
    "'''[Deprecated example] This example can't be reproduce for learning effects, because the XML structure has changed'''\n",
    "ns = {'default': 'http://www.w3.org/2005/Atom'}\n",
    "authors = root.find('channel').findall(\"default:entry/default:author/default:name\", ns)\n",
    "\n",
    "for author in authors:\n",
    "    print(author.text)"
   ]
  },
  {
   "cell_type": "code",
   "execution_count": 17,
   "metadata": {},
   "outputs": [
    {
     "name": "stdout",
     "output_type": "stream",
     "text": [
      "['id', 'Gender', 'Age', 'Driving_License', 'Region_Code', 'Previously_Insured', 'Vehicle_Age', 'Vehicle_Damage', 'Annual_Premium', 'Policy_Sales_Channel', 'Vintage']\n",
      "['381110', 'Male', '25', '1', '11.0', '1', '< 1 Year', 'No', '35786.0', '152.0', '53']\n",
      "['381111', 'Male', '40', '1', '28.0', '0', '1-2 Year', 'Yes', '33762.0', '7.0', '111']\n",
      "['381112', 'Male', '47', '1', '28.0', '0', '1-2 Year', 'Yes', '40050.0', '124.0', '199']\n",
      "['381113', 'Male', '24', '1', '27.0', '1', '< 1 Year', 'Yes', '37356.0', '152.0', '187']\n",
      "['381114', 'Male', '27', '1', '28.0', '1', '< 1 Year', 'No', '59097.0', '152.0', '297']\n",
      "['381115', 'Male', '22', '1', '30.0', '1', '< 1 Year', 'No', '40207.0', '152.0', '266']\n",
      "['381116', 'Female', '51', '1', '37.0', '1', '1-2 Year', 'No', '40118.0', '26.0', '107']\n",
      "['381117', 'Male', '25', '1', '41.0', '1', '< 1 Year', 'No', '23375.0', '152.0', '232']\n",
      "['381118', 'Male', '42', '1', '41.0', '0', '1-2 Year', 'Yes', '2630.0', '26.0', '277']\n"
     ]
    }
   ],
   "source": [
    "'''Working with comma-separated values (csv)'''\n",
    "import csv\n",
    "\n",
    "file_path = 'resources/health_insurances_cross_sell_prediction_test.csv'\n",
    "\n",
    "with open(file_path) as csv_file:\n",
    "    off_reader = csv.reader(csv_file, delimiter=',')\n",
    "    for _ in range(10):\n",
    "        print(next(off_reader))\n"
   ]
  },
  {
   "cell_type": "code",
   "execution_count": 19,
   "metadata": {},
   "outputs": [
    {
     "name": "stdout",
     "output_type": "stream",
     "text": [
      "Defaulting to user installation because normal site-packages is not writeable\n",
      "Collecting pandas\n",
      "  Downloading pandas-1.1.3-cp38-cp38-macosx_10_9_x86_64.whl (10.1 MB)\n",
      "\u001b[K     |████████████████████████████████| 10.1 MB 96.1 MB/s eta 0:00:01       | 7.1 MB 96.1 MB/s eta 0:00:01\n",
      "\u001b[?25hCollecting pytz>=2017.2\n",
      "  Using cached pytz-2020.1-py2.py3-none-any.whl (510 kB)\n",
      "Collecting numpy>=1.15.4\n",
      "  Downloading numpy-1.19.2-cp38-cp38-macosx_10_9_x86_64.whl (15.3 MB)\n",
      "\u001b[K     |████████████████████████████████| 15.3 MB 451 kB/s eta 0:00:01\n",
      "\u001b[?25hRequirement already satisfied: python-dateutil>=2.7.3 in /Users/cbash.ml/Library/Python/3.8/lib/python/site-packages (from pandas) (2.8.1)\n",
      "Requirement already satisfied: six>=1.5 in /Users/cbash.ml/Library/Python/3.8/lib/python/site-packages (from python-dateutil>=2.7.3->pandas) (1.15.0)\n",
      "Installing collected packages: pytz, numpy, pandas\n",
      "\u001b[33m  WARNING: The scripts f2py, f2py3 and f2py3.8 are installed in '/Users/cbash.ml/Library/Python/3.8/bin' which is not on PATH.\n",
      "  Consider adding this directory to PATH or, if you prefer to suppress this warning, use --no-warn-script-location.\n",
      "  NOTE: The current PATH contains path(s) starting with `~`, which may not be expanded by all applications.\u001b[0m\n",
      "Successfully installed numpy-1.19.2 pandas-1.1.3 pytz-2020.1\n"
     ]
    }
   ],
   "source": [
    "!pip3 install pandas"
   ]
  },
  {
   "cell_type": "code",
   "execution_count": null,
   "metadata": {},
   "outputs": [],
   "source": [
    "import pandas as pd\n",
    "\n",
    "df = pd.read_csv('resources/Bigtech-Tweet_Sentiment-120720till190920.csv')\n",
    "type(df)"
   ]
  },
  {
   "cell_type": "code",
   "execution_count": 23,
   "metadata": {},
   "outputs": [
    {
     "data": {
      "text/html": [
       "<div>\n",
       "<style scoped>\n",
       "    .dataframe tbody tr th:only-of-type {\n",
       "        vertical-align: middle;\n",
       "    }\n",
       "\n",
       "    .dataframe tbody tr th {\n",
       "        vertical-align: top;\n",
       "    }\n",
       "\n",
       "    .dataframe thead th {\n",
       "        text-align: right;\n",
       "    }\n",
       "</style>\n",
       "<table border=\"1\" class=\"dataframe\">\n",
       "  <thead>\n",
       "    <tr style=\"text-align: right;\">\n",
       "      <th></th>\n",
       "      <th>created_at</th>\n",
       "      <th>file_name</th>\n",
       "      <th>followers</th>\n",
       "      <th>friends</th>\n",
       "      <th>group_name</th>\n",
       "      <th>location</th>\n",
       "      <th>retweet_count</th>\n",
       "      <th>screenname</th>\n",
       "      <th>search_query</th>\n",
       "      <th>text</th>\n",
       "      <th>twitter_id</th>\n",
       "      <th>username</th>\n",
       "      <th>polarity</th>\n",
       "      <th>partition_0</th>\n",
       "      <th>partition_1</th>\n",
       "    </tr>\n",
       "  </thead>\n",
       "  <tbody>\n",
       "    <tr>\n",
       "      <th>0</th>\n",
       "      <td>2020-07-12 09:24:26</td>\n",
       "      <td>AMD</td>\n",
       "      <td>25</td>\n",
       "      <td>114</td>\n",
       "      <td>AMD</td>\n",
       "      <td>United Kingdom</td>\n",
       "      <td>0.0</td>\n",
       "      <td>moffphcgaming</td>\n",
       "      <td>#AMD</td>\n",
       "      <td>Been on holiday so back now. Gonna try get som...</td>\n",
       "      <td>1.282244e+18</td>\n",
       "      <td>🕹MoffPHC Gaming🕹</td>\n",
       "      <td>-0.3102</td>\n",
       "      <td>Technology</td>\n",
       "      <td>AMD</td>\n",
       "    </tr>\n",
       "    <tr>\n",
       "      <th>1</th>\n",
       "      <td>2020-07-12 09:09:36</td>\n",
       "      <td>AMD</td>\n",
       "      <td>159</td>\n",
       "      <td>1144</td>\n",
       "      <td>AMD</td>\n",
       "      <td>digitalverse</td>\n",
       "      <td>4.0</td>\n",
       "      <td>ironparr0t</td>\n",
       "      <td>#AMD</td>\n",
       "      <td>RT @NinjaParanoid: #AMD #Ryzen #3900x #rtx2070...</td>\n",
       "      <td>1.282241e+18</td>\n",
       "      <td>ironparrot</td>\n",
       "      <td>0.0000</td>\n",
       "      <td>Technology</td>\n",
       "      <td>AMD</td>\n",
       "    </tr>\n",
       "    <tr>\n",
       "      <th>2</th>\n",
       "      <td>2020-07-12 08:37:31</td>\n",
       "      <td>AMD</td>\n",
       "      <td>4931</td>\n",
       "      <td>7</td>\n",
       "      <td>AMD</td>\n",
       "      <td>NaN</td>\n",
       "      <td>0.0</td>\n",
       "      <td>ASUS_ROG_IN</td>\n",
       "      <td>#AMD</td>\n",
       "      <td>The Beast #StrixGA35 comes packed with Up to A...</td>\n",
       "      <td>1.282233e+18</td>\n",
       "      <td>ASUS ROG IN</td>\n",
       "      <td>0.0000</td>\n",
       "      <td>Technology</td>\n",
       "      <td>AMD</td>\n",
       "    </tr>\n",
       "    <tr>\n",
       "      <th>3</th>\n",
       "      <td>2020-07-12 08:31:24</td>\n",
       "      <td>AMD</td>\n",
       "      <td>9</td>\n",
       "      <td>188</td>\n",
       "      <td>AMD</td>\n",
       "      <td>HAHA no....</td>\n",
       "      <td>0.0</td>\n",
       "      <td>XApochrypha</td>\n",
       "      <td>#AMD</td>\n",
       "      <td>Recently purchased everything for my first per...</td>\n",
       "      <td>1.282231e+18</td>\n",
       "      <td>XenosApochrypha</td>\n",
       "      <td>0.0000</td>\n",
       "      <td>Technology</td>\n",
       "      <td>AMD</td>\n",
       "    </tr>\n",
       "    <tr>\n",
       "      <th>4</th>\n",
       "      <td>2020-07-12 08:16:45</td>\n",
       "      <td>AMD</td>\n",
       "      <td>1719</td>\n",
       "      <td>1</td>\n",
       "      <td>AMD</td>\n",
       "      <td>digitalocean</td>\n",
       "      <td>1.0</td>\n",
       "      <td>LinuxDreams</td>\n",
       "      <td>#AMD</td>\n",
       "      <td>RT @LinuxReviews: #Linux architect Linus Torva...</td>\n",
       "      <td>1.282227e+18</td>\n",
       "      <td>LinuxDreams</td>\n",
       "      <td>-0.3612</td>\n",
       "      <td>Technology</td>\n",
       "      <td>AMD</td>\n",
       "    </tr>\n",
       "    <tr>\n",
       "      <th>5</th>\n",
       "      <td>2020-07-12 08:16:44</td>\n",
       "      <td>AMD</td>\n",
       "      <td>394</td>\n",
       "      <td>4</td>\n",
       "      <td>AMD</td>\n",
       "      <td>NaN</td>\n",
       "      <td>3.0</td>\n",
       "      <td>botxboxseriesx</td>\n",
       "      <td>#AMD</td>\n",
       "      <td>RT @RedGamingTech: #Zen 3 #EPYC Milan Sample L...</td>\n",
       "      <td>1.282227e+18</td>\n",
       "      <td>botxboxseriesx</td>\n",
       "      <td>-0.3400</td>\n",
       "      <td>Technology</td>\n",
       "      <td>AMD</td>\n",
       "    </tr>\n",
       "    <tr>\n",
       "      <th>6</th>\n",
       "      <td>2020-07-12 08:12:33</td>\n",
       "      <td>AMD</td>\n",
       "      <td>19</td>\n",
       "      <td>146</td>\n",
       "      <td>AMD</td>\n",
       "      <td>NaN</td>\n",
       "      <td>3.0</td>\n",
       "      <td>Tippy_Power</td>\n",
       "      <td>#AMD</td>\n",
       "      <td>RT @RedGamingTech: #Zen 3 #EPYC Milan Sample L...</td>\n",
       "      <td>1.282226e+18</td>\n",
       "      <td>Tippy</td>\n",
       "      <td>-0.3400</td>\n",
       "      <td>Technology</td>\n",
       "      <td>AMD</td>\n",
       "    </tr>\n",
       "    <tr>\n",
       "      <th>7</th>\n",
       "      <td>2020-07-12 08:11:41</td>\n",
       "      <td>AMD</td>\n",
       "      <td>69</td>\n",
       "      <td>135</td>\n",
       "      <td>AMD</td>\n",
       "      <td>Amsterdam</td>\n",
       "      <td>1.0</td>\n",
       "      <td>LinuxReviews</td>\n",
       "      <td>#AMD</td>\n",
       "      <td>#Linux architect Linus Torvalds: AVX512 Is \"A ...</td>\n",
       "      <td>1.282226e+18</td>\n",
       "      <td>LinuxReviews</td>\n",
       "      <td>-0.3612</td>\n",
       "      <td>Technology</td>\n",
       "      <td>AMD</td>\n",
       "    </tr>\n",
       "    <tr>\n",
       "      <th>8</th>\n",
       "      <td>2020-07-12 07:50:29</td>\n",
       "      <td>AMD</td>\n",
       "      <td>520</td>\n",
       "      <td>293</td>\n",
       "      <td>AMD</td>\n",
       "      <td>Wolverhampton</td>\n",
       "      <td>3.0</td>\n",
       "      <td>Wolves_LOC</td>\n",
       "      <td>#AMD</td>\n",
       "      <td>RT @CollegeOptomUK: #ResearchWednesday: Lookin...</td>\n",
       "      <td>1.282221e+18</td>\n",
       "      <td>WolvesLOC</td>\n",
       "      <td>0.0000</td>\n",
       "      <td>Technology</td>\n",
       "      <td>AMD</td>\n",
       "    </tr>\n",
       "    <tr>\n",
       "      <th>9</th>\n",
       "      <td>2020-07-12 07:30:05</td>\n",
       "      <td>AMD</td>\n",
       "      <td>369</td>\n",
       "      <td>899</td>\n",
       "      <td>AMD</td>\n",
       "      <td>NaN</td>\n",
       "      <td>0.0</td>\n",
       "      <td>cnxplayer</td>\n",
       "      <td>#AMD</td>\n",
       "      <td>Cast videos from Windows 10 PC and Surface to ...</td>\n",
       "      <td>1.282216e+18</td>\n",
       "      <td>CnX Player</td>\n",
       "      <td>0.4019</td>\n",
       "      <td>Technology</td>\n",
       "      <td>AMD</td>\n",
       "    </tr>\n",
       "  </tbody>\n",
       "</table>\n",
       "</div>"
      ],
      "text/plain": [
       "            created_at file_name  followers  friends group_name  \\\n",
       "0  2020-07-12 09:24:26       AMD         25      114        AMD   \n",
       "1  2020-07-12 09:09:36       AMD        159     1144        AMD   \n",
       "2  2020-07-12 08:37:31       AMD       4931        7        AMD   \n",
       "3  2020-07-12 08:31:24       AMD          9      188        AMD   \n",
       "4  2020-07-12 08:16:45       AMD       1719        1        AMD   \n",
       "5  2020-07-12 08:16:44       AMD        394        4        AMD   \n",
       "6  2020-07-12 08:12:33       AMD         19      146        AMD   \n",
       "7  2020-07-12 08:11:41       AMD         69      135        AMD   \n",
       "8  2020-07-12 07:50:29       AMD        520      293        AMD   \n",
       "9  2020-07-12 07:30:05       AMD        369      899        AMD   \n",
       "\n",
       "         location  retweet_count      screenname search_query  \\\n",
       "0  United Kingdom            0.0   moffphcgaming         #AMD   \n",
       "1    digitalverse            4.0      ironparr0t         #AMD   \n",
       "2             NaN            0.0     ASUS_ROG_IN         #AMD   \n",
       "3     HAHA no....            0.0     XApochrypha         #AMD   \n",
       "4    digitalocean            1.0     LinuxDreams         #AMD   \n",
       "5             NaN            3.0  botxboxseriesx         #AMD   \n",
       "6             NaN            3.0     Tippy_Power         #AMD   \n",
       "7       Amsterdam            1.0    LinuxReviews         #AMD   \n",
       "8   Wolverhampton            3.0      Wolves_LOC         #AMD   \n",
       "9             NaN            0.0       cnxplayer         #AMD   \n",
       "\n",
       "                                                text    twitter_id  \\\n",
       "0  Been on holiday so back now. Gonna try get som...  1.282244e+18   \n",
       "1  RT @NinjaParanoid: #AMD #Ryzen #3900x #rtx2070...  1.282241e+18   \n",
       "2  The Beast #StrixGA35 comes packed with Up to A...  1.282233e+18   \n",
       "3  Recently purchased everything for my first per...  1.282231e+18   \n",
       "4  RT @LinuxReviews: #Linux architect Linus Torva...  1.282227e+18   \n",
       "5  RT @RedGamingTech: #Zen 3 #EPYC Milan Sample L...  1.282227e+18   \n",
       "6  RT @RedGamingTech: #Zen 3 #EPYC Milan Sample L...  1.282226e+18   \n",
       "7  #Linux architect Linus Torvalds: AVX512 Is \"A ...  1.282226e+18   \n",
       "8  RT @CollegeOptomUK: #ResearchWednesday: Lookin...  1.282221e+18   \n",
       "9  Cast videos from Windows 10 PC and Surface to ...  1.282216e+18   \n",
       "\n",
       "           username  polarity partition_0 partition_1  \n",
       "0  🕹MoffPHC Gaming🕹   -0.3102  Technology         AMD  \n",
       "1        ironparrot    0.0000  Technology         AMD  \n",
       "2       ASUS ROG IN    0.0000  Technology         AMD  \n",
       "3   XenosApochrypha    0.0000  Technology         AMD  \n",
       "4       LinuxDreams   -0.3612  Technology         AMD  \n",
       "5    botxboxseriesx   -0.3400  Technology         AMD  \n",
       "6             Tippy   -0.3400  Technology         AMD  \n",
       "7      LinuxReviews   -0.3612  Technology         AMD  \n",
       "8         WolvesLOC    0.0000  Technology         AMD  \n",
       "9        CnX Player    0.4019  Technology         AMD  "
      ]
     },
     "execution_count": 23,
     "metadata": {},
     "output_type": "execute_result"
    }
   ],
   "source": [
    "df.head(10)"
   ]
  },
  {
   "cell_type": "code",
   "execution_count": 24,
   "metadata": {},
   "outputs": [
    {
     "data": {
      "text/html": [
       "<div>\n",
       "<style scoped>\n",
       "    .dataframe tbody tr th:only-of-type {\n",
       "        vertical-align: middle;\n",
       "    }\n",
       "\n",
       "    .dataframe tbody tr th {\n",
       "        vertical-align: top;\n",
       "    }\n",
       "\n",
       "    .dataframe thead th {\n",
       "        text-align: right;\n",
       "    }\n",
       "</style>\n",
       "<table border=\"1\" class=\"dataframe\">\n",
       "  <thead>\n",
       "    <tr style=\"text-align: right;\">\n",
       "      <th></th>\n",
       "      <th>followers</th>\n",
       "      <th>friends</th>\n",
       "      <th>retweet_count</th>\n",
       "      <th>twitter_id</th>\n",
       "      <th>polarity</th>\n",
       "    </tr>\n",
       "  </thead>\n",
       "  <tbody>\n",
       "    <tr>\n",
       "      <th>count</th>\n",
       "      <td>8.669090e+05</td>\n",
       "      <td>8.669090e+05</td>\n",
       "      <td>866908.000000</td>\n",
       "      <td>8.669060e+05</td>\n",
       "      <td>866906.000000</td>\n",
       "    </tr>\n",
       "    <tr>\n",
       "      <th>mean</th>\n",
       "      <td>7.812243e+03</td>\n",
       "      <td>2.061478e+03</td>\n",
       "      <td>214.432205</td>\n",
       "      <td>1.293729e+18</td>\n",
       "      <td>0.178377</td>\n",
       "    </tr>\n",
       "    <tr>\n",
       "      <th>std</th>\n",
       "      <td>1.279189e+05</td>\n",
       "      <td>1.242271e+04</td>\n",
       "      <td>2198.797271</td>\n",
       "      <td>7.378948e+15</td>\n",
       "      <td>0.394340</td>\n",
       "    </tr>\n",
       "    <tr>\n",
       "      <th>min</th>\n",
       "      <td>0.000000e+00</td>\n",
       "      <td>0.000000e+00</td>\n",
       "      <td>0.000000</td>\n",
       "      <td>1.280654e+18</td>\n",
       "      <td>-0.997500</td>\n",
       "    </tr>\n",
       "    <tr>\n",
       "      <th>25%</th>\n",
       "      <td>6.500000e+01</td>\n",
       "      <td>8.100000e+01</td>\n",
       "      <td>0.000000</td>\n",
       "      <td>1.287009e+18</td>\n",
       "      <td>0.000000</td>\n",
       "    </tr>\n",
       "    <tr>\n",
       "      <th>50%</th>\n",
       "      <td>3.390000e+02</td>\n",
       "      <td>3.150000e+02</td>\n",
       "      <td>0.000000</td>\n",
       "      <td>1.293231e+18</td>\n",
       "      <td>0.000000</td>\n",
       "    </tr>\n",
       "    <tr>\n",
       "      <th>75%</th>\n",
       "      <td>1.702000e+03</td>\n",
       "      <td>1.196000e+03</td>\n",
       "      <td>2.000000</td>\n",
       "      <td>1.300224e+18</td>\n",
       "      <td>0.493900</td>\n",
       "    </tr>\n",
       "    <tr>\n",
       "      <th>max</th>\n",
       "      <td>1.444344e+07</td>\n",
       "      <td>1.168982e+06</td>\n",
       "      <td>82606.000000</td>\n",
       "      <td>1.307191e+18</td>\n",
       "      <td>0.996800</td>\n",
       "    </tr>\n",
       "  </tbody>\n",
       "</table>\n",
       "</div>"
      ],
      "text/plain": [
       "          followers       friends  retweet_count    twitter_id       polarity\n",
       "count  8.669090e+05  8.669090e+05  866908.000000  8.669060e+05  866906.000000\n",
       "mean   7.812243e+03  2.061478e+03     214.432205  1.293729e+18       0.178377\n",
       "std    1.279189e+05  1.242271e+04    2198.797271  7.378948e+15       0.394340\n",
       "min    0.000000e+00  0.000000e+00       0.000000  1.280654e+18      -0.997500\n",
       "25%    6.500000e+01  8.100000e+01       0.000000  1.287009e+18       0.000000\n",
       "50%    3.390000e+02  3.150000e+02       0.000000  1.293231e+18       0.000000\n",
       "75%    1.702000e+03  1.196000e+03       2.000000  1.300224e+18       0.493900\n",
       "max    1.444344e+07  1.168982e+06   82606.000000  1.307191e+18       0.996800"
      ]
     },
     "execution_count": 24,
     "metadata": {},
     "output_type": "execute_result"
    }
   ],
   "source": [
    "df.describe()"
   ]
  },
  {
   "cell_type": "code",
   "execution_count": 34,
   "metadata": {},
   "outputs": [
    {
     "data": {
      "text/plain": [
       "0         🕹MoffPHC Gaming🕹\n",
       "1               ironparrot\n",
       "2              ASUS ROG IN\n",
       "3          XenosApochrypha\n",
       "4              LinuxDreams\n",
       "5           botxboxseriesx\n",
       "6                    Tippy\n",
       "7             LinuxReviews\n",
       "8                WolvesLOC\n",
       "9               CnX Player\n",
       "10           don’t mind me\n",
       "11             Twitch Buds\n",
       "12    Boo Boo Kitty Fuck 😺\n",
       "13           Cool Tech Bot\n",
       "14                Lamar MK\n",
       "15            Re:Gamertron\n",
       "16             MBT TRADERS\n",
       "17              DhW SKILLZ\n",
       "18              DivinityRT\n",
       "19                  PCgeek\n",
       "Name: username, dtype: object"
      ]
     },
     "execution_count": 34,
     "metadata": {},
     "output_type": "execute_result"
    }
   ],
   "source": [
    "df.head(20)['username']"
   ]
  },
  {
   "cell_type": "code",
   "execution_count": null,
   "metadata": {},
   "outputs": [],
   "source": [
    "## Using Regular Expressins to Search Text ##"
   ]
  },
  {
   "cell_type": "code",
   "execution_count": 17,
   "metadata": {},
   "outputs": [
    {
     "data": {
      "text/plain": [
       "'127.0.0.1'"
      ]
     },
     "execution_count": 17,
     "metadata": {},
     "output_type": "execute_result"
    }
   ],
   "source": [
    "import re\n",
    "\n",
    "'''In this case we work with Coomon Log Format (CLF)'''\n",
    "\n",
    "line = '127.0.0.1 - rj [13/Nov/2019:14:43:30] \"GET HTTP/1.0\" 200'\n",
    "\n",
    "# Get the IP with regex\n",
    "matched = re.search(r'(?P<IP>\\d+.\\d+.\\d+.\\d+)', line)\n",
    "\n",
    "matched.group('IP')\n"
   ]
  },
  {
   "cell_type": "code",
   "execution_count": 50,
   "metadata": {},
   "outputs": [
    {
     "data": {
      "text/plain": [
       "'13/Nov/2019:14:43:30'"
      ]
     },
     "execution_count": 50,
     "metadata": {},
     "output_type": "execute_result"
    }
   ],
   "source": [
    "# Get the time with regex from CLF\n",
    "matched = re.search(r'\\[(?P<time>\\d{2}/\\w{3}/\\d{4}(:\\d{2}){3})\\]', line) \n",
    "matched\n",
    "\n",
    "matched.group('time')"
   ]
  },
  {
   "cell_type": "code",
   "execution_count": null,
   "metadata": {},
   "outputs": [],
   "source": [
    "import re\n",
    "# Get multiple elements IP, user, time and request.\n",
    "line = '127.0.0.1 - rj [13/Nov/2019:14:43:30] \"GET HTTP/1.0\" 200'\n",
    "regex_IP = r'(?P<IP>(\\d{1,3}.){3}\\d{1,3})'\n",
    "regex_User = r' - (?P<User>\\w+)'\n",
    "regex_Time = r' (?P<Time>\\[\\d{2}/\\w{3}/\\d{4}(:\\d{2}){3}\\])'\n",
    "regex_Request = r' (?P<Request>\"(GET|POST|PUT|DELETE) HTTP/[1|2].[0|1]\")'\n",
    "regex = regex_IP + regex_User + regex_Time + regex_Request\n",
    "# regex = regex_Request\n",
    "matched = re.search(regex, line)\n",
    "print(f\"IP: {matched.group('IP')}\")\n",
    "print(f\"User: {matched.group('User')}\")\n",
    "print(f\"Time: {matched.group('Time')}\")\n",
    "print(f\"Request: {matched.group('Request')}\")"
   ]
  },
  {
   "cell_type": "code",
   "execution_count": null,
   "metadata": {},
   "outputs": [],
   "source": [
    "## Dealing with Large Files ##"
   ]
  },
  {
   "cell_type": "code",
   "execution_count": null,
   "metadata": {},
   "outputs": [],
   "source": [
    "with open('resources/aapl.us.txt', 'r') as source_file:\n",
    "    with open('resources/aapl_us-corrected.txt', 'w') as target_file:\n",
    "        for line in source_file:\n",
    "            target_file.write(line)\n",
    "    \n",
    "!more -n 10 'resources/aapl_us-corrected.txt'"
   ]
  },
  {
   "cell_type": "code",
   "execution_count": null,
   "metadata": {},
   "outputs": [],
   "source": [
    "def line_reader(file_path):\n",
    "    with open(file_path, 'r') as source_file:\n",
    "        for line in source_file:\n",
    "            yield line\n",
    "        if not source_file.closed:\n",
    "            source_file.close\n",
    "\n",
    "def line_writer(target, reader_fn, source):\n",
    "    reader = reader_fn(source)\n",
    "    with open(target, 'w') as target_file:\n",
    "        for line in reader:\n",
    "            target_file.write(line)\n",
    "        if not target_file.closed:\n",
    "            target_file.close\n",
    "\n",
    "source_file_path = \"resources/aapl.us.txt\"\n",
    "target_file_path = \"resources/aapl_us.txt\"\n",
    "\n",
    "line_writer(target_file_path, line_reader, source_file_path)"
   ]
  },
  {
   "cell_type": "code",
   "execution_count": null,
   "metadata": {},
   "outputs": [],
   "source": [
    "import pandas as pd\n",
    "\n",
    "count = 0\n",
    "df = pd.read_csv(\"resources/aapl.us.csv\")\n",
    "type(df)"
   ]
  },
  {
   "cell_type": "code",
   "execution_count": null,
   "metadata": {},
   "outputs": [],
   "source": [
    "df.head(2)"
   ]
  }
 ],
 "metadata": {
  "kernelspec": {
   "display_name": "Python 3",
   "language": "python",
   "name": "python3"
  },
  "language_info": {
   "codemirror_mode": {
    "name": "ipython",
    "version": 3
   },
   "file_extension": ".py",
   "mimetype": "text/x-python",
   "name": "python",
   "nbconvert_exporter": "python",
   "pygments_lexer": "ipython3",
   "version": "3.8.2"
  }
 },
 "nbformat": 4,
 "nbformat_minor": 4
}
